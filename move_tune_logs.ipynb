{
 "cells": [
  {
   "cell_type": "code",
   "execution_count": 1,
   "metadata": {
    "ExecuteTime": {
     "end_time": "2021-03-22T15:44:59.836534Z",
     "start_time": "2021-03-22T15:44:59.652109Z"
    }
   },
   "outputs": [],
   "source": [
    "from pathlib import Path\n",
    "import shutil\n",
    "\n",
    "import mutils"
   ]
  },
  {
   "cell_type": "code",
   "execution_count": 26,
   "metadata": {
    "ExecuteTime": {
     "end_time": "2021-03-22T15:47:17.883581Z",
     "start_time": "2021-03-22T15:47:17.878319Z"
    }
   },
   "outputs": [],
   "source": [
    "tune_path = Path('/root/ray_results/tune_lonly_asha_bayes_500_2/')"
   ]
  },
  {
   "cell_type": "code",
   "execution_count": 27,
   "metadata": {
    "ExecuteTime": {
     "end_time": "2021-03-22T15:47:18.083873Z",
     "start_time": "2021-03-22T15:47:18.076339Z"
    }
   },
   "outputs": [],
   "source": [
    "def move_every_subfolder(subfolder):\n",
    "    for d in list(tune_path.glob(f'*/logs/{subfolder}/*')):\n",
    "        shutil.move(str(d), str(Path(f'logs/{subfolder}')))"
   ]
  },
  {
   "cell_type": "code",
   "execution_count": 28,
   "metadata": {
    "ExecuteTime": {
     "end_time": "2021-03-22T15:47:18.289510Z",
     "start_time": "2021-03-22T15:47:18.260132Z"
    }
   },
   "outputs": [],
   "source": [
    "move_every_subfolder('csv')"
   ]
  },
  {
   "cell_type": "code",
   "execution_count": 29,
   "metadata": {
    "ExecuteTime": {
     "end_time": "2021-03-22T15:47:18.890336Z",
     "start_time": "2021-03-22T15:47:18.644500Z"
    }
   },
   "outputs": [],
   "source": [
    "move_every_subfolder('weights')"
   ]
  }
 ],
 "metadata": {
  "kernelspec": {
   "display_name": "Python 3",
   "language": "python",
   "name": "python3"
  },
  "language_info": {
   "codemirror_mode": {
    "name": "ipython",
    "version": 3
   },
   "file_extension": ".py",
   "mimetype": "text/x-python",
   "name": "python",
   "nbconvert_exporter": "python",
   "pygments_lexer": "ipython3",
   "version": "3.7.6"
  },
  "toc": {
   "base_numbering": 1,
   "nav_menu": {},
   "number_sections": false,
   "sideBar": true,
   "skip_h1_title": false,
   "title_cell": "Table of Contents",
   "title_sidebar": "Contents",
   "toc_cell": false,
   "toc_position": {},
   "toc_section_display": true,
   "toc_window_display": false
  }
 },
 "nbformat": 4,
 "nbformat_minor": 2
}
