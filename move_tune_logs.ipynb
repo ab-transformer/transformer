{
 "cells": [
  {
   "cell_type": "code",
   "execution_count": 17,
   "metadata": {
    "ExecuteTime": {
     "end_time": "2021-03-19T14:06:17.977528Z",
     "start_time": "2021-03-19T14:06:17.972074Z"
    }
   },
   "outputs": [],
   "source": [
    "from pathlib import Path\n",
    "import shutil\n",
    "\n",
    "import mutils"
   ]
  },
  {
   "cell_type": "code",
   "execution_count": 3,
   "metadata": {
    "ExecuteTime": {
     "end_time": "2021-03-19T13:53:19.218133Z",
     "start_time": "2021-03-19T13:53:19.213941Z"
    }
   },
   "outputs": [],
   "source": [
    "tune_path = Path('/root/ray_results/tune_lonly_asha_500/')"
   ]
  },
  {
   "cell_type": "code",
   "execution_count": 30,
   "metadata": {
    "ExecuteTime": {
     "end_time": "2021-03-19T14:16:49.335437Z",
     "start_time": "2021-03-19T14:16:49.328106Z"
    }
   },
   "outputs": [],
   "source": [
    "def move_every_subfolder(subfolder):\n",
    "    for d in list(tune_path.glob(f'*/logs/{subfolder}/*')):\n",
    "        shutil.move(str(d), str(Path(f'logs/{subfolder}')))"
   ]
  },
  {
   "cell_type": "code",
   "execution_count": 31,
   "metadata": {
    "ExecuteTime": {
     "end_time": "2021-03-19T14:16:54.534536Z",
     "start_time": "2021-03-19T14:16:54.022265Z"
    }
   },
   "outputs": [],
   "source": [
    "move_every_subfolder('csv')"
   ]
  },
  {
   "cell_type": "code",
   "execution_count": 28,
   "metadata": {
    "ExecuteTime": {
     "end_time": "2021-03-19T14:10:04.771679Z",
     "start_time": "2021-03-19T14:10:04.715420Z"
    }
   },
   "outputs": [
    {
     "data": {
      "text/plain": [
       "'logs2/weights/4652aa2d13cc4618b6c022db3ed7a9a5_lonly_asha_500'"
      ]
     },
     "execution_count": 28,
     "metadata": {},
     "output_type": "execute_result"
    }
   ],
   "source": [
    "subfolder = 'weights'\n",
    "d = list(tune_path.glob(f'*/logs/{subfolder}/*'))[0]\n",
    "shutil.move(str(d), str(Path(f'logs2/{subfolder}')))"
   ]
  },
  {
   "cell_type": "code",
   "execution_count": 12,
   "metadata": {
    "ExecuteTime": {
     "end_time": "2021-03-19T13:59:09.015934Z",
     "start_time": "2021-03-19T13:59:09.008101Z"
    }
   },
   "outputs": [
    {
     "data": {
      "text/plain": [
       "PosixPath('logs/csv')"
      ]
     },
     "execution_count": 12,
     "metadata": {},
     "output_type": "execute_result"
    }
   ],
   "source": [
    "mutils.csv_dir"
   ]
  },
  {
   "cell_type": "code",
   "execution_count": 27,
   "metadata": {
    "ExecuteTime": {
     "end_time": "2021-03-19T14:08:46.521014Z",
     "start_time": "2021-03-19T14:08:46.503050Z"
    }
   },
   "outputs": [
    {
     "data": {
      "text/plain": [
       "'logs2/csv/1a88430d7db24720bce09470a522c668'"
      ]
     },
     "execution_count": 27,
     "metadata": {},
     "output_type": "execute_result"
    }
   ],
   "source": [
    "shutil.move(str(d), str(Path('logs2/csv')))"
   ]
  },
  {
   "cell_type": "code",
   "execution_count": null,
   "metadata": {},
   "outputs": [],
   "source": []
  }
 ],
 "metadata": {
  "kernelspec": {
   "display_name": "Python 3",
   "language": "python",
   "name": "python3"
  },
  "language_info": {
   "codemirror_mode": {
    "name": "ipython",
    "version": 3
   },
   "file_extension": ".py",
   "mimetype": "text/x-python",
   "name": "python",
   "nbconvert_exporter": "python",
   "pygments_lexer": "ipython3",
   "version": "3.7.6"
  },
  "toc": {
   "base_numbering": 1,
   "nav_menu": {},
   "number_sections": false,
   "sideBar": true,
   "skip_h1_title": false,
   "title_cell": "Table of Contents",
   "title_sidebar": "Contents",
   "toc_cell": false,
   "toc_position": {},
   "toc_section_display": true,
   "toc_window_display": false
  }
 },
 "nbformat": 4,
 "nbformat_minor": 2
}
