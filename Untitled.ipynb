{
 "cells": [
  {
   "cell_type": "code",
   "execution_count": 1,
   "metadata": {
    "ExecuteTime": {
     "end_time": "2021-03-31T19:57:50.223406Z",
     "start_time": "2021-03-31T19:57:49.108162Z"
    }
   },
   "outputs": [
    {
     "name": "stderr",
     "output_type": "stream",
     "text": [
      "/opt/conda/lib/python3.7/site-packages/torchaudio/backend/utils.py:54: UserWarning: \"sox\" backend is being deprecated. The default backend will be changed to \"sox_io\" backend in 0.8.0 and \"sox\" backend will be removed in 0.9.0. Please migrate to \"sox_io\" backend. Please refer to https://github.com/pytorch/audio/issues/903 for the detail.\n",
      "  '\"sox\" backend is being deprecated. '\n"
     ]
    }
   ],
   "source": [
    "from pathlib import Path\n",
    "\n",
    "import soundfile as sf\n",
    "import numpy as np\n",
    "import torch as th\n",
    "from transformers import Wav2Vec2Tokenizer, Wav2Vec2Model\n",
    "from torchaudio.transforms import Resample\n",
    "from tqdm import tqdm"
   ]
  },
  {
   "cell_type": "code",
   "execution_count": 2,
   "metadata": {
    "ExecuteTime": {
     "end_time": "2021-03-31T19:58:02.306748Z",
     "start_time": "2021-03-31T19:58:02.260971Z"
    }
   },
   "outputs": [],
   "source": [
    "audio_dir = Path(\"/impressionv2_faces/audio/\")\n",
    "videos = list(audio_dir.glob(\"*.wav\"))"
   ]
  },
  {
   "cell_type": "code",
   "execution_count": 3,
   "metadata": {
    "ExecuteTime": {
     "end_time": "2021-03-31T20:00:45.058250Z",
     "start_time": "2021-03-31T19:59:14.706655Z"
    }
   },
   "outputs": [
    {
     "name": "stderr",
     "output_type": "stream",
     "text": [
      "100%|██████████| 10000/10000 [00:59<00:00, 167.44it/s]\n"
     ]
    }
   ],
   "source": [
    "data_list = [sf.read(video_path) for video_path in tqdm(videos)]"
   ]
  },
  {
   "cell_type": "code",
   "execution_count": 4,
   "metadata": {
    "ExecuteTime": {
     "end_time": "2021-03-31T20:01:57.543768Z",
     "start_time": "2021-03-31T20:01:57.533547Z"
    }
   },
   "outputs": [],
   "source": [
    "assert len(np.unique([d[1] for d in data_list])) == 1"
   ]
  },
  {
   "cell_type": "code",
   "execution_count": 5,
   "metadata": {
    "ExecuteTime": {
     "end_time": "2021-03-31T20:08:05.265110Z",
     "start_time": "2021-03-31T20:07:56.086311Z"
    }
   },
   "outputs": [],
   "source": [
    "tokenizer = Wav2Vec2Tokenizer.from_pretrained(\n",
    "    \"facebook/wav2vec2-base-960h\"\n",
    ")\n",
    "raw_model = Wav2Vec2Model.from_pretrained(\n",
    "    \"facebook/wav2vec2-base-960h\"\n",
    ").cuda()"
   ]
  },
  {
   "cell_type": "code",
   "execution_count": 6,
   "metadata": {
    "ExecuteTime": {
     "end_time": "2021-03-31T20:03:29.357468Z",
     "start_time": "2021-03-31T20:03:29.342557Z"
    }
   },
   "outputs": [],
   "source": [
    "sampling_rate = data_list[0][1]\n",
    "resampler = Resample(sampling_rate)"
   ]
  },
  {
   "cell_type": "code",
   "execution_count": 7,
   "metadata": {
    "ExecuteTime": {
     "end_time": "2021-03-31T20:06:35.871419Z",
     "start_time": "2021-03-31T20:06:35.865938Z"
    }
   },
   "outputs": [],
   "source": [
    "audio_input, sampling_rate = data_list[0]"
   ]
  },
  {
   "cell_type": "code",
   "execution_count": 8,
   "metadata": {
    "ExecuteTime": {
     "end_time": "2021-03-31T20:06:44.495304Z",
     "start_time": "2021-03-31T20:06:44.490047Z"
    }
   },
   "outputs": [],
   "source": [
    "resampler = Resample(sampling_rate)"
   ]
  },
  {
   "cell_type": "code",
   "execution_count": 9,
   "metadata": {
    "ExecuteTime": {
     "end_time": "2021-03-31T20:06:53.075842Z",
     "start_time": "2021-03-31T20:06:52.573680Z"
    }
   },
   "outputs": [],
   "source": [
    "audio_input = resampler(th.tensor(audio_input))"
   ]
  },
  {
   "cell_type": "code",
   "execution_count": 10,
   "metadata": {
    "ExecuteTime": {
     "end_time": "2021-03-31T20:08:13.029617Z",
     "start_time": "2021-03-31T20:08:10.951814Z"
    }
   },
   "outputs": [],
   "source": [
    "input_values = tokenizer(audio_input, return_tensors=\"pt\").input_values.cuda()"
   ]
  },
  {
   "cell_type": "code",
   "execution_count": 11,
   "metadata": {
    "ExecuteTime": {
     "end_time": "2021-03-31T20:08:26.037506Z",
     "start_time": "2021-03-31T20:08:25.927935Z"
    }
   },
   "outputs": [],
   "source": [
    "hidden_state = raw_model(input_values).last_hidden_state"
   ]
  },
  {
   "cell_type": "code",
   "execution_count": 13,
   "metadata": {},
   "outputs": [
    {
     "data": {
      "text/plain": [
       "torch.Size([1, 764, 768])"
      ]
     },
     "execution_count": 13,
     "metadata": {},
     "output_type": "execute_result"
    }
   ],
   "source": [
    "hidden_state.shape"
   ]
  },
  {
   "cell_type": "code",
   "execution_count": null,
   "metadata": {},
   "outputs": [],
   "source": [
    "import concurrent.futures"
   ]
  },
  {
   "cell_type": "code",
   "execution_count": null,
   "metadata": {},
   "outputs": [],
   "source": []
  },
  {
   "cell_type": "code",
   "execution_count": null,
   "metadata": {
    "ExecuteTime": {
     "end_time": "2021-03-31T20:04:04.893619Z",
     "start_time": "2021-03-31T20:04:04.879285Z"
    }
   },
   "outputs": [],
   "source": [
    "audio_data_list = [d[0] for d in data_list]"
   ]
  },
  {
   "cell_type": "code",
   "execution_count": null,
   "metadata": {},
   "outputs": [],
   "source": [
    "correct_len[d.shape for d in audio_data_list]"
   ]
  },
  {
   "cell_type": "code",
   "execution_count": null,
   "metadata": {
    "ExecuteTime": {
     "end_time": "2021-03-31T20:04:58.175217Z",
     "start_time": "2021-03-31T20:04:58.157428Z"
    }
   },
   "outputs": [],
   "source": [
    "a, b = np.unique([d.shape for d in audio_data_list], return_counts=True)\n",
    "list(zip(a, b))"
   ]
  },
  {
   "cell_type": "code",
   "execution_count": 3,
   "metadata": {
    "ExecuteTime": {
     "end_time": "2021-03-31T20:47:50.523465Z",
     "start_time": "2021-03-31T20:47:50.515742Z"
    }
   },
   "outputs": [],
   "source": [
    "import multiprocessing as mp\n",
    "\n",
    "from tqdm import tqdm\n",
    "\n",
    "from wav2vec2etract import *"
   ]
  },
  {
   "cell_type": "code",
   "execution_count": 7,
   "metadata": {
    "ExecuteTime": {
     "end_time": "2021-03-31T20:49:16.454329Z",
     "start_time": "2021-03-31T20:49:12.360618Z"
    }
   },
   "outputs": [],
   "source": [
    "extractor = Wav2VecExtract(th.device(\"cuda\"))\n",
    "audio_dir = Path(\"/impressionv2_faces/audio/\")\n",
    "videos = list(audio_dir.glob(\"*.wav\"))\n",
    "pool = mp.Pool(processes=24)"
   ]
  },
  {
   "cell_type": "code",
   "execution_count": null,
   "metadata": {
    "ExecuteTime": {
     "start_time": "2021-03-31T20:49:15.779Z"
    }
   },
   "outputs": [],
   "source": [
    "def fun(audio):\n",
    "    tokenizer = Wav2VecTokenizer()\n",
    "    return tokenizer.tokenize(audio)\n",
    "\n",
    "input_values_list = pool.map(fun, videos)\n",
    "\n",
    "for video_path, input_values in zip(videos, input_values_list):\n",
    "    video_name = video_path.stem\n",
    "    feature_path = audio_dir / f\"{video_name}_wav2vec2.npy\"\n",
    "    extractor.predict(video_path, feature_path)"
   ]
  },
  {
   "cell_type": "code",
   "execution_count": null,
   "metadata": {},
   "outputs": [],
   "source": []
  }
 ],
 "metadata": {
  "kernelspec": {
   "display_name": "Python 3",
   "language": "python",
   "name": "python3"
  },
  "language_info": {
   "codemirror_mode": {
    "name": "ipython",
    "version": 3
   },
   "file_extension": ".py",
   "mimetype": "text/x-python",
   "name": "python",
   "nbconvert_exporter": "python",
   "pygments_lexer": "ipython3",
   "version": "3.7.6"
  },
  "toc": {
   "base_numbering": 1,
   "nav_menu": {},
   "number_sections": false,
   "sideBar": true,
   "skip_h1_title": false,
   "title_cell": "Table of Contents",
   "title_sidebar": "Contents",
   "toc_cell": false,
   "toc_position": {},
   "toc_section_display": true,
   "toc_window_display": false
  }
 },
 "nbformat": 4,
 "nbformat_minor": 4
}
