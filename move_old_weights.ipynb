{
 "cells": [
  {
   "cell_type": "code",
   "execution_count": 1,
   "metadata": {
    "ExecuteTime": {
     "end_time": "2021-03-22T09:00:03.775513Z",
     "start_time": "2021-03-22T09:00:03.770947Z"
    }
   },
   "outputs": [],
   "source": [
    "from pathlib import Path\n",
    "import shutil"
   ]
  },
  {
   "cell_type": "code",
   "execution_count": 2,
   "metadata": {
    "ExecuteTime": {
     "end_time": "2021-03-22T09:00:03.784488Z",
     "start_time": "2021-03-22T09:00:03.778337Z"
    }
   },
   "outputs": [],
   "source": [
    "dir_name = 'my_exp_name_find_lr'\n",
    "project_name = 'find_lr'"
   ]
  },
  {
   "cell_type": "code",
   "execution_count": 3,
   "metadata": {
    "ExecuteTime": {
     "end_time": "2021-03-22T09:00:03.893672Z",
     "start_time": "2021-03-22T09:00:03.786347Z"
    }
   },
   "outputs": [],
   "source": [
    "for d in Path(dir_name).glob('*'):\n",
    "    experiement_key = d.stem[2:]\n",
    "    new_d = Path('logs')/'weights'/f'{experiement_key}_{project_name}'/f'0_{experiement_key}'\n",
    "    shutil.move(str(d), str(new_d))"
   ]
  }
 ],
 "metadata": {
  "kernelspec": {
   "display_name": "Python 3",
   "language": "python",
   "name": "python3"
  },
  "language_info": {
   "codemirror_mode": {
    "name": "ipython",
    "version": 3
   },
   "file_extension": ".py",
   "mimetype": "text/x-python",
   "name": "python",
   "nbconvert_exporter": "python",
   "pygments_lexer": "ipython3",
   "version": "3.7.6"
  },
  "toc": {
   "base_numbering": 1,
   "nav_menu": {},
   "number_sections": false,
   "sideBar": true,
   "skip_h1_title": false,
   "title_cell": "Table of Contents",
   "title_sidebar": "Contents",
   "toc_cell": false,
   "toc_position": {},
   "toc_section_display": true,
   "toc_window_display": false
  }
 },
 "nbformat": 4,
 "nbformat_minor": 2
}
