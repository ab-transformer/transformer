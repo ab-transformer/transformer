{
 "cells": [
  {
   "cell_type": "code",
   "execution_count": 1,
   "metadata": {
    "ExecuteTime": {
     "end_time": "2021-03-17T11:08:39.868953Z",
     "start_time": "2021-03-17T11:08:37.644994Z"
    }
   },
   "outputs": [],
   "source": [
    "from pathlib import Path\n",
    "\n",
    "import torch as th\n",
    "import pytorch_lightning as pl\n",
    "\n",
    "from lightningmodule import MULTModelWarped\n",
    "from datasets import load_impressionv2_dataset_all"
   ]
  },
  {
   "cell_type": "code",
   "execution_count": 2,
   "metadata": {
    "ExecuteTime": {
     "end_time": "2021-03-17T11:08:39.876774Z",
     "start_time": "2021-03-17T11:08:39.873638Z"
    }
   },
   "outputs": [],
   "source": [
    "project_name = 'shuffle'\n",
    "experiement_key = 'f7753cda73dd47399120496c09a5d5d1'"
   ]
  },
  {
   "cell_type": "code",
   "execution_count": 3,
   "metadata": {
    "ExecuteTime": {
     "end_time": "2021-03-17T11:08:48.293121Z",
     "start_time": "2021-03-17T11:08:39.879311Z"
    }
   },
   "outputs": [],
   "source": [
    "[train_ds, valid_ds, test_ds], target_names = load_impressionv2_dataset_all()\n",
    "train_dl = th.utils.data.DataLoader(\n",
    "    train_ds, batch_size=8, pin_memory=True,\n",
    ")\n",
    "valid_dl = th.utils.data.DataLoader(\n",
    "    valid_ds, batch_size=8, pin_memory=True,\n",
    ")\n",
    "test_dl = th.utils.data.DataLoader(\n",
    "    test_ds, batch_size=8, pin_memory=True,\n",
    ")"
   ]
  },
  {
   "cell_type": "code",
   "execution_count": 4,
   "metadata": {
    "ExecuteTime": {
     "end_time": "2021-03-17T11:08:48.302563Z",
     "start_time": "2021-03-17T11:08:48.297036Z"
    }
   },
   "outputs": [],
   "source": [
    "checkpoint_dir = Path('logs')/'weights'/f'{experiement_key}_{project_name}'/f'0_{experiement_key}'/'checkpoints'\n",
    "ckpts = list(checkpoint_dir.glob('*.ckpt'))\n",
    "assert len(ckpts) == 1\n",
    "ckpt = ckpts[0]"
   ]
  },
  {
   "cell_type": "code",
   "execution_count": 5,
   "metadata": {
    "ExecuteTime": {
     "end_time": "2021-03-17T11:08:52.010919Z",
     "start_time": "2021-03-17T11:08:48.304414Z"
    }
   },
   "outputs": [],
   "source": [
    "ck = th.load(ckpt)"
   ]
  },
  {
   "cell_type": "code",
   "execution_count": 6,
   "metadata": {
    "ExecuteTime": {
     "end_time": "2021-03-17T11:08:52.018369Z",
     "start_time": "2021-03-17T11:08:52.013618Z"
    }
   },
   "outputs": [],
   "source": [
    "from argparse import Namespace\n",
    "hyp_params = Namespace(**ck['hyper_parameters'])"
   ]
  },
  {
   "cell_type": "code",
   "execution_count": 7,
   "metadata": {
    "ExecuteTime": {
     "end_time": "2021-03-17T11:08:52.046825Z",
     "start_time": "2021-03-17T11:08:52.020766Z"
    }
   },
   "outputs": [
    {
     "name": "stderr",
     "output_type": "stream",
     "text": [
      "GPU available: True, used: True\n",
      "TPU available: None, using: 0 TPU cores\n"
     ]
    }
   ],
   "source": [
    "trainer = pl.Trainer(gpus=1)"
   ]
  },
  {
   "cell_type": "code",
   "execution_count": 8,
   "metadata": {
    "ExecuteTime": {
     "end_time": "2021-03-17T11:08:52.112743Z",
     "start_time": "2021-03-17T11:08:52.051207Z"
    }
   },
   "outputs": [],
   "source": [
    "model = MULTModelWarped(hyp_params, target_names=target_names, early_stopping=None)"
   ]
  },
  {
   "cell_type": "code",
   "execution_count": 9,
   "metadata": {
    "ExecuteTime": {
     "end_time": "2021-03-17T11:08:52.201062Z",
     "start_time": "2021-03-17T11:08:52.115592Z"
    }
   },
   "outputs": [
    {
     "data": {
      "text/plain": [
       "<All keys matched successfully>"
      ]
     },
     "execution_count": 9,
     "metadata": {},
     "output_type": "execute_result"
    }
   ],
   "source": [
    "model.load_state_dict(ck['state_dict'])"
   ]
  },
  {
   "cell_type": "code",
   "execution_count": 10,
   "metadata": {
    "ExecuteTime": {
     "end_time": "2021-03-17T11:16:55.682459Z",
     "start_time": "2021-03-17T11:08:52.204104Z"
    }
   },
   "outputs": [
    {
     "name": "stderr",
     "output_type": "stream",
     "text": [
      "/opt/conda/lib/python3.7/site-packages/tensorflow_core/python/framework/dtypes.py:597: DeprecationWarning: `np.object` is a deprecated alias for the builtin `object`. To silence this warning, use `object` by itself. Doing this will not modify any behavior and is safe. \n",
      "Deprecated in NumPy 1.20; for more details and guidance: https://numpy.org/devdocs/release/1.20.0-notes.html#deprecations\n",
      "  np.object,\n",
      "/opt/conda/lib/python3.7/site-packages/tensorflow_core/python/framework/dtypes.py:605: DeprecationWarning: `np.bool` is a deprecated alias for the builtin `bool`. To silence this warning, use `bool` by itself. Doing this will not modify any behavior and is safe. If you specifically wanted the numpy scalar type, use `np.bool_` here.\n",
      "Deprecated in NumPy 1.20; for more details and guidance: https://numpy.org/devdocs/release/1.20.0-notes.html#deprecations\n",
      "  np.bool,\n",
      "/opt/conda/lib/python3.7/site-packages/tensorflow_core/python/framework/tensor_util.py:106: DeprecationWarning: `np.object` is a deprecated alias for the builtin `object`. To silence this warning, use `object` by itself. Doing this will not modify any behavior and is safe. \n",
      "Deprecated in NumPy 1.20; for more details and guidance: https://numpy.org/devdocs/release/1.20.0-notes.html#deprecations\n",
      "  np.object:\n",
      "/opt/conda/lib/python3.7/site-packages/tensorflow_core/python/framework/tensor_util.py:108: DeprecationWarning: `np.bool` is a deprecated alias for the builtin `bool`. To silence this warning, use `bool` by itself. Doing this will not modify any behavior and is safe. If you specifically wanted the numpy scalar type, use `np.bool_` here.\n",
      "Deprecated in NumPy 1.20; for more details and guidance: https://numpy.org/devdocs/release/1.20.0-notes.html#deprecations\n",
      "  np.bool:\n",
      "/opt/conda/lib/python3.7/site-packages/pytorch_lightning/utilities/distributed.py:50: UserWarning: The dataloader, test dataloader 0, does not have many workers which may be a bottleneck. Consider increasing the value of the `num_workers` argument` (try 48 which is the number of cpus on this machine) in the `DataLoader` init to improve performance.\n",
      "  warnings.warn(*args, **kwargs)\n"
     ]
    },
    {
     "data": {
      "application/vnd.jupyter.widget-view+json": {
       "model_id": "5a6688c5d1254b72a340675ba5922dce",
       "version_major": 2,
       "version_minor": 0
      },
      "text/plain": [
       "HBox(children=(FloatProgress(value=1.0, bar_style='info', description='Testing', layout=Layout(flex='2'), max=…"
      ]
     },
     "metadata": {},
     "output_type": "display_data"
    },
    {
     "name": "stderr",
     "output_type": "stream",
     "text": [
      "/workspace/transformer/modules/position_embedding.py:23: UserWarning: The number of elements in the out tensor of shape [60] is 60 which does not match the computed number of elements 1526. Note that this may occur as a result of rounding error. The out tensor will be resized to a tensor of shape (1526,). (Triggered internally at  /pytorch/aten/src/ATen/native/cuda/RangeFactories.cu:266.)\n",
      "  torch.arange(padding_idx + 1, max_pos, out=getattr(make_positions, buf_name))\n"
     ]
    },
    {
     "name": "stdout",
     "output_type": "stream",
     "text": [
      "\n",
      "--------------------------------------------------------------------------------\n",
      "DATALOADER:0 TEST RESULTS\n",
      "{'test_1mae': 0.8963922262191772,\n",
      " 'test_1mae_agreeableness': 0.8885659575462341,\n",
      " 'test_1mae_conscientiousness': 0.8455855250358582,\n",
      " 'test_1mae_extraversion': 0.9155563116073608,\n",
      " 'test_1mae_neuroticism': 0.9099119305610657,\n",
      " 'test_1mae_openness': 0.9223413467407227,\n",
      " 'test_loss': 0.017123602330684662}\n",
      "--------------------------------------------------------------------------------\n"
     ]
    },
    {
     "data": {
      "text/plain": [
       "[{'test_1mae_extraversion': 0.9155563116073608,\n",
       "  'test_1mae_neuroticism': 0.9099119305610657,\n",
       "  'test_1mae_agreeableness': 0.8885659575462341,\n",
       "  'test_1mae_conscientiousness': 0.8455855250358582,\n",
       "  'test_1mae_openness': 0.9223413467407227,\n",
       "  'test_loss': 0.017123602330684662,\n",
       "  'test_1mae': 0.8963922262191772}]"
      ]
     },
     "execution_count": 10,
     "metadata": {},
     "output_type": "execute_result"
    }
   ],
   "source": [
    "trainer.test(model, test_dataloaders=test_dl)"
   ]
  },
  {
   "cell_type": "code",
   "execution_count": 11,
   "metadata": {
    "ExecuteTime": {
     "end_time": "2021-03-17T11:24:50.005539Z",
     "start_time": "2021-03-17T11:16:55.686267Z"
    }
   },
   "outputs": [
    {
     "data": {
      "application/vnd.jupyter.widget-view+json": {
       "model_id": "9e4afd0eb8924c80a54e42ea9439e1af",
       "version_major": 2,
       "version_minor": 0
      },
      "text/plain": [
       "HBox(children=(FloatProgress(value=1.0, bar_style='info', description='Testing', layout=Layout(flex='2'), max=…"
      ]
     },
     "metadata": {},
     "output_type": "display_data"
    },
    {
     "name": "stdout",
     "output_type": "stream",
     "text": [
      "\n",
      "--------------------------------------------------------------------------------\n",
      "DATALOADER:0 TEST RESULTS\n",
      "{'test_1mae': 0.926030695438385,\n",
      " 'test_1mae_agreeableness': 0.9425502419471741,\n",
      " 'test_1mae_conscientiousness': 0.9346790313720703,\n",
      " 'test_1mae_extraversion': 0.9434199929237366,\n",
      " 'test_1mae_neuroticism': 0.9097769260406494,\n",
      " 'test_1mae_openness': 0.8997274041175842,\n",
      " 'test_loss': 0.009370933286845684}\n",
      "--------------------------------------------------------------------------------\n"
     ]
    },
    {
     "data": {
      "text/plain": [
       "[{'test_1mae_extraversion': 0.9434199929237366,\n",
       "  'test_1mae_neuroticism': 0.9097769260406494,\n",
       "  'test_1mae_agreeableness': 0.9425502419471741,\n",
       "  'test_1mae_conscientiousness': 0.9346790313720703,\n",
       "  'test_1mae_openness': 0.8997274041175842,\n",
       "  'test_loss': 0.009370933286845684,\n",
       "  'test_1mae': 0.926030695438385}]"
      ]
     },
     "execution_count": 11,
     "metadata": {},
     "output_type": "execute_result"
    }
   ],
   "source": [
    "trainer.test(model, test_dataloaders=valid_dl)"
   ]
  },
  {
   "cell_type": "code",
   "execution_count": null,
   "metadata": {},
   "outputs": [],
   "source": []
  }
 ],
 "metadata": {
  "kernelspec": {
   "display_name": "Python 3",
   "language": "python",
   "name": "python3"
  },
  "language_info": {
   "codemirror_mode": {
    "name": "ipython",
    "version": 3
   },
   "file_extension": ".py",
   "mimetype": "text/x-python",
   "name": "python",
   "nbconvert_exporter": "python",
   "pygments_lexer": "ipython3",
   "version": "3.7.6"
  },
  "toc": {
   "base_numbering": 1,
   "nav_menu": {},
   "number_sections": false,
   "sideBar": true,
   "skip_h1_title": false,
   "title_cell": "Table of Contents",
   "title_sidebar": "Contents",
   "toc_cell": false,
   "toc_position": {},
   "toc_section_display": true,
   "toc_window_display": false
  }
 },
 "nbformat": 4,
 "nbformat_minor": 2
}
