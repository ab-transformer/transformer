{
 "cells": [
  {
   "cell_type": "code",
   "execution_count": 1,
   "metadata": {
    "ExecuteTime": {
     "end_time": "2021-03-22T07:19:56.286935Z",
     "start_time": "2021-03-22T07:19:53.901459Z"
    }
   },
   "outputs": [],
   "source": [
    "from pathlib import Path\n",
    "\n",
    "import torch as th\n",
    "import pytorch_lightning as pl\n",
    "\n",
    "from lightningmodule import MULTModelWarped\n",
    "from datasets import load_impressionv2_dataset_all"
   ]
  },
  {
   "cell_type": "code",
   "execution_count": 2,
   "metadata": {
    "ExecuteTime": {
     "end_time": "2021-03-22T07:19:57.098163Z",
     "start_time": "2021-03-22T07:19:57.092886Z"
    }
   },
   "outputs": [],
   "source": [
    "# project_name = 'shuffle'\n",
    "# experiement_key = 'f7753cda73dd47399120496c09a5d5d1'\n",
    "# checkpoint_dir = Path('logs')/'weights'/f'{experiement_key}_{project_name}'/f'0_{experiement_key}'/'checkpoints'\n",
    "checkpoint_dir = Path('my_exp_name_find_lr/4_fa88dc4e3b0e4b8a86b8527c68314b58/checkpoints/')"
   ]
  },
  {
   "cell_type": "code",
   "execution_count": 31,
   "metadata": {
    "ExecuteTime": {
     "end_time": "2021-03-22T07:36:41.421806Z",
     "start_time": "2021-03-22T07:36:41.408513Z"
    }
   },
   "outputs": [],
   "source": [
    "# [train_ds, valid_ds, test_ds], target_names = load_impressionv2_dataset_all()\n",
    "train_dl = th.utils.data.DataLoader(\n",
    "    train_ds, batch_size=8, pin_memory=True,\n",
    ")\n",
    "valid_dl = th.utils.data.DataLoader(\n",
    "    valid_ds, batch_size=64, pin_memory=True,\n",
    ")\n",
    "test_dl = th.utils.data.DataLoader(\n",
    "    test_ds, batch_size=64, pin_memory=True,\n",
    ")"
   ]
  },
  {
   "cell_type": "code",
   "execution_count": 4,
   "metadata": {
    "ExecuteTime": {
     "end_time": "2021-03-22T07:20:10.327769Z",
     "start_time": "2021-03-22T07:20:10.320587Z"
    }
   },
   "outputs": [],
   "source": [
    "ckpts = list(checkpoint_dir.glob('*.ckpt'))\n",
    "assert len(ckpts) == 1\n",
    "ckpt = ckpts[0]"
   ]
  },
  {
   "cell_type": "code",
   "execution_count": 5,
   "metadata": {
    "ExecuteTime": {
     "end_time": "2021-03-22T07:20:15.156725Z",
     "start_time": "2021-03-22T07:20:11.305278Z"
    }
   },
   "outputs": [],
   "source": [
    "ck = th.load(ckpt)"
   ]
  },
  {
   "cell_type": "code",
   "execution_count": 23,
   "metadata": {
    "ExecuteTime": {
     "end_time": "2021-03-22T07:33:26.817559Z",
     "start_time": "2021-03-22T07:33:26.810492Z"
    }
   },
   "outputs": [],
   "source": [
    "from argparse import Namespace\n",
    "defaults = {'loss_fnc': 'L2', 'project_dim': 30, 'weight_decay': 0.0, 'optim': 'Adam'}\n",
    "hyp_params = Namespace(**ck['hyper_parameters'])"
   ]
  },
  {
   "cell_type": "code",
   "execution_count": 24,
   "metadata": {
    "ExecuteTime": {
     "end_time": "2021-03-22T07:33:27.882691Z",
     "start_time": "2021-03-22T07:33:27.876230Z"
    }
   },
   "outputs": [],
   "source": [
    "for k, v in defaults.items():\n",
    "    if k not in hyp_params:\n",
    "        setattr(hyp_params, k, v)"
   ]
  },
  {
   "cell_type": "code",
   "execution_count": 32,
   "metadata": {
    "ExecuteTime": {
     "end_time": "2021-03-22T07:36:45.312871Z",
     "start_time": "2021-03-22T07:36:45.301891Z"
    }
   },
   "outputs": [
    {
     "name": "stderr",
     "output_type": "stream",
     "text": [
      "GPU available: True, used: True\n",
      "TPU available: None, using: 0 TPU cores\n"
     ]
    }
   ],
   "source": [
    "trainer = pl.Trainer(gpus=1)"
   ]
  },
  {
   "cell_type": "code",
   "execution_count": 33,
   "metadata": {
    "ExecuteTime": {
     "end_time": "2021-03-22T07:36:46.164227Z",
     "start_time": "2021-03-22T07:36:46.102826Z"
    }
   },
   "outputs": [],
   "source": [
    "model = MULTModelWarped(hyp_params, target_names=target_names, early_stopping=None)"
   ]
  },
  {
   "cell_type": "code",
   "execution_count": 34,
   "metadata": {
    "ExecuteTime": {
     "end_time": "2021-03-22T07:36:46.961286Z",
     "start_time": "2021-03-22T07:36:46.885459Z"
    }
   },
   "outputs": [
    {
     "data": {
      "text/plain": [
       "<All keys matched successfully>"
      ]
     },
     "execution_count": 34,
     "metadata": {},
     "output_type": "execute_result"
    }
   ],
   "source": [
    "model.load_state_dict(ck['state_dict'])"
   ]
  },
  {
   "cell_type": "code",
   "execution_count": 35,
   "metadata": {
    "ExecuteTime": {
     "end_time": "2021-03-22T07:39:00.025948Z",
     "start_time": "2021-03-22T07:36:48.749540Z"
    }
   },
   "outputs": [
    {
     "data": {
      "application/vnd.jupyter.widget-view+json": {
       "model_id": "2237f395cf324a9cb6064def1d5e99a6",
       "version_major": 2,
       "version_minor": 0
      },
      "text/plain": [
       "HBox(children=(FloatProgress(value=1.0, bar_style='info', description='Testing', layout=Layout(flex='2'), max=…"
      ]
     },
     "metadata": {},
     "output_type": "display_data"
    },
    {
     "name": "stdout",
     "output_type": "stream",
     "text": [
      "\n",
      "--------------------------------------------------------------------------------\n",
      "DATALOADER:0 TEST RESULTS\n",
      "{'test_1mae': 0.8680583834648132,\n",
      " 'test_1mae_agreeableness': 0.8784980773925781,\n",
      " 'test_1mae_conscientiousness': 0.8391515016555786,\n",
      " 'test_1mae_extraversion': 0.8650715947151184,\n",
      " 'test_1mae_neuroticism': 0.8838691711425781,\n",
      " 'test_1mae_openness': 0.8737016916275024,\n",
      " 'test_loss': 0.02643299661576748}\n",
      "--------------------------------------------------------------------------------\n"
     ]
    },
    {
     "data": {
      "text/plain": [
       "[{'test_1mae_extraversion': 0.8650715947151184,\n",
       "  'test_1mae_neuroticism': 0.8838691711425781,\n",
       "  'test_1mae_agreeableness': 0.8784980773925781,\n",
       "  'test_1mae_conscientiousness': 0.8391515016555786,\n",
       "  'test_1mae_openness': 0.8737016916275024,\n",
       "  'test_loss': 0.02643299661576748,\n",
       "  'test_1mae': 0.8680583834648132}]"
      ]
     },
     "execution_count": 35,
     "metadata": {},
     "output_type": "execute_result"
    }
   ],
   "source": [
    "trainer.test(model, test_dataloaders=test_dl)"
   ]
  },
  {
   "cell_type": "code",
   "execution_count": 36,
   "metadata": {
    "ExecuteTime": {
     "end_time": "2021-03-22T07:42:00.618539Z",
     "start_time": "2021-03-22T07:39:49.782104Z"
    }
   },
   "outputs": [
    {
     "data": {
      "application/vnd.jupyter.widget-view+json": {
       "model_id": "eff9c28dbde848d3a85f4085deb79cb7",
       "version_major": 2,
       "version_minor": 0
      },
      "text/plain": [
       "HBox(children=(FloatProgress(value=1.0, bar_style='info', description='Testing', layout=Layout(flex='2'), max=…"
      ]
     },
     "metadata": {},
     "output_type": "display_data"
    },
    {
     "name": "stdout",
     "output_type": "stream",
     "text": [
      "\n",
      "--------------------------------------------------------------------------------\n",
      "DATALOADER:0 TEST RESULTS\n",
      "{'test_1mae': 0.8915534615516663,\n",
      " 'test_1mae_agreeableness': 0.9285080432891846,\n",
      " 'test_1mae_conscientiousness': 0.8622080087661743,\n",
      " 'test_1mae_extraversion': 0.8909584879875183,\n",
      " 'test_1mae_neuroticism': 0.897257387638092,\n",
      " 'test_1mae_openness': 0.8788354396820068,\n",
      " 'test_loss': 0.016974149271845818}\n",
      "--------------------------------------------------------------------------------\n"
     ]
    },
    {
     "data": {
      "text/plain": [
       "[{'test_1mae_extraversion': 0.8909584879875183,\n",
       "  'test_1mae_neuroticism': 0.897257387638092,\n",
       "  'test_1mae_agreeableness': 0.9285080432891846,\n",
       "  'test_1mae_conscientiousness': 0.8622080087661743,\n",
       "  'test_1mae_openness': 0.8788354396820068,\n",
       "  'test_loss': 0.016974149271845818,\n",
       "  'test_1mae': 0.8915534615516663}]"
      ]
     },
     "execution_count": 36,
     "metadata": {},
     "output_type": "execute_result"
    }
   ],
   "source": [
    "trainer.test(model, test_dataloaders=valid_dl)"
   ]
  },
  {
   "cell_type": "code",
   "execution_count": null,
   "metadata": {},
   "outputs": [],
   "source": []
  }
 ],
 "metadata": {
  "kernelspec": {
   "display_name": "Python 3",
   "language": "python",
   "name": "python3"
  },
  "language_info": {
   "codemirror_mode": {
    "name": "ipython",
    "version": 3
   },
   "file_extension": ".py",
   "mimetype": "text/x-python",
   "name": "python",
   "nbconvert_exporter": "python",
   "pygments_lexer": "ipython3",
   "version": "3.7.6"
  },
  "toc": {
   "base_numbering": 1,
   "nav_menu": {},
   "number_sections": false,
   "sideBar": true,
   "skip_h1_title": false,
   "title_cell": "Table of Contents",
   "title_sidebar": "Contents",
   "toc_cell": false,
   "toc_position": {},
   "toc_section_display": true,
   "toc_window_display": false
  }
 },
 "nbformat": 4,
 "nbformat_minor": 2
}
