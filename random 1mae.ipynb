{
 "cells": [
  {
   "cell_type": "code",
   "execution_count": 16,
   "metadata": {
    "ExecuteTime": {
     "end_time": "2021-03-12T10:15:53.651355Z",
     "start_time": "2021-03-12T10:15:53.640857Z"
    }
   },
   "outputs": [],
   "source": [
    "import torch as th\n",
    "from pytorch_lightning.metrics import MeanAbsoluteError\n",
    "import matplotlib.pyplot as plt\n",
    "\n",
    "from datasets import load_impressionv2_dataset_all"
   ]
  },
  {
   "cell_type": "code",
   "execution_count": 2,
   "metadata": {
    "ExecuteTime": {
     "end_time": "2021-03-12T10:10:10.938019Z",
     "start_time": "2021-03-12T10:09:59.650931Z"
    }
   },
   "outputs": [],
   "source": [
    "[train_ds, valid_ds, test_ds], target_names = load_impressionv2_dataset_all()"
   ]
  },
  {
   "cell_type": "code",
   "execution_count": 39,
   "metadata": {
    "ExecuteTime": {
     "end_time": "2021-03-12T10:19:41.108581Z",
     "start_time": "2021-03-12T10:19:41.103190Z"
    }
   },
   "outputs": [],
   "source": [
    "mae_1 = 1 - MeanAbsoluteError()\n",
    "mae = MeanAbsoluteError()"
   ]
  },
  {
   "cell_type": "code",
   "execution_count": 88,
   "metadata": {
    "ExecuteTime": {
     "end_time": "2021-03-12T10:28:46.330216Z",
     "start_time": "2021-03-12T10:28:46.308079Z"
    }
   },
   "outputs": [
    {
     "ename": "TypeError",
     "evalue": "mean() received an invalid combination of arguments - got (tuple, int), but expected one of:\n * (Tensor input, *, torch.dtype dtype)\n * (Tensor input, tuple of names dim, bool keepdim, *, torch.dtype dtype, Tensor out)\n * (Tensor input, tuple of ints dim, bool keepdim, *, torch.dtype dtype, Tensor out)\n",
     "output_type": "error",
     "traceback": [
      "\u001b[0;31m---------------------------------------------------------------------------\u001b[0m",
      "\u001b[0;31mTypeError\u001b[0m                                 Traceback (most recent call last)",
      "\u001b[0;32m<ipython-input-88-dd0136d55499>\u001b[0m in \u001b[0;36m<module>\u001b[0;34m\u001b[0m\n\u001b[0;32m----> 1\u001b[0;31m \u001b[0mmeans\u001b[0m \u001b[0;34m=\u001b[0m \u001b[0mth\u001b[0m\u001b[0;34m.\u001b[0m\u001b[0mmean\u001b[0m\u001b[0;34m(\u001b[0m\u001b[0mtrain_ds\u001b[0m\u001b[0;34m[\u001b[0m\u001b[0;34m-\u001b[0m\u001b[0;36m1\u001b[0m\u001b[0;34m]\u001b[0m\u001b[0;34m,\u001b[0m \u001b[0;36m0\u001b[0m\u001b[0;34m)\u001b[0m\u001b[0;34m\u001b[0m\u001b[0;34m\u001b[0m\u001b[0m\n\u001b[0m",
      "\u001b[0;31mTypeError\u001b[0m: mean() received an invalid combination of arguments - got (tuple, int), but expected one of:\n * (Tensor input, *, torch.dtype dtype)\n * (Tensor input, tuple of names dim, bool keepdim, *, torch.dtype dtype, Tensor out)\n * (Tensor input, tuple of ints dim, bool keepdim, *, torch.dtype dtype, Tensor out)\n"
     ]
    }
   ],
   "source": [
    "means = th.mean(train_ds.tensors[-1], 0)"
   ]
  },
  {
   "cell_type": "code",
   "execution_count": 87,
   "metadata": {
    "ExecuteTime": {
     "end_time": "2021-03-12T10:27:58.116420Z",
     "start_time": "2021-03-12T10:27:58.104224Z"
    }
   },
   "outputs": [
    {
     "name": "stdout",
     "output_type": "stream",
     "text": [
      "1 - MeanAbsoluteError()\n",
      "train:\t0.8800\n",
      "valid:\t0.8835\n",
      "test:\t0.8814\n"
     ]
    }
   ],
   "source": [
    "print(\"1 - MeanAbsoluteError()\")\n",
    "for ds, name in zip([train_ds, valid_ds, test_ds], [\"train\", \"valid\", \"test\"]):\n",
    "    label = ds.tensors[-1]\n",
    "    metric_value = mae_1(label, th.ones_like(label) * means).item()\n",
    "    print(f\"{name}:\\t{metric_value:.4f}\")"
   ]
  }
 ],
 "metadata": {
  "kernelspec": {
   "display_name": "Python 3",
   "language": "python",
   "name": "python3"
  },
  "language_info": {
   "codemirror_mode": {
    "name": "ipython",
    "version": 3
   },
   "file_extension": ".py",
   "mimetype": "text/x-python",
   "name": "python",
   "nbconvert_exporter": "python",
   "pygments_lexer": "ipython3",
   "version": "3.7.6"
  },
  "toc": {
   "base_numbering": 1,
   "nav_menu": {},
   "number_sections": false,
   "sideBar": true,
   "skip_h1_title": false,
   "title_cell": "Table of Contents",
   "title_sidebar": "Contents",
   "toc_cell": false,
   "toc_position": {},
   "toc_section_display": true,
   "toc_window_display": false
  }
 },
 "nbformat": 4,
 "nbformat_minor": 2
}
