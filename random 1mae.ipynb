{
 "cells": [
  {
   "cell_type": "code",
   "execution_count": 1,
   "metadata": {
    "ExecuteTime": {
     "end_time": "2021-03-12T10:30:13.929383Z",
     "start_time": "2021-03-12T10:30:11.656028Z"
    }
   },
   "outputs": [],
   "source": [
    "import torch as th\n",
    "from pytorch_lightning.metrics import MeanAbsoluteError\n",
    "import matplotlib.pyplot as plt\n",
    "\n",
    "from datasets import load_impressionv2_dataset_all"
   ]
  },
  {
   "cell_type": "code",
   "execution_count": 2,
   "metadata": {
    "ExecuteTime": {
     "end_time": "2021-03-12T10:30:23.739680Z",
     "start_time": "2021-03-12T10:30:13.931746Z"
    }
   },
   "outputs": [],
   "source": [
    "[train_ds, valid_ds, test_ds], target_names = load_impressionv2_dataset_all()"
   ]
  },
  {
   "cell_type": "code",
   "execution_count": 3,
   "metadata": {
    "ExecuteTime": {
     "end_time": "2021-03-12T10:30:23.757959Z",
     "start_time": "2021-03-12T10:30:23.745013Z"
    }
   },
   "outputs": [],
   "source": [
    "mae_1 = 1 - MeanAbsoluteError()\n",
    "mae = MeanAbsoluteError()"
   ]
  },
  {
   "cell_type": "code",
   "execution_count": 4,
   "metadata": {
    "ExecuteTime": {
     "end_time": "2021-03-12T10:30:23.766949Z",
     "start_time": "2021-03-12T10:30:23.761234Z"
    }
   },
   "outputs": [],
   "source": [
    "means = th.mean(train_ds.tensors[-1], 0)"
   ]
  },
  {
   "cell_type": "code",
   "execution_count": 5,
   "metadata": {
    "ExecuteTime": {
     "end_time": "2021-03-12T10:30:23.781993Z",
     "start_time": "2021-03-12T10:30:23.769485Z"
    }
   },
   "outputs": [
    {
     "name": "stdout",
     "output_type": "stream",
     "text": [
      "1 - MeanAbsoluteError()\n",
      "train:\t0.8800\n",
      "valid:\t0.8834\n",
      "test:\t0.8814\n"
     ]
    }
   ],
   "source": [
    "print(\"1 - MeanAbsoluteError()\")\n",
    "for ds, name in zip([train_ds, valid_ds, test_ds], [\"train\", \"valid\", \"test\"]):\n",
    "    label = ds.tensors[-1]\n",
    "    metric_value = mae_1(label, th.ones_like(label) * means).item()\n",
    "    print(f\"{name}:\\t{metric_value:.4f}\")"
   ]
  },
  {
   "cell_type": "code",
   "execution_count": null,
   "metadata": {},
   "outputs": [],
   "source": []
  }
 ],
 "metadata": {
  "kernelspec": {
   "display_name": "Python 3",
   "language": "python",
   "name": "python3"
  },
  "language_info": {
   "codemirror_mode": {
    "name": "ipython",
    "version": 3
   },
   "file_extension": ".py",
   "mimetype": "text/x-python",
   "name": "python",
   "nbconvert_exporter": "python",
   "pygments_lexer": "ipython3",
   "version": "3.7.6"
  },
  "toc": {
   "base_numbering": 1,
   "nav_menu": {},
   "number_sections": false,
   "sideBar": true,
   "skip_h1_title": false,
   "title_cell": "Table of Contents",
   "title_sidebar": "Contents",
   "toc_cell": false,
   "toc_position": {},
   "toc_section_display": true,
   "toc_window_display": false
  }
 },
 "nbformat": 4,
 "nbformat_minor": 2
}
