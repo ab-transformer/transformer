{
 "cells": [
  {
   "cell_type": "markdown",
   "metadata": {},
   "source": [
    "This notebook checks if the pytorch lighning early stopping implementation loads back the best weight after the trining has stopped."
   ]
  },
  {
   "cell_type": "code",
   "execution_count": 1,
   "metadata": {
    "ExecuteTime": {
     "end_time": "2021-03-16T23:01:47.588230Z",
     "start_time": "2021-03-16T23:01:35.651996Z"
    }
   },
   "outputs": [],
   "source": [
    "from train import *"
   ]
  },
  {
   "cell_type": "code",
   "execution_count": 2,
   "metadata": {
    "ExecuteTime": {
     "end_time": "2021-03-16T23:01:47.598047Z",
     "start_time": "2021-03-16T23:01:47.591454Z"
    }
   },
   "outputs": [],
   "source": [
    "train_dl = th.utils.data.DataLoader(\n",
    "    train_ds, batch_size=hyp_params.batch_size, pin_memory=True, num_workers=1\n",
    ")\n",
    "valid_dl = th.utils.data.DataLoader(\n",
    "    valid_ds, batch_size=hyp_params.batch_size, pin_memory=True, num_workers=1\n",
    ")"
   ]
  },
  {
   "cell_type": "code",
   "execution_count": 3,
   "metadata": {
    "ExecuteTime": {
     "end_time": "2021-03-16T23:01:47.830151Z",
     "start_time": "2021-03-16T23:01:47.602293Z"
    }
   },
   "outputs": [],
   "source": [
    "import pandas as pd\n",
    "\n",
    "import mutils\n",
    "\n",
    "df = pd.read_csv(mutils.csv_dir / \"6c6aea26edaa41429b337f389415fcc2\" / \"version_0\" / \"metrics.csv\")\n",
    "df = mutils.get_epoch_info(df)"
   ]
  },
  {
   "cell_type": "code",
   "execution_count": 29,
   "metadata": {
    "ExecuteTime": {
     "end_time": "2021-03-16T23:27:35.494613Z",
     "start_time": "2021-03-16T23:27:35.468397Z"
    }
   },
   "outputs": [],
   "source": [
    "import pytorch_lightning as pl\n",
    "import torch as th\n",
    "from pytorch_lightning.metrics import MeanAbsoluteError\n",
    "from torch.nn import functional as F\n",
    "\n",
    "from models import MULTModel\n",
    "from loss import bell_loss, bell_mse_mae_loss\n",
    "\n",
    "loss_dict = {\"L2\": F.mse_loss, \"Bell\": bell_loss, \"BellL1L2\": bell_mse_mae_loss}\n",
    "\n",
    "\n",
    "class MULTModelWarped(pl.LightningModule):\n",
    "    def __init__(self, hyp_params, target_names, data):\n",
    "        super().__init__()\n",
    "        self.model = MULTModel(hyp_params)\n",
    "        self.save_hyperparameters(hyp_params)\n",
    "        self.learning_rate = hyp_params.lr\n",
    "        self.target_names = target_names\n",
    "\n",
    "        self.mae_1 = 1 - MeanAbsoluteError()\n",
    "        self.loss = loss_dict[hyp_params.loss_fnc]\n",
    "        \n",
    "        self.data = data\n",
    "        self.validation_step_i = 0\n",
    "        \n",
    "    def _fake_metric(self):\n",
    "        return {'valid_1mae': self.data[self.current_epoch]}\n",
    "\n",
    "    def forward(self, *args):\n",
    "        if len(args) == 3:\n",
    "            text, audio, face = args\n",
    "        else:\n",
    "            text, audio, face = args[0]\n",
    "        return self.model(text, audio, face)[0]\n",
    "\n",
    "    def configure_optimizers(self):\n",
    "        optimizer = th.optim.Adam(self.parameters(), lr=self.learning_rate)\n",
    "        return optimizer\n",
    "\n",
    "    def training_step(self, batch, batch_idx):\n",
    "        metric_values = self._calc_loss_metrics(batch)\n",
    "        metric_values = {f\"train_{k}\": v for k, v in metric_values.items()}\n",
    "#         self.log_dict(\n",
    "#             metric_values, on_step=True, on_epoch=True, prog_bar=False, logger=True\n",
    "#         )\n",
    "#         print(early_stopping.wait_count)\n",
    "        return metric_values[\"train_loss\"]\n",
    "\n",
    "    def validation_step(self, batch, batch_idx):\n",
    "#         metric_values = self._calc_loss_metrics(batch)\n",
    "#         metric_values = {f\"valid_{k}\": v for k, v in metric_values.items()}\n",
    "        metric_values = {'valid_1mae': self.data[self.validation_step_i]}\n",
    "#         metric_values['valid_1mae'] = self.data[self.validation_step_i]\n",
    "        self.validation_step_i += 1\n",
    "        self.log_dict(metric_values, prog_bar=False, logger=True)\n",
    "        return metric_values\n",
    "\n",
    "#     def validation_epoch_end(self, validation_step_outputs):\n",
    "#         pass\n",
    "#         print(len(validation_step_outputs))\n",
    "\n",
    "    def test_step(self, batch, batch_idx):\n",
    "        metric_values = self._calc_loss_metrics(batch)\n",
    "        metric_values = {f\"test_{k}\": v for k, v in metric_values.items()}\n",
    "        self.log_dict(metric_values, prog_bar=False, logger=True)\n",
    "        return metric_values\n",
    "\n",
    "    def _calc_loss_metrics(self, batch):\n",
    "        audio, face, text, y = batch\n",
    "        y_hat = self(text, audio, face)\n",
    "        loss = self.loss(y_hat, y)\n",
    "        metric_values = self._calc_mae1_columnwise(y_hat, y)\n",
    "        metric_values[\"loss\"] = loss\n",
    "        metric_values[\"1mae\"] = self.mae_1(y_hat, y)\n",
    "        return metric_values\n",
    "\n",
    "    def _calc_mae1_columnwise(self, y_hat, y):\n",
    "        return {\n",
    "            f\"1mae_{name}\": self.mae_1(y_hat[:, i], y[:, i])\n",
    "            for i, name in enumerate(self.target_names)\n",
    "        }"
   ]
  },
  {
   "cell_type": "code",
   "execution_count": 41,
   "metadata": {
    "ExecuteTime": {
     "end_time": "2021-03-16T23:28:41.798382Z",
     "start_time": "2021-03-16T23:28:41.792696Z"
    }
   },
   "outputs": [],
   "source": [
    "class MULTModelWarped2(MULTModelWarped):\n",
    "    pass\n",
    "#     def validation_epoch_end(self, validation_step_outputs):\n",
    "#         pass"
   ]
  },
  {
   "cell_type": "code",
   "execution_count": 42,
   "metadata": {
    "ExecuteTime": {
     "end_time": "2021-03-16T23:28:42.111651Z",
     "start_time": "2021-03-16T23:28:42.053012Z"
    }
   },
   "outputs": [],
   "source": [
    "accs = [0,1,3,2,4] #df['valid_1mae'].to_list()\n",
    "model = MULTModelWarped2(hyp_params, target_names, accs)"
   ]
  },
  {
   "cell_type": "code",
   "execution_count": 43,
   "metadata": {
    "ExecuteTime": {
     "end_time": "2021-03-16T23:28:45.646595Z",
     "start_time": "2021-03-16T23:28:42.760047Z"
    }
   },
   "outputs": [
    {
     "name": "stderr",
     "output_type": "stream",
     "text": [
      "GPU available: True, used: True\n",
      "TPU available: None, using: 0 TPU cores\n",
      "\n",
      "  | Name  | Type                | Params\n",
      "----------------------------------------------\n",
      "0 | model | MULTModel           | 1.1 M \n",
      "1 | mae_1 | CompositionalMetric | 0     \n",
      "----------------------------------------------\n",
      "1.1 M     Trainable params\n",
      "0         Non-trainable params\n",
      "1.1 M     Total params\n",
      "4.405     Total estimated model params size (MB)\n"
     ]
    },
    {
     "data": {
      "application/vnd.jupyter.widget-view+json": {
       "model_id": "",
       "version_major": 2,
       "version_minor": 0
      },
      "text/plain": [
       "HBox(children=(FloatProgress(value=1.0, bar_style='info', description='Validation sanity check', layout=Layout…"
      ]
     },
     "metadata": {},
     "output_type": "display_data"
    },
    {
     "name": "stdout",
     "output_type": "stream",
     "text": [
      "\r"
     ]
    },
    {
     "data": {
      "application/vnd.jupyter.widget-view+json": {
       "model_id": "b324fb67b0a644feaeba8a93482285d1",
       "version_major": 2,
       "version_minor": 0
      },
      "text/plain": [
       "HBox(children=(FloatProgress(value=1.0, bar_style='info', description='Training', layout=Layout(flex='2'), max…"
      ]
     },
     "metadata": {},
     "output_type": "display_data"
    },
    {
     "data": {
      "application/vnd.jupyter.widget-view+json": {
       "model_id": "",
       "version_major": 2,
       "version_minor": 0
      },
      "text/plain": [
       "HBox(children=(FloatProgress(value=1.0, bar_style='info', description='Validating', layout=Layout(flex='2'), m…"
      ]
     },
     "metadata": {},
     "output_type": "display_data"
    },
    {
     "name": "stdout",
     "output_type": "stream",
     "text": [
      "\n"
     ]
    },
    {
     "data": {
      "text/plain": [
       "1"
      ]
     },
     "execution_count": 43,
     "metadata": {},
     "output_type": "execute_result"
    }
   ],
   "source": [
    "early_stopping = EarlyStopping(monitor=\"valid_1mae\", patience=10, verbose=True, mode=\"max\")\n",
    "trainer = pl.Trainer(\n",
    "    gpus=1,\n",
    "    max_epochs=1,#hyp_params.num_epochs,\n",
    "    log_every_n_steps=1,\n",
    "    callbacks=[EarlyStopping(monitor=\"valid_1mae\", patience=10, verbose=True, mode=\"max\")],\n",
    "    limit_train_batches=1,\n",
    "    limit_val_batches=2,\n",
    ")\n",
    "trainer.fit(model, train_dl, valid_dl)"
   ]
  },
  {
   "cell_type": "code",
   "execution_count": 44,
   "metadata": {
    "ExecuteTime": {
     "end_time": "2021-03-16T23:28:45.659134Z",
     "start_time": "2021-03-16T23:28:45.650367Z"
    }
   },
   "outputs": [
    {
     "data": {
      "text/plain": [
       "{'valid_1mae': tensor(2., device='cuda:0')}"
      ]
     },
     "execution_count": 44,
     "metadata": {},
     "output_type": "execute_result"
    }
   ],
   "source": [
    "trainer.callback_metrics"
   ]
  },
  {
   "cell_type": "code",
   "execution_count": null,
   "metadata": {},
   "outputs": [],
   "source": []
  }
 ],
 "metadata": {
  "kernelspec": {
   "display_name": "Python 3",
   "language": "python",
   "name": "python3"
  },
  "language_info": {
   "codemirror_mode": {
    "name": "ipython",
    "version": 3
   },
   "file_extension": ".py",
   "mimetype": "text/x-python",
   "name": "python",
   "nbconvert_exporter": "python",
   "pygments_lexer": "ipython3",
   "version": "3.7.6"
  },
  "toc": {
   "base_numbering": 1,
   "nav_menu": {},
   "number_sections": false,
   "sideBar": true,
   "skip_h1_title": false,
   "title_cell": "Table of Contents",
   "title_sidebar": "Contents",
   "toc_cell": false,
   "toc_position": {},
   "toc_section_display": true,
   "toc_window_display": false
  }
 },
 "nbformat": 4,
 "nbformat_minor": 2
}
