{
 "cells": [
  {
   "cell_type": "code",
   "execution_count": 3,
   "metadata": {
    "ExecuteTime": {
     "end_time": "2021-04-15T09:34:38.052387Z",
     "start_time": "2021-04-15T09:34:38.047809Z"
    }
   },
   "outputs": [],
   "source": [
    "import os\n",
    "os.chdir('..')"
   ]
  },
  {
   "cell_type": "code",
   "execution_count": 7,
   "metadata": {
    "ExecuteTime": {
     "end_time": "2021-04-15T09:35:23.420189Z",
     "start_time": "2021-04-15T09:35:23.415078Z"
    }
   },
   "outputs": [],
   "source": [
    "import numpy as np\n",
    "import zarr\n",
    "\n",
    "from datasets import IMPRESSIONV2_DIR"
   ]
  },
  {
   "cell_type": "code",
   "execution_count": 5,
   "metadata": {
    "ExecuteTime": {
     "end_time": "2021-04-15T09:34:51.689344Z",
     "start_time": "2021-04-15T09:34:51.679951Z"
    }
   },
   "outputs": [],
   "source": [
    "split = \"train\"\n",
    "f =  zarr.open(str(IMPRESSIONV2_DIR / f'{split}.zarr'))"
   ]
  },
  {
   "cell_type": "code",
   "execution_count": 26,
   "metadata": {
    "ExecuteTime": {
     "end_time": "2021-04-15T09:58:06.064230Z",
     "start_time": "2021-04-15T09:58:06.051442Z"
    }
   },
   "outputs": [
    {
     "data": {
      "text/plain": [
       "(3340846080, 2699673600, 17637867520)"
      ]
     },
     "execution_count": 26,
     "metadata": {},
     "output_type": "execute_result"
    }
   ],
   "source": [
    "np.prod(f.wav2vec2.shape), np.prod(f.bert.shape), np.prod(f.r2plus1d.shape)"
   ]
  },
  {
   "cell_type": "code",
   "execution_count": 12,
   "metadata": {
    "ExecuteTime": {
     "end_time": "2021-04-15T09:36:27.427617Z",
     "start_time": "2021-04-15T09:36:27.419364Z"
    }
   },
   "outputs": [],
   "source": [
    "numbers = np.prod(f.r2plus1d.shape) + np.prod(f.wav2vec2.shape) + np.prod(f.bert.shape)"
   ]
  },
  {
   "cell_type": "code",
   "execution_count": 16,
   "metadata": {
    "ExecuteTime": {
     "end_time": "2021-04-15T09:37:29.578100Z",
     "start_time": "2021-04-15T09:37:29.571859Z"
    }
   },
   "outputs": [],
   "source": [
    "B = numbers * 4\n",
    "KB = B / 1024\n",
    "MB = KB / 1024\n",
    "GB = MB / 1024"
   ]
  },
  {
   "cell_type": "code",
   "execution_count": 17,
   "metadata": {
    "ExecuteTime": {
     "end_time": "2021-04-15T09:37:29.760056Z",
     "start_time": "2021-04-15T09:37:29.753250Z"
    }
   },
   "outputs": [
    {
     "data": {
      "text/plain": [
       "88.20886611938477"
      ]
     },
     "execution_count": 17,
     "metadata": {},
     "output_type": "execute_result"
    }
   ],
   "source": [
    "GB"
   ]
  },
  {
   "cell_type": "code",
   "execution_count": 21,
   "metadata": {
    "ExecuteTime": {
     "end_time": "2021-04-15T09:48:04.614407Z",
     "start_time": "2021-04-15T09:47:40.750920Z"
    }
   },
   "outputs": [],
   "source": [
    "audio = np.load(IMPRESSIONV2_DIR/'train_wav2vec2_audio.npy')\n",
    "text = np.load(IMPRESSIONV2_DIR/'train_text.npy')\n",
    "face = np.load(IMPRESSIONV2_DIR/'train_ig65m_face.npy')"
   ]
  },
  {
   "cell_type": "code",
   "execution_count": 29,
   "metadata": {
    "ExecuteTime": {
     "end_time": "2021-04-15T10:00:15.961134Z",
     "start_time": "2021-04-15T10:00:15.952041Z"
    }
   },
   "outputs": [
    {
     "data": {
      "text/plain": [
       "(3520512000, 276480000, 43008000)"
      ]
     },
     "execution_count": 29,
     "metadata": {},
     "output_type": "execute_result"
    }
   ],
   "source": [
    "(np.prod(audio.shape), np.prod(text.shape), np.prod(face.shape))"
   ]
  },
  {
   "cell_type": "code",
   "execution_count": 28,
   "metadata": {
    "ExecuteTime": {
     "end_time": "2021-04-15T09:59:18.237787Z",
     "start_time": "2021-04-15T09:59:18.225682Z"
    }
   },
   "outputs": [
    {
     "name": "stdout",
     "output_type": "stream",
     "text": [
      "0.9489659685863875\n",
      "9.764444444444445\n",
      "410.1066666666667\n"
     ]
    }
   ],
   "source": [
    "for my, adam in zip((np.prod(audio.shape), np.prod(text.shape), np.prod(face.shape)) , (np.prod(f.wav2vec2.shape), np.prod(f.bert.shape), np.prod(f.r2plus1d.shape))):\n",
    "    print(adam / my)"
   ]
  },
  {
   "cell_type": "code",
   "execution_count": 23,
   "metadata": {
    "ExecuteTime": {
     "end_time": "2021-04-15T09:57:06.678370Z",
     "start_time": "2021-04-15T09:57:06.671377Z"
    }
   },
   "outputs": [],
   "source": [
    "numbers = np.prod(audio.shape) + np.prod(text.shape) + np.prod(face.shape)"
   ]
  },
  {
   "cell_type": "code",
   "execution_count": 24,
   "metadata": {
    "ExecuteTime": {
     "end_time": "2021-04-15T09:57:13.017405Z",
     "start_time": "2021-04-15T09:57:13.010694Z"
    }
   },
   "outputs": [],
   "source": [
    "B = numbers * 4\n",
    "KB = B / 1024\n",
    "MB = KB / 1024\n",
    "GB = MB / 1024"
   ]
  },
  {
   "cell_type": "code",
   "execution_count": 25,
   "metadata": {
    "ExecuteTime": {
     "end_time": "2021-04-15T09:57:14.996645Z",
     "start_time": "2021-04-15T09:57:14.989020Z"
    }
   },
   "outputs": [
    {
     "data": {
      "text/plain": [
       "14.30511474609375"
      ]
     },
     "execution_count": 25,
     "metadata": {},
     "output_type": "execute_result"
    }
   ],
   "source": [
    "GB"
   ]
  }
 ],
 "metadata": {
  "kernelspec": {
   "display_name": "Python 3",
   "language": "python",
   "name": "python3"
  },
  "language_info": {
   "codemirror_mode": {
    "name": "ipython",
    "version": 3
   },
   "file_extension": ".py",
   "mimetype": "text/x-python",
   "name": "python",
   "nbconvert_exporter": "python",
   "pygments_lexer": "ipython3",
   "version": "3.7.6"
  },
  "toc": {
   "base_numbering": 1,
   "nav_menu": {},
   "number_sections": false,
   "sideBar": true,
   "skip_h1_title": false,
   "title_cell": "Table of Contents",
   "title_sidebar": "Contents",
   "toc_cell": false,
   "toc_position": {},
   "toc_section_display": true,
   "toc_window_display": false
  }
 },
 "nbformat": 4,
 "nbformat_minor": 2
}
