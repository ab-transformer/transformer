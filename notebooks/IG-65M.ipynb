{
 "cells": [
  {
   "cell_type": "code",
   "execution_count": null,
   "metadata": {},
   "outputs": [],
   "source": [
    "import os\n",
    "os.chdir('..')"
   ]
  },
  {
   "cell_type": "code",
   "execution_count": 1,
   "metadata": {},
   "outputs": [],
   "source": [
    "import torch as th\n",
    "from torch import nn"
   ]
  },
  {
   "cell_type": "code",
   "execution_count": 2,
   "metadata": {},
   "outputs": [
    {
     "name": "stderr",
     "output_type": "stream",
     "text": [
      "Using cache found in /root/.cache/torch/hub/moabitcoin_ig65m-pytorch_master\n"
     ]
    },
    {
     "data": {
      "text/plain": [
       "['r2plus1d_34_32_ig65m',\n",
       " 'r2plus1d_34_32_kinetics',\n",
       " 'r2plus1d_34_8_ig65m',\n",
       " 'r2plus1d_34_8_kinetics']"
      ]
     },
     "execution_count": 2,
     "metadata": {},
     "output_type": "execute_result"
    }
   ],
   "source": [
    "th.hub.list(\"moabitcoin/ig65m-pytorch\")"
   ]
  },
  {
   "cell_type": "code",
   "execution_count": 3,
   "metadata": {},
   "outputs": [
    {
     "name": "stderr",
     "output_type": "stream",
     "text": [
      "Using cache found in /root/.cache/torch/hub/moabitcoin_ig65m-pytorch_master\n"
     ]
    }
   ],
   "source": [
    "model = th.hub.load(\"moabitcoin/ig65m-pytorch\", \"r2plus1d_34_32_ig65m\", num_classes=359, pretrained=True)"
   ]
  },
  {
   "cell_type": "code",
   "execution_count": 4,
   "metadata": {},
   "outputs": [],
   "source": [
    "from torchsummary import summary"
   ]
  },
  {
   "cell_type": "code",
   "execution_count": 5,
   "metadata": {},
   "outputs": [],
   "source": [
    "class VideoModel(nn.Module):\n",
    "    def __init__(self):\n",
    "        super().__init__()\n",
    "\n",
    "        self.model = th.hub.load(\"moabitcoin/ig65m-pytorch\", \"r2plus1d_34_32_ig65m\", num_classes=359, pretrained=True)\n",
    "\n",
    "    def forward(self, x):\n",
    "        # layer2 seems to be a good trade-off between\n",
    "        # low and high end clip features (on my videos)\n",
    "\n",
    "        x = self.model.stem(x)\n",
    "        x = self.model.layer1(x)\n",
    "        x = self.model.layer2(x)\n",
    "        # x = self.model.layer3(x)\n",
    "        # x = self.model.layer4(x)\n",
    "\n",
    "        return x"
   ]
  },
  {
   "cell_type": "code",
   "execution_count": 6,
   "metadata": {},
   "outputs": [
    {
     "name": "stderr",
     "output_type": "stream",
     "text": [
      "Using cache found in /root/.cache/torch/hub/moabitcoin_ig65m-pytorch_master\n"
     ]
    },
    {
     "name": "stdout",
     "output_type": "stream",
     "text": [
      "==========================================================================================\n",
      "Layer (type:depth-idx)                   Output Shape              Param #\n",
      "==========================================================================================\n",
      "├─VideoResNet: 1                         []                        --\n",
      "|    └─R2Plus1dStem: 2-1                 [-1, 64, 459, 56, 56]     --\n",
      "|    |    └─Conv3d: 3-1                  [-1, 45, 459, 56, 56]     6,615\n",
      "|    |    └─BatchNorm3d: 3-2             [-1, 45, 459, 56, 56]     90\n",
      "|    |    └─ReLU: 3-3                    [-1, 45, 459, 56, 56]     --\n",
      "|    |    └─Conv3d: 3-4                  [-1, 64, 459, 56, 56]     8,640\n",
      "|    |    └─BatchNorm3d: 3-5             [-1, 64, 459, 56, 56]     128\n",
      "|    |    └─ReLU: 3-6                    [-1, 64, 459, 56, 56]     --\n",
      "|    └─Sequential: 2-2                   [-1, 64, 459, 56, 56]     --\n",
      "|    |    └─BasicBlock: 3-7              [-1, 64, 459, 56, 56]     222,016\n",
      "|    |    └─BasicBlock: 3-8              [-1, 64, 459, 56, 56]     222,016\n",
      "|    |    └─BasicBlock: 3-9              [-1, 64, 459, 56, 56]     222,016\n",
      "|    └─Sequential: 2-3                   [-1, 128, 230, 28, 28]    --\n",
      "|    |    └─BasicBlock: 3-10             [-1, 128, 230, 28, 28]    673,164\n",
      "|    |    └─BasicBlock: 3-11             [-1, 128, 230, 28, 28]    886,400\n",
      "|    |    └─BasicBlock: 3-12             [-1, 128, 230, 28, 28]    886,400\n",
      "|    |    └─BasicBlock: 3-13             [-1, 128, 230, 28, 28]    886,400\n",
      "==========================================================================================\n",
      "Total params: 4,013,885\n",
      "Trainable params: 4,013,885\n",
      "Non-trainable params: 0\n",
      "Total mult-adds (G): 21.97\n",
      "==========================================================================================\n",
      "Input size (MB): 65.89\n",
      "Forward/backward pass size (MB): 2394.06\n",
      "Params size (MB): 15.31\n",
      "Estimated Total Size (MB): 2475.26\n",
      "==========================================================================================\n"
     ]
    }
   ],
   "source": [
    "_ = summary(VideoModel(), (3,459,112,112))"
   ]
  },
  {
   "cell_type": "code",
   "execution_count": null,
   "metadata": {},
   "outputs": [],
   "source": [
    "import numpy as np"
   ]
  },
  {
   "cell_type": "code",
   "execution_count": null,
   "metadata": {},
   "outputs": [],
   "source": [
    "saved = np.load('out.npy')"
   ]
  },
  {
   "cell_type": "code",
   "execution_count": null,
   "metadata": {},
   "outputs": [],
   "source": [
    "saved.shape"
   ]
  },
  {
   "cell_type": "code",
   "execution_count": null,
   "metadata": {},
   "outputs": [],
   "source": [
    "np.load('out230.npy').shape"
   ]
  }
 ],
 "metadata": {
  "kernelspec": {
   "display_name": "Python 3",
   "language": "python",
   "name": "python3"
  },
  "language_info": {
   "codemirror_mode": {
    "name": "ipython",
    "version": 3
   },
   "file_extension": ".py",
   "mimetype": "text/x-python",
   "name": "python",
   "nbconvert_exporter": "python",
   "pygments_lexer": "ipython3",
   "version": "3.7.6"
  }
 },
 "nbformat": 4,
 "nbformat_minor": 4
}
