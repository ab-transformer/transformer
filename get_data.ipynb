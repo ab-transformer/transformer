{
 "cells": [
  {
   "cell_type": "code",
   "execution_count": 1,
   "id": "verified-piece",
   "metadata": {},
   "outputs": [],
   "source": [
    "import os\n",
    "import pickle\n",
    "import numpy as np\n",
    "import wget\n",
    "import shutil\n",
    "from pathlib import Path\n",
    "from concurrent.futures import ThreadPoolExecutor\n",
    "from functools import partial\n",
    "from zipfile import ZipFile\n",
    "import os"
   ]
  },
  {
   "cell_type": "code",
   "execution_count": 2,
   "id": "beginning-speed",
   "metadata": {},
   "outputs": [],
   "source": [
    "IMPRESSIONV2_DIR = Path(\"data/impressionv2\")\n",
    "URL = \"http://158.109.8.102/FirstImpressionsV2/\""
   ]
  },
  {
   "cell_type": "code",
   "execution_count": 3,
   "id": "european-muslim",
   "metadata": {},
   "outputs": [],
   "source": [
    "def unzip_encrypted(file_dir, file_name, pwd):\n",
    "    with ZipFile(file_dir / file_name) as zf:\n",
    "        zf.extractall(file_dir, pwd=pwd)"
   ]
  },
  {
   "cell_type": "code",
   "execution_count": 4,
   "id": "atlantic-deployment",
   "metadata": {},
   "outputs": [],
   "source": [
    "def download(file_name, local_dir):\n",
    "    url = URL + file_name\n",
    "    local = local_dir / file_name\n",
    "    wget.download(url, str(local))\n",
    "    return local\n",
    "    \n",
    "def download_extract(file_name, local_dir):\n",
    "    local = download(file_name, local_dir)\n",
    "    if local.suffix == '.zip':\n",
    "        shutil.unpack_archive(local, local_dir)\n",
    "        \n",
    "def download_extract_encrypted(file_name, local_dir, pwd):\n",
    "    local = download(file_name, local_dir)\n",
    "    unzip_encrypted(local_dir, file_name, pwd)"
   ]
  },
  {
   "cell_type": "code",
   "execution_count": 5,
   "id": "pressing-ability",
   "metadata": {},
   "outputs": [
    {
     "name": "stdout",
     "output_type": "stream",
     "text": [
      "100% [..............................................................................] 74038 / 74038"
     ]
    }
   ],
   "source": [
    "download_extract(\"eth_gender_annotations_dev.csv\", IMPRESSIONV2_DIR)\n",
    "download_extract(\"eth_gender_annotations_test.csv\", IMPRESSIONV2_DIR)"
   ]
  },
  {
   "cell_type": "code",
   "execution_count": 6,
   "id": "handmade-plastic",
   "metadata": {},
   "outputs": [],
   "source": [
    "split = \"val\" # \"train\", \"val,\", \"test\"\n",
    "n_video_zips = 6 if split == \"train\" else 2\n",
    "n_internal_video_zips = 75 if split == \"train\" else 25\n",
    "split_long = {\"train\": \"training\",\n",
    "                 \"val\": \"validation\",\n",
    "                 \"test\": \"test\"}[split]\n",
    "local_dir = IMPRESSIONV2_DIR / split\n",
    "os.makedirs(local_dir, exist_ok=True)\n",
    "download_extract_split = partial(download_extract, local_dir=local_dir)"
   ]
  },
  {
   "cell_type": "code",
   "execution_count": 11,
   "id": "developed-sociology",
   "metadata": {},
   "outputs": [
    {
     "name": "stdout",
     "output_type": "stream",
     "text": [
      "100% [..............................................................................] 79764 / 79764"
     ]
    }
   ],
   "source": [
    "if split == \"train\":\n",
    "    files = (f\"{split}-transcription.zip\", f\"{split}-annotation.zip\")\n",
    "elif split == \"val\":\n",
    "    files = (f\"{split}-transcription.zip\", f\"{split}-annotation-e.zip\")\n",
    "elif split == \"test\":\n",
    "    files = (f\"{split}-transcription-e.zip\", f\"{split}-annotation-e.zip\")\n",
    "\n",
    "download_extract_test_pkl = partial(download_extract_encrypted, local_dir=local_dir, pwd=b'zeAzLQN7DnSIexQukc9W')\n",
    "f = download_extract_test_pkl if split == \"test\" else download_extract_split\n",
    "with ThreadPoolExecutor(6) as executor:\n",
    "    results = executor.map(f, files)\n",
    "    \n",
    "if split == \"val\":\n",
    "    download_extract_test_pkl(files[1])"
   ]
  },
  {
   "cell_type": "code",
   "execution_count": 8,
   "id": "affected-vertical",
   "metadata": {},
   "outputs": [
    {
     "name": "stdout",
     "output_type": "stream",
     "text": [
      "100% [....................................................................] 3020533440 / 3020533440"
     ]
    }
   ],
   "source": [
    "def download_videos(i):\n",
    "    download_extract_split(f'{split}-{i}{\"e\" if split == \"test\" else \"\"}.zip')\n",
    "    \n",
    "with ThreadPoolExecutor(6) as executor:\n",
    "    results = executor.map(download_videos, list(range(1,n_video_zips+1)))"
   ]
  },
  {
   "cell_type": "code",
   "execution_count": 9,
   "id": "legendary-title",
   "metadata": {},
   "outputs": [],
   "source": [
    "def extract_dev(i):\n",
    "    local_zip = local_dir / f'{split}-{i}{\"e\" if split == \"test\" else \"\"}.zip'\n",
    "    shutil.unpack_archive(local_zip, local_dir)\n",
    "def extract_test(i):\n",
    "    file_name = f'test-{i}e.zip'\n",
    "    unzip_encrypted(local_dir, file_name, b'zeAzLQN7DnSIexQukc9W')\n",
    "    d = local_dir / f'test-{i}'\n",
    "    for f in os.listdir(d):\n",
    "        shutil.move(d / f, local_dir / f\"{f}_ext\")\n",
    "    \n",
    "f = extract_test if split == \"test\" else extract_dev\n",
    "with ThreadPoolExecutor(6) as executor:\n",
    "    results = executor.map(f, list(range(1,n_video_zips+1)))"
   ]
  },
  {
   "cell_type": "code",
   "execution_count": 10,
   "id": "special-statement",
   "metadata": {},
   "outputs": [],
   "source": [
    "def extract_internal(i):\n",
    "    local_zip = local_dir / f'{split_long}80_{i:02d}.zip'\n",
    "    shutil.unpack_archive(local_zip, local_dir)\n",
    "    \n",
    "def extract_internal_test(i):\n",
    "    unzip_encrypted(local_dir, f'test80_{i:02d}.zip_ext', b'.chalearnLAPFirstImpressionsSECONDRoundICPRWorkshop2016.')\n",
    "    extract_internal(i)\n",
    "    \n",
    "f = extract_internal_test if split == \"test\" else extract_internal\n",
    "with ThreadPoolExecutor(6) as executor:\n",
    "    results = executor.map(f, list(range(1,n_internal_video_zips+1)))"
   ]
  },
  {
   "cell_type": "code",
   "execution_count": null,
   "id": "pursuant-sauce",
   "metadata": {},
   "outputs": [],
   "source": []
  }
 ],
 "metadata": {
  "kernelspec": {
   "display_name": "Python 3",
   "language": "python",
   "name": "python3"
  },
  "language_info": {
   "codemirror_mode": {
    "name": "ipython",
    "version": 3
   },
   "file_extension": ".py",
   "mimetype": "text/x-python",
   "name": "python",
   "nbconvert_exporter": "python",
   "pygments_lexer": "ipython3",
   "version": "3.8.6"
  }
 },
 "nbformat": 4,
 "nbformat_minor": 5
}
