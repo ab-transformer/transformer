{
 "cells": [
  {
   "cell_type": "code",
   "execution_count": 1,
   "metadata": {},
   "outputs": [
    {
     "name": "stderr",
     "output_type": "stream",
     "text": [
      "/opt/conda/lib/python3.7/site-packages/torchaudio/backend/utils.py:54: UserWarning: \"sox\" backend is being deprecated. The default backend will be changed to \"sox_io\" backend in 0.8.0 and \"sox\" backend will be removed in 0.9.0. Please migrate to \"sox_io\" backend. Please refer to https://github.com/pytorch/audio/issues/903 for the detail.\n",
      "  '\"sox\" backend is being deprecated. '\n"
     ]
    }
   ],
   "source": [
    "import os\n",
    "from pathlib import Path\n",
    "import soundfile as sf\n",
    "import numpy as np\n",
    "import torch as th\n",
    "from transformers import Wav2Vec2Tokenizer, Wav2Vec2ForCTC, Wav2Vec2Model\n",
    "from torchaudio.transforms import Resample"
   ]
  },
  {
   "cell_type": "code",
   "execution_count": 11,
   "metadata": {},
   "outputs": [],
   "source": [
    "class AudioEmbedding:\n",
    "    def __init__(self, device):\n",
    "        self.device = device\n",
    "        \n",
    "        self.tokenizer = Wav2Vec2Tokenizer.from_pretrained(\"facebook/wav2vec2-base-960h\")\n",
    "        self.raw_model = Wav2Vec2Model.from_pretrained(\"facebook/wav2vec2-base-960h\").to(self.device)\n",
    "\n",
    "    def generate_embedding_of_file(self, file_name):\n",
    "        audio_input, sampling_rate = sf.read(file_name)\n",
    "        resampler = Resample(sampling_rate)\n",
    "        audio_input = resampler(th.tensor(audio_input))\n",
    "        input_values = self.tokenizer(audio_input, return_tensors=\"pt\").input_values.to(self.device)\n",
    "        hidden_state = self.raw_model(input_values).last_hidden_state\n",
    "        hidden_state = hidden_state.flatten()\n",
    "        return hidden_state.cpu().detach().numpy()"
   ]
  },
  {
   "cell_type": "code",
   "execution_count": 3,
   "metadata": {},
   "outputs": [],
   "source": [
    "device = th.device(\"cuda\" if th.cuda.is_available() else \"cpu\")"
   ]
  },
  {
   "cell_type": "code",
   "execution_count": 4,
   "metadata": {},
   "outputs": [],
   "source": [
    "IMPRESSIONV2_DIR = Path('/impressionv2')\n",
    "EMBEDDING_DIR = Path('/mbalazsdb')"
   ]
  },
  {
   "cell_type": "code",
   "execution_count": 5,
   "metadata": {},
   "outputs": [],
   "source": [
    "split = \"train\"\n",
    "split_impressionv2_dir = IMPRESSIONV2_DIR/split\n",
    "split_embedding_dir = EMBEDDING_DIR/'audio'/split\n",
    "os.makedirs(split_embedding_dir, exist_ok=True)\n",
    "dirs = os.listdir(IMPRESSIONV2_DIR/'train')[:10]"
   ]
  },
  {
   "cell_type": "code",
   "execution_count": 12,
   "metadata": {},
   "outputs": [],
   "source": [
    "embedding_model = AudioEmbedding(device)"
   ]
  },
  {
   "cell_type": "code",
   "execution_count": 13,
   "metadata": {},
   "outputs": [],
   "source": [
    "for video_id in os.listdir(split_impressionv2_dir):\n",
    "    embedding = embedding_model.generate_embedding_of_file(split_impressionv2_dir/video_id/f'{video_id}.wav')\n",
    "    np.save(split_embedding_dir/f'{video_id}.npy', embedding)"
   ]
  },
  {
   "cell_type": "code",
   "execution_count": null,
   "metadata": {},
   "outputs": [],
   "source": []
  }
 ],
 "metadata": {
  "kernelspec": {
   "display_name": "Python 3",
   "language": "python",
   "name": "python3"
  },
  "language_info": {
   "codemirror_mode": {
    "name": "ipython",
    "version": 3
   },
   "file_extension": ".py",
   "mimetype": "text/x-python",
   "name": "python",
   "nbconvert_exporter": "python",
   "pygments_lexer": "ipython3",
   "version": "3.7.6"
  }
 },
 "nbformat": 4,
 "nbformat_minor": 4
}
