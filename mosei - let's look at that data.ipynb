{
 "cells": [
  {
   "cell_type": "code",
   "execution_count": 31,
   "metadata": {},
   "outputs": [],
   "source": [
    "import pickle5 as pk5\n",
    "from pathlib import Path\n",
    "\n",
    "import numpy as np"
   ]
  },
  {
   "cell_type": "code",
   "execution_count": 32,
   "metadata": {},
   "outputs": [],
   "source": [
    "data_dir = Path('/workspace/lld_au_bert')"
   ]
  },
  {
   "cell_type": "code",
   "execution_count": 33,
   "metadata": {},
   "outputs": [],
   "source": [
    "with open(data_dir/'mosei_of_os_bert_emotions.pkl', 'rb') as f:\n",
    "    data = pk5.load(f)"
   ]
  },
  {
   "cell_type": "code",
   "execution_count": 34,
   "metadata": {},
   "outputs": [],
   "source": [
    "with open(data_dir/'mosei_of_os_bert_sentiment.pkl', 'rb') as f:\n",
    "    datas = pk5.load(f)"
   ]
  },
  {
   "cell_type": "code",
   "execution_count": 42,
   "metadata": {},
   "outputs": [
    {
     "data": {
      "text/plain": [
       "(8689, 6)"
      ]
     },
     "execution_count": 42,
     "metadata": {},
     "output_type": "execute_result"
    }
   ],
   "source": [
    "data['train']['labels'].shape"
   ]
  },
  {
   "cell_type": "code",
   "execution_count": 46,
   "metadata": {},
   "outputs": [
    {
     "data": {
      "text/plain": [
       "-3.0"
      ]
     },
     "execution_count": 46,
     "metadata": {},
     "output_type": "execute_result"
    }
   ],
   "source": [
    "datas['train']['labels'].min()"
   ]
  },
  {
   "cell_type": "code",
   "execution_count": 68,
   "metadata": {},
   "outputs": [
    {
     "data": {
      "text/plain": [
       "0.87996346"
      ]
     },
     "execution_count": 68,
     "metadata": {},
     "output_type": "execute_result"
    }
   ],
   "source": [
    "np.mean(np.abs(datas['test']['labels']))"
   ]
  },
  {
   "cell_type": "code",
   "execution_count": 62,
   "metadata": {},
   "outputs": [
    {
     "data": {
      "text/plain": [
       "0.8297957926988602"
      ]
     },
     "execution_count": 62,
     "metadata": {},
     "output_type": "execute_result"
    }
   ],
   "source": [
    "1-np.mean(np.abs(data['test']['labels']))"
   ]
  },
  {
   "cell_type": "code",
   "execution_count": 63,
   "metadata": {},
   "outputs": [
    {
     "data": {
      "image/png": "[encoded data removed]",
      "text/plain": [
       "<Figure size 432x288 with 1 Axes>"
      ]
     },
     "metadata": {
      "needs_background": "light"
     },
     "output_type": "display_data"
    }
   ],
   "source": [
    "import matplotlib.pyplot as plt\n",
    "\n",
    "plt.hist(data['test']['labels'][:, 0])\n",
    "plt.show()"
   ]
  },
  {
   "cell_type": "code",
   "execution_count": 39,
   "metadata": {},
   "outputs": [
    {
     "data": {
      "text/plain": [
       "True"
      ]
     },
     "execution_count": 39,
     "metadata": {},
     "output_type": "execute_result"
    }
   ],
   "source": [
    "np.all(datas['train']['vision'] == data['train']['vision'])"
   ]
  },
  {
   "cell_type": "code",
   "execution_count": 29,
   "metadata": {},
   "outputs": [
    {
     "data": {
      "text/plain": [
       "276"
      ]
     },
     "execution_count": 29,
     "metadata": {},
     "output_type": "execute_result"
    }
   ],
   "source": [
    "l = data['valid']['labels'].shape[0]\n",
    "len(set([str(data['train']['labels'][i, ]) for i in range(l)]))"
   ]
  },
  {
   "cell_type": "code",
   "execution_count": 30,
   "metadata": {},
   "outputs": [
    {
     "data": {
      "text/plain": [
       "{'[0.         0.         0.         0.         0.         0.33333334]',\n",
       " '[0.         0.         0.         0.         0.33333334 0.        ]',\n",
       " '[0.         0.         0.         0.         0.33333334 0.33333334]',\n",
       " '[0.         0.         0.         0.33333334 0.         0.        ]',\n",
       " '[0.         0.         0.         0.33333334 0.33333334 0.        ]',\n",
       " '[0.         0.         0.         0.33333334 0.6666667  0.        ]',\n",
       " '[0.         0.         0.         0.33333334 1.         0.        ]',\n",
       " '[0.         0.         0.         0.33333334 1.3333334  0.        ]',\n",
       " '[0.         0.         0.         0.6666667  0.33333334 0.        ]',\n",
       " '[0.         0.         0.         1.         0.33333334 0.        ]',\n",
       " '[0.         0.         0.         1.3333334  0.33333334 0.6666667 ]',\n",
       " '[0.         0.         0.33333334 0.         0.         0.        ]',\n",
       " '[0.         0.         0.33333334 0.         0.         0.33333334]',\n",
       " '[0.         0.         0.33333334 0.         0.         1.        ]',\n",
       " '[0.         0.         0.33333334 0.         0.33333334 0.        ]',\n",
       " '[0.         0.         0.33333334 0.         0.6666667  0.        ]',\n",
       " '[0.         0.         0.33333334 0.         1.         0.        ]',\n",
       " '[0.         0.         0.33333334 0.         1.3333334  0.        ]',\n",
       " '[0.         0.         0.33333334 0.         2.3333333  0.        ]',\n",
       " '[0.         0.         0.33333334 0.33333334 0.         0.        ]',\n",
       " '[0.         0.         0.33333334 0.6666667  1.         0.        ]',\n",
       " '[0.         0.         0.33333334 0.6666667  1.3333334  0.        ]',\n",
       " '[0.         0.         0.6666667  0.         0.33333334 0.        ]',\n",
       " '[0.         0.         0.6666667  0.33333334 0.         0.        ]',\n",
       " '[0.         0.         0.6666667  0.33333334 0.33333334 0.        ]',\n",
       " '[0.         0.         1.         0.         0.33333334 0.        ]',\n",
       " '[0.         0.         1.         0.33333334 0.6666667  0.        ]',\n",
       " '[0.         0.         1.         0.33333334 1.3333334  0.        ]',\n",
       " '[0.         0.         1.3333334  0.         0.33333334 0.        ]',\n",
       " '[0.         0.         1.6666666  0.         0.33333334 0.        ]',\n",
       " '[0.         0.         1.6666666  0.33333334 0.6666667  0.        ]',\n",
       " '[0.         0.         2.3333333  0.33333334 0.6666667  0.        ]',\n",
       " '[0.         0.33333334 0.         0.         0.         0.        ]',\n",
       " '[0.         0.33333334 0.         0.         0.         0.33333334]',\n",
       " '[0.         0.33333334 0.         0.         0.33333334 0.        ]',\n",
       " '[0.         0.33333334 0.         0.         0.6666667  0.        ]',\n",
       " '[0.         0.33333334 0.         0.         1.         0.        ]',\n",
       " '[0.         0.33333334 0.         0.         1.3333334  0.        ]',\n",
       " '[0.         0.33333334 0.         0.         2.         0.        ]',\n",
       " '[0.         0.33333334 0.         0.33333334 0.         0.        ]',\n",
       " '[0.         0.33333334 0.         0.33333334 0.         0.33333334]',\n",
       " '[0.         0.33333334 0.         0.33333334 0.33333334 0.        ]',\n",
       " '[0.         0.33333334 0.         0.33333334 0.6666667  0.        ]',\n",
       " '[0.         0.33333334 0.         0.6666667  0.         0.        ]',\n",
       " '[0.         0.33333334 0.         0.6666667  1.3333334  0.        ]',\n",
       " '[0.         0.33333334 0.33333334 0.         0.         0.        ]',\n",
       " '[0.         0.33333334 0.33333334 0.         0.33333334 0.        ]',\n",
       " '[0.         0.33333334 0.33333334 0.         0.6666667  0.        ]',\n",
       " '[0.         0.33333334 0.33333334 0.         1.         0.        ]',\n",
       " '[0.         0.33333334 0.33333334 0.         1.6666666  0.        ]',\n",
       " '[0.         0.33333334 0.33333334 0.33333334 0.         0.        ]',\n",
       " '[0.         0.33333334 0.33333334 0.6666667  1.         0.33333334]',\n",
       " '[0.         0.33333334 0.6666667  0.         0.         0.        ]',\n",
       " '[0.         0.33333334 0.6666667  0.         0.33333334 0.        ]',\n",
       " '[0.         0.33333334 0.6666667  0.         0.6666667  0.        ]',\n",
       " '[0.         0.33333334 0.6666667  0.         1.         0.        ]',\n",
       " '[0.         0.33333334 0.6666667  0.         1.3333334  0.        ]',\n",
       " '[0.         0.33333334 0.6666667  0.         1.6666666  0.        ]',\n",
       " '[0.         0.33333334 0.6666667  0.33333334 0.         0.        ]',\n",
       " '[0.         0.33333334 0.6666667  0.33333334 0.6666667  0.        ]',\n",
       " '[0.         0.33333334 0.6666667  0.33333334 1.         0.        ]',\n",
       " '[0.         0.33333334 1.         0.         0.         0.        ]',\n",
       " '[0.         0.33333334 1.         0.         1.3333334  0.        ]',\n",
       " '[0.         0.33333334 1.3333334  0.         0.33333334 0.        ]',\n",
       " '[0.         0.33333334 1.3333334  0.         1.         0.        ]',\n",
       " '[0.         0.33333334 1.3333334  0.33333334 1.         0.        ]',\n",
       " '[0.         0.6666667  0.         0.         0.         0.33333334]',\n",
       " '[0.         0.6666667  0.         0.         0.33333334 0.        ]',\n",
       " '[0.         0.6666667  0.         0.33333334 0.33333334 0.        ]',\n",
       " '[0.         0.6666667  0.         0.33333334 0.33333334 0.6666667 ]',\n",
       " '[0.         0.6666667  0.         0.33333334 0.6666667  0.        ]',\n",
       " '[0.         0.6666667  0.         0.33333334 1.         0.        ]',\n",
       " '[0.         0.6666667  0.         0.6666667  0.33333334 0.        ]',\n",
       " '[0.         0.6666667  0.         0.6666667  1.         0.33333334]',\n",
       " '[0.         0.6666667  0.33333334 0.         0.         0.        ]',\n",
       " '[0.         0.6666667  0.33333334 0.         0.6666667  0.        ]',\n",
       " '[0.         0.6666667  0.33333334 0.         1.3333334  0.        ]',\n",
       " '[0.         0.6666667  0.33333334 0.6666667  2.3333333  0.        ]',\n",
       " '[0.         0.6666667  0.6666667  0.         0.33333334 0.        ]',\n",
       " '[0.         0.6666667  1.         0.         0.33333334 0.        ]',\n",
       " '[0.         0.6666667  1.         0.33333334 1.         0.        ]',\n",
       " '[0.         0.6666667  1.3333334  0.         0.33333334 0.        ]',\n",
       " '[0.         1.         0.         0.         0.         0.33333334]',\n",
       " '[0.         1.         0.         0.         0.33333334 0.        ]',\n",
       " '[0.         1.         0.         0.33333334 0.6666667  0.        ]',\n",
       " '[0.         1.         0.33333334 0.         0.         0.        ]',\n",
       " '[0.         1.         0.33333334 0.         0.33333334 0.        ]',\n",
       " '[0.         1.         0.33333334 0.         1.         0.        ]',\n",
       " '[0.         1.         0.33333334 0.         1.3333334  0.        ]',\n",
       " '[0.         1.         0.33333334 0.6666667  0.6666667  0.        ]',\n",
       " '[0.         1.         1.         0.33333334 0.33333334 0.        ]',\n",
       " '[0.         1.         1.3333334  0.33333334 0.33333334 0.        ]',\n",
       " '[0.         1.3333334  0.         0.         0.33333334 0.        ]',\n",
       " '[0.         1.3333334  0.         0.33333334 0.33333334 0.        ]',\n",
       " '[0.         1.3333334  0.33333334 0.         0.6666667  0.        ]',\n",
       " '[0.         1.3333334  0.33333334 0.         1.         0.        ]',\n",
       " '[0.         1.3333334  0.33333334 0.33333334 2.         0.        ]',\n",
       " '[0.         1.3333334  1.         0.         0.33333334 0.6666667 ]',\n",
       " '[0.         1.6666666  0.         0.33333334 0.         0.        ]',\n",
       " '[0.         1.6666666  0.33333334 0.         1.6666666  0.        ]',\n",
       " '[0.        0.        0.        0.        0.        0.6666667]',\n",
       " '[0.        0.        0.        0.        0.6666667 0.       ]',\n",
       " '[0.        0.        0.        0.        1.3333334 0.       ]',\n",
       " '[0.        0.        0.        0.6666667 0.        0.       ]',\n",
       " '[0.        0.        0.        0.6666667 0.6666667 0.       ]',\n",
       " '[0.        0.        0.        0.6666667 1.3333334 0.       ]',\n",
       " '[0.        0.        0.6666667 0.        0.        0.       ]',\n",
       " '[0.        0.        0.6666667 0.        0.6666667 0.       ]',\n",
       " '[0.        0.        0.6666667 0.        1.        0.       ]',\n",
       " '[0.        0.        0.6666667 0.        1.3333334 0.       ]',\n",
       " '[0.        0.        0.6666667 0.        1.6666666 0.       ]',\n",
       " '[0.        0.        0.6666667 0.6666667 1.        0.       ]',\n",
       " '[0.        0.        1.        0.        0.6666667 0.       ]',\n",
       " '[0.        0.        1.        0.        1.6666666 0.       ]',\n",
       " '[0.        0.        1.3333334 0.        0.        0.       ]',\n",
       " '[0.        0.        1.3333334 0.        0.6666667 0.       ]',\n",
       " '[0.        0.        1.3333334 0.        1.        0.       ]',\n",
       " '[0.        0.        1.3333334 0.        1.3333334 0.       ]',\n",
       " '[0.        0.        1.6666666 0.        0.6666667 0.       ]',\n",
       " '[0.        0.        1.6666666 0.        1.        0.       ]',\n",
       " '[0.        0.        1.6666666 0.        1.3333334 0.       ]',\n",
       " '[0.        0.6666667 0.        0.        0.        0.       ]',\n",
       " '[0.        0.6666667 0.        0.        0.        0.6666667]',\n",
       " '[0.        0.6666667 0.        0.        0.6666667 0.       ]',\n",
       " '[0.        0.6666667 0.        0.        0.6666667 0.6666667]',\n",
       " '[0.        0.6666667 0.        0.        1.3333334 0.       ]',\n",
       " '[0.        0.6666667 0.        0.6666667 0.6666667 0.       ]',\n",
       " '[0.        0.6666667 0.6666667 0.        0.        0.       ]',\n",
       " '[0.        0.6666667 0.6666667 0.        0.6666667 0.       ]',\n",
       " '[0.        0.6666667 0.6666667 0.        1.        0.       ]',\n",
       " '[0.        0.6666667 0.6666667 0.        2.        0.       ]',\n",
       " '[0.        0.6666667 0.6666667 0.6666667 1.3333334 0.       ]',\n",
       " '[0.        0.6666667 1.        0.        0.        0.       ]',\n",
       " '[0.        0.6666667 1.        0.        0.6666667 0.       ]',\n",
       " '[0.        0.6666667 1.        0.        1.        0.       ]',\n",
       " '[0.        0.6666667 1.        0.        1.3333334 0.       ]',\n",
       " '[0.        0.6666667 1.3333334 0.        0.6666667 0.       ]',\n",
       " '[0.        0.6666667 1.6666666 0.        1.        0.       ]',\n",
       " '[0.        1.        0.        0.        0.6666667 0.       ]',\n",
       " '[0.        1.        0.6666667 0.        0.        0.       ]',\n",
       " '[0.        1.        0.6666667 0.        0.6666667 0.       ]',\n",
       " '[0.        1.        0.6666667 0.        1.        0.       ]',\n",
       " '[0.        1.        0.6666667 0.        1.3333334 0.       ]',\n",
       " '[0.        1.3333334 0.        0.        0.        0.       ]',\n",
       " '[0.        1.3333334 0.        0.        0.        0.6666667]',\n",
       " '[0.        1.3333334 0.        0.        0.6666667 0.       ]',\n",
       " '[0.        1.3333334 0.6666667 0.        0.6666667 0.       ]',\n",
       " '[0.        1.6666666 0.        0.        0.        0.       ]',\n",
       " '[0.        1.6666666 1.        0.        0.6666667 0.       ]',\n",
       " '[0. 0. 0. 0. 0. 0.]',\n",
       " '[0. 0. 0. 0. 0. 1.]',\n",
       " '[0. 0. 0. 0. 1. 0.]',\n",
       " '[0. 0. 1. 0. 0. 0.]',\n",
       " '[0. 0. 1. 0. 1. 0.]',\n",
       " '[0. 0. 1. 0. 2. 0.]',\n",
       " '[0. 1. 0. 0. 0. 0.]',\n",
       " '[0. 1. 0. 0. 1. 0.]',\n",
       " '[0. 1. 2. 0. 1. 0.]',\n",
       " '[0. 2. 0. 0. 1. 0.]',\n",
       " '[0.33333334 0.         0.         0.         0.         0.        ]',\n",
       " '[0.33333334 0.         0.         0.         0.         0.33333334]',\n",
       " '[0.33333334 0.         0.         0.         0.         0.6666667 ]',\n",
       " '[0.33333334 0.         0.         0.         0.33333334 0.        ]',\n",
       " '[0.33333334 0.         0.         0.         0.6666667  0.        ]',\n",
       " '[0.33333334 0.         0.         0.33333334 0.         0.        ]',\n",
       " '[0.33333334 0.         0.         0.33333334 0.33333334 0.        ]',\n",
       " '[0.33333334 0.         0.         0.6666667  0.         0.        ]',\n",
       " '[0.33333334 0.         0.         0.6666667  0.33333334 0.        ]',\n",
       " '[0.33333334 0.         0.         0.6666667  0.6666667  0.        ]',\n",
       " '[0.33333334 0.         0.33333334 0.         0.         0.        ]',\n",
       " '[0.33333334 0.         0.33333334 0.         0.33333334 0.        ]',\n",
       " '[0.33333334 0.         0.33333334 0.         0.33333334 0.33333334]',\n",
       " '[0.33333334 0.         0.33333334 0.         0.6666667  0.        ]',\n",
       " '[0.33333334 0.         0.33333334 0.6666667  0.6666667  0.        ]',\n",
       " '[0.33333334 0.         0.6666667  0.         0.         0.        ]',\n",
       " '[0.33333334 0.         0.6666667  0.         0.33333334 0.        ]',\n",
       " '[0.33333334 0.         0.6666667  0.         0.6666667  0.        ]',\n",
       " '[0.33333334 0.         0.6666667  0.         1.         0.        ]',\n",
       " '[0.33333334 0.         0.6666667  0.         2.         0.        ]',\n",
       " '[0.33333334 0.         0.6666667  0.33333334 0.         0.        ]',\n",
       " '[0.33333334 0.         0.6666667  0.6666667  0.         0.        ]',\n",
       " '[0.33333334 0.         0.6666667  1.         0.         0.        ]',\n",
       " '[0.33333334 0.         1.         0.         0.         0.        ]',\n",
       " '[0.33333334 0.         1.         0.         0.33333334 0.        ]',\n",
       " '[0.33333334 0.         1.         0.         0.6666667  0.        ]',\n",
       " '[0.33333334 0.         1.         0.         1.         0.        ]',\n",
       " '[0.33333334 0.         1.         0.33333334 0.         0.6666667 ]',\n",
       " '[0.33333334 0.33333334 0.         0.         0.         0.        ]',\n",
       " '[0.33333334 0.33333334 0.         0.         0.         0.33333334]',\n",
       " '[0.33333334 0.33333334 0.         0.         0.33333334 0.        ]',\n",
       " '[0.33333334 0.33333334 0.         0.33333334 0.         0.33333334]',\n",
       " '[0.33333334 0.33333334 0.         1.         0.6666667  0.        ]',\n",
       " '[0.33333334 0.33333334 0.33333334 0.         0.         0.        ]',\n",
       " '[0.33333334 0.33333334 0.6666667  0.         0.         0.        ]',\n",
       " '[0.33333334 0.33333334 0.6666667  0.         0.33333334 0.        ]',\n",
       " '[0.33333334 0.33333334 2.         0.         3.         0.        ]',\n",
       " '[0.33333334 0.6666667  0.         0.         0.         0.        ]',\n",
       " '[0.33333334 0.6666667  0.         0.         0.6666667  0.        ]',\n",
       " '[0.33333334 0.6666667  0.         0.         1.         0.        ]',\n",
       " '[0.33333334 0.6666667  0.         0.6666667  0.33333334 0.        ]',\n",
       " '[0.33333334 0.6666667  0.33333334 0.         0.6666667  0.33333334]',\n",
       " '[0.33333334 0.6666667  0.6666667  0.         0.         0.        ]',\n",
       " '[0.33333334 0.6666667  0.6666667  0.         0.33333334 0.        ]',\n",
       " '[0.33333334 1.         0.         0.         0.         0.        ]',\n",
       " '[0.33333334 1.         0.         0.         0.33333334 0.        ]',\n",
       " '[0.33333334 1.         0.         0.33333334 0.         0.        ]',\n",
       " '[0.33333334 1.3333334  0.         0.         0.         0.        ]',\n",
       " '[0.33333334 1.3333334  0.         0.         0.6666667  0.6666667 ]',\n",
       " '[0.33333334 1.3333334  0.         0.33333334 0.6666667  0.        ]',\n",
       " '[0.33333334 1.3333334  0.33333334 0.         0.         0.        ]',\n",
       " '[0.33333334 1.6666666  0.         0.         0.         0.        ]',\n",
       " '[0.6666667  0.         0.         0.         0.         0.33333334]',\n",
       " '[0.6666667  0.         0.         0.         0.33333334 0.        ]',\n",
       " '[0.6666667  0.         0.         0.33333334 0.         0.        ]',\n",
       " '[0.6666667  0.         0.         0.6666667  0.33333334 0.        ]',\n",
       " '[0.6666667  0.         0.33333334 0.         0.         0.        ]',\n",
       " '[0.6666667  0.         0.6666667  0.         0.33333334 0.        ]',\n",
       " '[0.6666667  0.33333334 0.         0.         0.         0.        ]',\n",
       " '[0.6666667  0.33333334 0.         0.         0.         0.33333334]',\n",
       " '[0.6666667  0.33333334 0.33333334 0.         1.3333334  0.33333334]',\n",
       " '[0.6666667  0.33333334 0.6666667  0.33333334 0.6666667  0.        ]',\n",
       " '[0.6666667  0.6666667  0.         0.         0.         0.33333334]',\n",
       " '[0.6666667  1.6666666  0.         0.         0.         0.33333334]',\n",
       " '[0.6666667 0.        0.        0.        0.        0.       ]',\n",
       " '[0.6666667 0.        0.        0.        0.        0.6666667]',\n",
       " '[0.6666667 0.        0.        0.        0.6666667 0.       ]',\n",
       " '[0.6666667 0.        0.        0.6666667 0.        0.       ]',\n",
       " '[0.6666667 0.        0.6666667 0.        0.        0.       ]',\n",
       " '[0.6666667 0.        0.6666667 0.        0.        0.6666667]',\n",
       " '[0.6666667 0.        0.6666667 0.        0.6666667 0.       ]',\n",
       " '[0.6666667 0.        0.6666667 0.6666667 0.        0.       ]',\n",
       " '[0.6666667 0.        1.        0.        0.        0.       ]',\n",
       " '[0.6666667 0.6666667 0.        0.        0.        0.       ]',\n",
       " '[1.         0.         0.         0.         0.         0.33333334]',\n",
       " '[1.         0.         0.         0.         0.33333334 0.        ]',\n",
       " '[1.         0.         0.         0.33333334 0.         0.        ]',\n",
       " '[1.         0.         0.33333334 0.         0.         0.        ]',\n",
       " '[1.         0.         0.33333334 0.33333334 0.         0.        ]',\n",
       " '[1.         0.33333334 0.         0.33333334 0.         0.        ]',\n",
       " '[1.         0.33333334 0.33333334 0.         0.33333334 0.        ]',\n",
       " '[1.         0.33333334 0.6666667  0.         0.33333334 0.        ]',\n",
       " '[1.         0.6666667  0.         0.33333334 0.         0.        ]',\n",
       " '[1.         0.6666667  0.         0.33333334 0.         0.33333334]',\n",
       " '[1.         1.         0.         0.         0.33333334 0.        ]',\n",
       " '[1.        0.        0.        0.        0.        0.6666667]',\n",
       " '[1.        0.        0.        0.        0.6666667 0.       ]',\n",
       " '[1.        0.        0.6666667 0.        0.        0.       ]',\n",
       " '[1.        0.        0.6666667 0.        0.6666667 0.       ]',\n",
       " '[1.        0.        0.6666667 0.6666667 0.        0.       ]',\n",
       " '[1.        0.        1.        0.        0.6666667 0.       ]',\n",
       " '[1.        0.6666667 0.        0.        0.        0.       ]',\n",
       " '[1.        1.3333334 0.        0.        0.        0.       ]',\n",
       " '[1. 0. 0. 0. 0. 0.]',\n",
       " '[1. 0. 0. 3. 0. 0.]',\n",
       " '[1.3333334  0.         0.         0.33333334 0.         0.        ]',\n",
       " '[1.3333334  0.         0.         0.6666667  0.33333334 0.        ]',\n",
       " '[1.3333334  0.         0.33333334 0.         0.         0.        ]',\n",
       " '[1.3333334  0.         0.33333334 0.33333334 0.         1.        ]',\n",
       " '[1.3333334  0.33333334 0.         0.         0.         0.33333334]',\n",
       " '[1.3333334  0.33333334 0.         0.         0.         0.6666667 ]',\n",
       " '[1.3333334  1.3333334  0.6666667  0.         0.6666667  0.33333334]',\n",
       " '[1.3333334 0.        0.        0.        0.        0.       ]',\n",
       " '[1.3333334 0.        0.        0.6666667 0.        0.       ]',\n",
       " '[1.3333334 0.        0.6666667 0.        0.        0.       ]',\n",
       " '[1.3333334 0.        1.        0.        0.        0.       ]',\n",
       " '[1.6666666  0.         0.         0.33333334 0.         0.        ]',\n",
       " '[1.6666666  0.         0.33333334 0.33333334 0.         0.        ]',\n",
       " '[1.6666666  0.33333334 0.33333334 0.33333334 0.         0.        ]',\n",
       " '[1.6666666 0.        0.        0.        0.        0.       ]',\n",
       " '[1.6666666 0.        0.        0.        1.3333334 0.       ]',\n",
       " '[1.6666666 0.        0.        0.6666667 0.        0.       ]',\n",
       " '[2.         0.         0.         0.33333334 0.         0.        ]',\n",
       " '[2. 0. 0. 0. 0. 0.]',\n",
       " '[2.3333333  0.         0.         0.33333334 0.         0.        ]',\n",
       " '[2.3333333 0.        0.        0.        0.        0.       ]',\n",
       " '[2.6666667 0.        0.        0.        0.        0.       ]'}"
      ]
     },
     "execution_count": 30,
     "metadata": {},
     "output_type": "execute_result"
    }
   ],
   "source": [
    "set([str(data['train']['labels'][i, ]) for i in range(l)])"
   ]
  },
  {
   "cell_type": "code",
   "execution_count": 18,
   "metadata": {},
   "outputs": [
    {
     "data": {
      "text/plain": [
       "array([0.05555556, 0.16666667, 0.2777778 , ..., 0.05555556, 0.05555556,\n",
       "       0.11111111], dtype=float32)"
      ]
     },
     "execution_count": 18,
     "metadata": {},
     "output_type": "execute_result"
    }
   ],
   "source": [
    "data['valid']['labels'].mean(axis=1)"
   ]
  },
  {
   "cell_type": "code",
   "execution_count": 5,
   "metadata": {},
   "outputs": [
    {
     "data": {
      "text/plain": [
       "(0.17060202, 0.38884863)"
      ]
     },
     "execution_count": 5,
     "metadata": {},
     "output_type": "execute_result"
    }
   ],
   "source": [
    "l = data['train']['labels']\n",
    "l.mean(), l.std()"
   ]
  },
  {
   "cell_type": "code",
   "execution_count": 6,
   "metadata": {},
   "outputs": [
    {
     "data": {
      "text/plain": [
       "(0.15788957, 0.35869458)"
      ]
     },
     "execution_count": 6,
     "metadata": {},
     "output_type": "execute_result"
    }
   ],
   "source": [
    "l = data['valid']['labels']\n",
    "l.mean(), l.std()"
   ]
  },
  {
   "cell_type": "code",
   "execution_count": 7,
   "metadata": {},
   "outputs": [
    {
     "data": {
      "text/plain": [
       "(0.1702042, 0.38322833)"
      ]
     },
     "execution_count": 7,
     "metadata": {},
     "output_type": "execute_result"
    }
   ],
   "source": [
    "l = data['test']['labels']\n",
    "l.mean(), l.std()"
   ]
  },
  {
   "cell_type": "code",
   "execution_count": 8,
   "metadata": {},
   "outputs": [
    {
     "data": {
      "text/plain": [
       "dict"
      ]
     },
     "execution_count": 8,
     "metadata": {},
     "output_type": "execute_result"
    }
   ],
   "source": [
    "type(data)"
   ]
  },
  {
   "cell_type": "code",
   "execution_count": 9,
   "metadata": {},
   "outputs": [
    {
     "data": {
      "text/plain": [
       "dict_keys(['train', 'valid', 'test'])"
      ]
     },
     "execution_count": 9,
     "metadata": {},
     "output_type": "execute_result"
    }
   ],
   "source": [
    "data.keys()"
   ]
  },
  {
   "cell_type": "code",
   "execution_count": 10,
   "metadata": {},
   "outputs": [
    {
     "data": {
      "text/plain": [
       "dict"
      ]
     },
     "execution_count": 10,
     "metadata": {},
     "output_type": "execute_result"
    }
   ],
   "source": [
    "type(data['train'])"
   ]
  },
  {
   "cell_type": "code",
   "execution_count": 11,
   "metadata": {},
   "outputs": [
    {
     "data": {
      "text/plain": [
       "dict_keys(['vision', 'text', 'audio', 'labels'])"
      ]
     },
     "execution_count": 11,
     "metadata": {},
     "output_type": "execute_result"
    }
   ],
   "source": [
    "data['train'].keys()"
   ]
  },
  {
   "cell_type": "code",
   "execution_count": 12,
   "metadata": {},
   "outputs": [
    {
     "data": {
      "text/plain": [
       "numpy.ndarray"
      ]
     },
     "execution_count": 12,
     "metadata": {},
     "output_type": "execute_result"
    }
   ],
   "source": [
    "type(data['train']['vision'])"
   ]
  },
  {
   "cell_type": "code",
   "execution_count": 13,
   "metadata": {},
   "outputs": [
    {
     "data": {
      "text/plain": [
       "(1284, 500, 35)"
      ]
     },
     "execution_count": 13,
     "metadata": {},
     "output_type": "execute_result"
    }
   ],
   "source": [
    "data['train']['vision'].shape"
   ]
  },
  {
   "cell_type": "code",
   "execution_count": 14,
   "metadata": {},
   "outputs": [
    {
     "data": {
      "text/plain": [
       "(1284, 50, 768)"
      ]
     },
     "execution_count": 14,
     "metadata": {},
     "output_type": "execute_result"
    }
   ],
   "source": [
    "data['train']['text'].shape"
   ]
  },
  {
   "cell_type": "code",
   "execution_count": 15,
   "metadata": {},
   "outputs": [
    {
     "data": {
      "text/plain": [
       "(1284, 500, 25)"
      ]
     },
     "execution_count": 15,
     "metadata": {},
     "output_type": "execute_result"
    }
   ],
   "source": [
    "data['train']['audio'].shape"
   ]
  },
  {
   "cell_type": "code",
   "execution_count": 16,
   "metadata": {},
   "outputs": [
    {
     "data": {
      "text/plain": [
       "(1284, 1, 1)"
      ]
     },
     "execution_count": 16,
     "metadata": {},
     "output_type": "execute_result"
    }
   ],
   "source": [
    "data['train']['labels'].shape"
   ]
  },
  {
   "cell_type": "markdown",
   "metadata": {},
   "source": [
    "# Norm"
   ]
  },
  {
   "cell_type": "code",
   "execution_count": 9,
   "metadata": {},
   "outputs": [],
   "source": [
    "mods = [\"visual\", \"text\", \"audio\"]\n",
    "\n",
    "\n",
    "def get_norms(i):\n",
    "    mod_data = data['train'][i]\n",
    "    a_list = [mod_data[j,] for j in range(mod_data.shape[0])]\n",
    "    a_array = np.concatenate(a_list)\n",
    "    return np.mean(a_array, axis=0), np.std(a_array, axis=0)"
   ]
  },
  {
   "cell_type": "code",
   "execution_count": 10,
   "metadata": {},
   "outputs": [],
   "source": [
    "a_mean, a_std = get_norms(\"audio\")\n",
    "v_mean, v_std = get_norms(\"vision\")\n",
    "# t_mean, t_std = get_norms(2)\n",
    "\n",
    "np.savez(\"mosei_norms\", a_mean=a_mean, a_std=a_std, v_mean = v_mean, v_std = v_std)"
   ]
  },
  {
   "cell_type": "code",
   "execution_count": 11,
   "metadata": {},
   "outputs": [
    {
     "data": {
      "text/plain": [
       "((25,), (35,))"
      ]
     },
     "execution_count": 11,
     "metadata": {},
     "output_type": "execute_result"
    }
   ],
   "source": [
    "a_mean.shape, v_mean.shape"
   ]
  },
  {
   "cell_type": "code",
   "execution_count": 12,
   "metadata": {},
   "outputs": [
    {
     "data": {
      "text/plain": [
       "((25,), (35,))"
      ]
     },
     "execution_count": 12,
     "metadata": {},
     "output_type": "execute_result"
    }
   ],
   "source": [
    "a_std.shape, v_std.shape"
   ]
  },
  {
   "cell_type": "code",
   "execution_count": null,
   "metadata": {},
   "outputs": [],
   "source": []
  }
 ],
 "metadata": {
  "kernelspec": {
   "display_name": "Python 3",
   "language": "python",
   "name": "python3"
  },
  "language_info": {
   "codemirror_mode": {
    "name": "ipython",
    "version": 3
   },
   "file_extension": ".py",
   "mimetype": "text/x-python",
   "name": "python",
   "nbconvert_exporter": "python",
   "pygments_lexer": "ipython3",
   "version": "3.7.6"
  }
 },
 "nbformat": 4,
 "nbformat_minor": 4
}
