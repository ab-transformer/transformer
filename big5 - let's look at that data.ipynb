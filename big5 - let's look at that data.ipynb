{
 "cells": [
  {
   "cell_type": "code",
   "execution_count": 37,
   "metadata": {},
   "outputs": [],
   "source": [
    "import numpy as np\n",
    "import pickle as pk\n",
    "from pathlib import Path\n",
    "from tqdm import tqdm\n",
    "\n",
    "import torch as th"
   ]
  },
  {
   "cell_type": "code",
   "execution_count": 38,
   "metadata": {},
   "outputs": [],
   "source": [
    "data_dir = Path('/workspace/lld_au_bert')"
   ]
  },
  {
   "cell_type": "code",
   "execution_count": 39,
   "metadata": {},
   "outputs": [
    {
     "name": "stdout",
     "output_type": "stream",
     "text": [
      "train: 6000\n"
     ]
    }
   ],
   "source": [
    "for split in ['train', 'valid', 'test']:\n",
    "    file_name = f'fi_{split}_lld_au_bert.pkl'\n",
    "    with open(data_dir/file_name, 'rb') as f:\n",
    "        data = pk.load(f)\n",
    "    print(f'{split}: {len(data)}')\n",
    "    break\n",
    "    \n",
    "#     for item in tqdm(data):\n",
    "#         a, v, t = item[0]\n",
    "#         label = item[1]\n",
    "#         assert a.shape[1] == 25\n",
    "#         assert v.shape[1] == 35\n",
    "#         assert t.shape[1] == 768\n",
    "#         assert label.shape[0] == 5"
   ]
  },
  {
   "cell_type": "code",
   "execution_count": 41,
   "metadata": {},
   "outputs": [
    {
     "data": {
      "text/plain": [
       "numpy.ndarray"
      ]
     },
     "execution_count": 41,
     "metadata": {},
     "output_type": "execute_result"
    }
   ],
   "source": [
    "type(data[0][1])"
   ]
  },
  {
   "cell_type": "code",
   "execution_count": 3,
   "metadata": {},
   "outputs": [],
   "source": [
    "file_name = f'fi_valid_lld_au_bert.pkl'\n",
    "with open(data_dir/file_name, 'rb') as f:\n",
    "    data = pk.load(f)"
   ]
  },
  {
   "cell_type": "markdown",
   "metadata": {},
   "source": [
    "# Norm"
   ]
  },
  {
   "cell_type": "code",
   "execution_count": 27,
   "metadata": {},
   "outputs": [],
   "source": [
    "mods = [\"audio\", \"visual\", \"text\"]\n",
    "\n",
    "\n",
    "def get_norms(i):\n",
    "    a_list = [d[0][i] for d in data]\n",
    "    a_array = np.concatenate(a_list)\n",
    "    return np.mean(a_array, axis=0), np.std(a_array, axis=0)"
   ]
  },
  {
   "cell_type": "code",
   "execution_count": 33,
   "metadata": {},
   "outputs": [],
   "source": [
    "a_mean, a_std = get_norms(0)\n",
    "v_mean, v_std = get_norms(1)\n",
    "# t_mean, t_std = get_norms(2)\n",
    "\n",
    "np.savez(\"norms\", a_mean=a_mean, a_std=a_std, v_mean = v_mean, v_std = v_std)"
   ]
  },
  {
   "cell_type": "code",
   "execution_count": 35,
   "metadata": {},
   "outputs": [],
   "source": [
    "v_list = [d[0][1] for d in data]\n",
    "v_array = np.concatenate(v_list)"
   ]
  },
  {
   "cell_type": "code",
   "execution_count": 36,
   "metadata": {},
   "outputs": [
    {
     "data": {
      "text/plain": [
       "(862615, 35)"
      ]
     },
     "execution_count": 36,
     "metadata": {},
     "output_type": "execute_result"
    }
   ],
   "source": [
    "v_array.shape"
   ]
  },
  {
   "cell_type": "markdown",
   "metadata": {},
   "source": [
    "# Time length"
   ]
  },
  {
   "cell_type": "code",
   "execution_count": null,
   "metadata": {},
   "outputs": [],
   "source": [
    "a_shapes = []\n",
    "v_shapes = []\n",
    "t_shapes = []\n",
    "for (a, v, t), l in tqdm(data):\n",
    "    a_shapes.append(a.shape[0])\n",
    "    v_shapes.append(v.shape[0])\n",
    "    t_shapes.append(t.shape[0])"
   ]
  },
  {
   "cell_type": "code",
   "execution_count": 17,
   "metadata": {},
   "outputs": [
    {
     "name": "stdout",
     "output_type": "stream",
     "text": [
      "[ 434  917  950  989  994 1078 1201 1359 1379 1403 1470 1505 1526] [   1    1    1    1    1    1    1    1    1    1    1    1 1988]\n"
     ]
    }
   ],
   "source": [
    "v, c = np.unique(a_shapes, return_counts=True)\n",
    "print(v, c)"
   ]
  },
  {
   "cell_type": "code",
   "execution_count": 18,
   "metadata": {},
   "outputs": [
    {
     "name": "stdout",
     "output_type": "stream",
     "text": [
      "[ 81 103 115 131 153 192 204 208 214 218 219 220 224 227 228 229 230 231\n",
      " 232 237 238 239 244 255 260 289 297 299 305 306 321 333 367 368 369 371\n",
      " 376 381 382 383 401 409 417 421 426 431 435 438 441 444 445 449 451 454\n",
      " 455 456 457 458 459] [   1    1    2    1    2    3    1    1    2    1    3    1    2    1\n",
      "    1    5   17    5    2    3    2    1    1    1    3    1    1    1\n",
      "    1    1    2    2  199    9    1    1    1    1    2  244    1    3\n",
      "    1    1    1    2    1    1    1    5    1    2    1    1    1    7\n",
      "   11   12 1417]\n"
     ]
    }
   ],
   "source": [
    "v, c = np.unique(v_shapes, return_counts=True)\n",
    "print(v, c)"
   ]
  },
  {
   "cell_type": "code",
   "execution_count": 19,
   "metadata": {},
   "outputs": [
    {
     "name": "stdout",
     "output_type": "stream",
     "text": [
      "[  4   5   6   7   8   9  10  11  13  14  15  16  17  18  19  20  21  22\n",
      "  23  24  25  26  27  28  29  30  31  32  33  34  35  36  37  38  39  40\n",
      "  41  42  43  44  45  46  47  48  49  50  51  52  53  54  55  56  57  58\n",
      "  59  60  61  62  63  64  65  66  67  68  69  70  71  72  73  74  75  76\n",
      "  77  78  79  80  81  82  83  84  85  86  87  88  89  90  91  92  93  94\n",
      "  96  97  98  99 100 101 102 104 106 108 113 114] [ 3  2  2  2  2 10  2  4  1  4  1  1  3  2  1  1  2  6  2  1  5  2  4  4\n",
      "  5  6  8  3  8  7 11  9 21 16 19 23 25 26 23 27 29 39 39 51 47 55 46 51\n",
      " 67 49 55 54 70 62 44 54 61 46 48 62 59 53 45 42 34 40 50 30 36 24 34 22\n",
      " 24 23 14 12 17 13 15 12  8  8  8  4  9  2  3  4  6  2  2  1  2  1  1  1\n",
      "  1  1  1  1  1  1]\n"
     ]
    }
   ],
   "source": [
    "v, c = np.unique(t_shapes, return_counts=True)\n",
    "print(v, c)"
   ]
  },
  {
   "cell_type": "code",
   "execution_count": null,
   "metadata": {},
   "outputs": [],
   "source": []
  }
 ],
 "metadata": {
  "kernelspec": {
   "display_name": "Python 3",
   "language": "python",
   "name": "python3"
  },
  "language_info": {
   "codemirror_mode": {
    "name": "ipython",
    "version": 3
   },
   "file_extension": ".py",
   "mimetype": "text/x-python",
   "name": "python",
   "nbconvert_exporter": "python",
   "pygments_lexer": "ipython3",
   "version": "3.7.6"
  }
 },
 "nbformat": 4,
 "nbformat_minor": 4
}
