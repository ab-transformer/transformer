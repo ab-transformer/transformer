{
 "cells": [
  {
   "cell_type": "code",
   "execution_count": 2,
   "metadata": {},
   "outputs": [
    {
     "name": "stderr",
     "output_type": "stream",
     "text": [
      "/opt/conda/lib/python3.7/site-packages/torchaudio/backend/utils.py:54: UserWarning: \"sox\" backend is being deprecated. The default backend will be changed to \"sox_io\" backend in 0.8.0 and \"sox\" backend will be removed in 0.9.0. Please migrate to \"sox_io\" backend. Please refer to https://github.com/pytorch/audio/issues/903 for the detail.\n",
      "  '\"sox\" backend is being deprecated. '\n"
     ]
    }
   ],
   "source": [
    "from pathlib import Path\n",
    "\n",
    "import soundfile as sf\n",
    "import numpy as np\n",
    "import torch as th\n",
    "from transformers import Wav2Vec2Tokenizer, Wav2Vec2Model\n",
    "from torchaudio.transforms import Resample\n",
    "from tqdm import tqdm"
   ]
  },
  {
   "cell_type": "code",
   "execution_count": 1,
   "metadata": {},
   "outputs": [
    {
     "name": "stderr",
     "output_type": "stream",
     "text": [
      "2021-04-01 07:57:26,872\tINFO services.py:1174 -- View the Ray dashboard at \u001b[1m\u001b[32mhttp://127.0.0.1:8265\u001b[39m\u001b[22m\n",
      "2021-04-01 07:57:26,911\tWARNING services.py:1628 -- WARNING: The object store is using /tmp instead of /dev/shm because /dev/shm has only 2147479552 bytes available. This will harm performance! You may be able to free up space by deleting files in /dev/shm. If you are inside a Docker container, you can increase /dev/shm size by passing '--shm-size=Xgb' to 'docker run' (or add it to the run_options list in a Ray cluster config). Make sure to set this to more than 2gb.\n"
     ]
    },
    {
     "data": {
      "text/plain": [
       "{'node_ip_address': '172.17.0.2',\n",
       " 'raylet_ip_address': '172.17.0.2',\n",
       " 'redis_address': '172.17.0.2:6379',\n",
       " 'object_store_address': '/tmp/ray/session_2021-04-01_07-57-20_523792_2980753/sockets/plasma_store',\n",
       " 'raylet_socket_name': '/tmp/ray/session_2021-04-01_07-57-20_523792_2980753/sockets/raylet',\n",
       " 'webui_url': '127.0.0.1:8265',\n",
       " 'session_dir': '/tmp/ray/session_2021-04-01_07-57-20_523792_2980753',\n",
       " 'metrics_export_port': 64002,\n",
       " 'node_id': '77ac952e9693d761bc4d8f47c1a48ae61735dd6dfab5e4dfe946919c'}"
      ]
     },
     "execution_count": 1,
     "metadata": {},
     "output_type": "execute_result"
    }
   ],
   "source": [
    "import ray\n",
    "ray.init() # Only call this once."
   ]
  },
  {
   "cell_type": "code",
   "execution_count": 5,
   "metadata": {},
   "outputs": [],
   "source": [
    "audio_dir = Path(\"/impressionv2_faces/audio/\")\n",
    "videos = list(audio_dir.glob(\"*.wav\"))"
   ]
  },
  {
   "cell_type": "code",
   "execution_count": 27,
   "metadata": {},
   "outputs": [],
   "source": [
    "@ray.remote\n",
    "class Wav2VecTokenizer:\n",
    "    def __init__(self):\n",
    "        self.tokenizer = Wav2Vec2Tokenizer.from_pretrained(\n",
    "            \"facebook/wav2vec2-base-960h\"\n",
    "        )\n",
    "\n",
    "    def tokenize(self, audio_path):\n",
    "        audio_input, sampling_rate = sf.read(audio_path)\n",
    "        resampler = Resample(sampling_rate)\n",
    "        audio_input = resampler(th.tensor(audio_input))\n",
    "        input_values = self.tokenizer(audio_input, return_tensors=\"pt\").input_values\n",
    "        return input_values"
   ]
  },
  {
   "cell_type": "code",
   "execution_count": 28,
   "metadata": {},
   "outputs": [],
   "source": [
    "tokenizers = [Wav2VecTokenizer.remote() for i in range(10)]"
   ]
  },
  {
   "cell_type": "code",
   "execution_count": 29,
   "metadata": {},
   "outputs": [],
   "source": [
    "from ray.util import ActorPool\n",
    "\n",
    "pool = ActorPool(tokenizers)\n",
    "tokens = pool.map(lambda a, v: a.tokenize.remote(v), videos[:10])"
   ]
  },
  {
   "cell_type": "code",
   "execution_count": 30,
   "metadata": {},
   "outputs": [
    {
     "name": "stderr",
     "output_type": "stream",
     "text": [
      "ERROR:root:Internal Python error in the inspect module.\n",
      "Below is the traceback from this internal error.\n",
      "\n"
     ]
    },
    {
     "name": "stdout",
     "output_type": "stream",
     "text": [
      "Traceback (most recent call last):\n",
      "  File \"/opt/conda/lib/python3.7/site-packages/IPython/core/interactiveshell.py\", line 3319, in run_code\n",
      "    exec(code_obj, self.user_global_ns, self.user_ns)\n",
      "  File \"<ipython-input-30-76b3fabddcb6>\", line 1, in <module>\n",
      "    tokens = list(tokens)\n",
      "  File \"/opt/conda/lib/python3.7/site-packages/ray/util/actor_pool.py\", line 63, in map\n",
      "    yield self.get_next()\n",
      "  File \"/opt/conda/lib/python3.7/site-packages/ray/util/actor_pool.py\", line 172, in get_next\n",
      "    return ray.get(future)\n",
      "  File \"/opt/conda/lib/python3.7/site-packages/ray/_private/client_mode_hook.py\", line 47, in wrapper\n",
      "    return func(*args, **kwargs)\n",
      "  File \"/opt/conda/lib/python3.7/site-packages/ray/worker.py\", line 1449, in get\n",
      "    object_refs, timeout=timeout)\n",
      "  File \"/opt/conda/lib/python3.7/site-packages/ray/worker.py\", line 310, in get_objects\n",
      "    object_refs, self.current_task_id, timeout_ms)\n",
      "  File \"python/ray/_raylet.pyx\", line 896, in ray._raylet.CoreWorker.get_objects\n",
      "  File \"python/ray/_raylet.pyx\", line 147, in ray._raylet.check_status\n",
      "KeyboardInterrupt\n",
      "\n",
      "During handling of the above exception, another exception occurred:\n",
      "\n",
      "Traceback (most recent call last):\n",
      "  File \"/opt/conda/lib/python3.7/site-packages/IPython/core/interactiveshell.py\", line 2034, in showtraceback\n",
      "    stb = value._render_traceback_()\n",
      "AttributeError: 'KeyboardInterrupt' object has no attribute '_render_traceback_'\n",
      "\n",
      "During handling of the above exception, another exception occurred:\n",
      "\n",
      "Traceback (most recent call last):\n",
      "  File \"/opt/conda/lib/python3.7/site-packages/IPython/core/ultratb.py\", line 1151, in get_records\n",
      "    return _fixed_getinnerframes(etb, number_of_lines_of_context, tb_offset)\n",
      "  File \"/opt/conda/lib/python3.7/site-packages/IPython/core/ultratb.py\", line 319, in wrapped\n",
      "    return f(*args, **kwargs)\n",
      "  File \"/opt/conda/lib/python3.7/site-packages/IPython/core/ultratb.py\", line 353, in _fixed_getinnerframes\n",
      "    records = fix_frame_records_filenames(inspect.getinnerframes(etb, context))\n",
      "  File \"/opt/conda/lib/python3.7/inspect.py\", line 1502, in getinnerframes\n",
      "    frameinfo = (tb.tb_frame,) + getframeinfo(tb, context)\n",
      "  File \"/opt/conda/lib/python3.7/inspect.py\", line 1460, in getframeinfo\n",
      "    filename = getsourcefile(frame) or getfile(frame)\n",
      "  File \"/opt/conda/lib/python3.7/inspect.py\", line 696, in getsourcefile\n",
      "    if getattr(getmodule(object, filename), '__loader__', None) is not None:\n",
      "  File \"/opt/conda/lib/python3.7/inspect.py\", line 739, in getmodule\n",
      "    f = getabsfile(module)\n",
      "  File \"/opt/conda/lib/python3.7/inspect.py\", line 709, in getabsfile\n",
      "    return os.path.normcase(os.path.abspath(_filename))\n",
      "  File \"/opt/conda/lib/python3.7/posixpath.py\", line 385, in abspath\n",
      "    return normpath(path)\n",
      "  File \"/opt/conda/lib/python3.7/posixpath.py\", line 362, in normpath\n",
      "    if comp in (empty, dot):\n",
      "KeyboardInterrupt\n"
     ]
    },
    {
     "ename": "KeyboardInterrupt",
     "evalue": "",
     "output_type": "error",
     "traceback": [
      "\u001b[0;31m---------------------------------------------------------------------------\u001b[0m"
     ]
    }
   ],
   "source": [
    "tokens = list(tokens)"
   ]
  },
  {
   "cell_type": "code",
   "execution_count": 26,
   "metadata": {},
   "outputs": [
    {
     "data": {
      "text/plain": [
       "[tensor([0.1277, 0.2128, 0.1620,  ..., 0.0007, 0.0012, 0.0005],\n",
       "        dtype=torch.float64),\n",
       " tensor([-0.0215,  0.0182,  0.0145,  ..., -0.0006,  0.0002,  0.0001],\n",
       "        dtype=torch.float64),\n",
       " tensor([ 1.0353e-02,  1.6609e-02, -2.1176e-03,  ...,  1.6318e-04,\n",
       "         -1.1694e-05,  1.5458e-04], dtype=torch.float64),\n",
       " tensor([-0.0376, -0.0779, -0.0749,  ..., -0.0003,  0.0001,  0.0002],\n",
       "        dtype=torch.float64),\n",
       " tensor([ 5.4887e-03,  6.9581e-03,  2.2318e-03,  ...,  1.2020e-05,\n",
       "         -3.1982e-05,  1.7692e-05], dtype=torch.float64),\n",
       " tensor([-0.0045, -0.0038,  0.0039,  ..., -0.0034, -0.0063, -0.0043],\n",
       "        dtype=torch.float64),\n",
       " tensor([-0.0277, -0.0682, -0.1125,  ...,  0.0008,  0.0027,  0.0011],\n",
       "        dtype=torch.float64),\n",
       " tensor([-0.0023,  0.0042,  0.0113,  ...,  0.0053,  0.0058,  0.0034],\n",
       "        dtype=torch.float64),\n",
       " tensor([ 0.0002, -0.0006, -0.0014,  ...,  0.0023,  0.0036,  0.0016],\n",
       "        dtype=torch.float64),\n",
       " tensor([ 0.1263,  0.2145,  0.1847,  ..., -0.0058, -0.0044, -0.0004],\n",
       "        dtype=torch.float64)]"
      ]
     },
     "execution_count": 26,
     "metadata": {},
     "output_type": "execute_result"
    }
   ],
   "source": [
    "tokens"
   ]
  },
  {
   "cell_type": "code",
   "execution_count": null,
   "metadata": {},
   "outputs": [],
   "source": []
  }
 ],
 "metadata": {
  "kernelspec": {
   "display_name": "Python 3",
   "language": "python",
   "name": "python3"
  },
  "language_info": {
   "codemirror_mode": {
    "name": "ipython",
    "version": 3
   },
   "file_extension": ".py",
   "mimetype": "text/x-python",
   "name": "python",
   "nbconvert_exporter": "python",
   "pygments_lexer": "ipython3",
   "version": "3.7.6"
  }
 },
 "nbformat": 4,
 "nbformat_minor": 4
}
