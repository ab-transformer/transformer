{
 "cells": [
  {
   "cell_type": "code",
   "execution_count": 1,
   "id": "parental-preservation",
   "metadata": {},
   "outputs": [],
   "source": [
    "import numpy as np"
   ]
  },
  {
   "cell_type": "code",
   "execution_count": 3,
   "id": "interpreted-transformation",
   "metadata": {},
   "outputs": [],
   "source": [
    "big = np.load('big.npy')"
   ]
  },
  {
   "cell_type": "code",
   "execution_count": 9,
   "id": "baking-masters",
   "metadata": {},
   "outputs": [
    {
     "data": {
      "text/plain": [
       "(459, 2048)"
      ]
     },
     "execution_count": 9,
     "metadata": {},
     "output_type": "execute_result"
    }
   ],
   "source": [
    "big.shape"
   ]
  },
  {
   "cell_type": "code",
   "execution_count": 7,
   "id": "increasing-possibility",
   "metadata": {},
   "outputs": [
    {
     "data": {
      "text/plain": [
       "(0.0, 4.8696785)"
      ]
     },
     "execution_count": 7,
     "metadata": {},
     "output_type": "execute_result"
    }
   ],
   "source": [
    "big.min(), big.max()"
   ]
  },
  {
   "cell_type": "code",
   "execution_count": 8,
   "id": "painted-liberal",
   "metadata": {},
   "outputs": [],
   "source": [
    "small = np.load('small.npy')"
   ]
  },
  {
   "cell_type": "code",
   "execution_count": 10,
   "id": "after-panama",
   "metadata": {},
   "outputs": [
    {
     "data": {
      "text/plain": [
       "(1, 60, 768)"
      ]
     },
     "execution_count": 10,
     "metadata": {},
     "output_type": "execute_result"
    }
   ],
   "source": [
    "small.shape"
   ]
  },
  {
   "cell_type": "code",
   "execution_count": 11,
   "id": "absent-grenada",
   "metadata": {},
   "outputs": [
    {
     "data": {
      "text/plain": [
       "(-9.37621, 0.0)"
      ]
     },
     "execution_count": 11,
     "metadata": {},
     "output_type": "execute_result"
    }
   ],
   "source": [
    "small.min(), big.min()"
   ]
  },
  {
   "cell_type": "code",
   "execution_count": null,
   "id": "higher-school",
   "metadata": {},
   "outputs": [],
   "source": []
  }
 ],
 "metadata": {
  "kernelspec": {
   "display_name": "Python 3",
   "language": "python",
   "name": "python3"
  },
  "language_info": {
   "codemirror_mode": {
    "name": "ipython",
    "version": 3
   },
   "file_extension": ".py",
   "mimetype": "text/x-python",
   "name": "python",
   "nbconvert_exporter": "python",
   "pygments_lexer": "ipython3",
   "version": "3.8.6"
  }
 },
 "nbformat": 4,
 "nbformat_minor": 5
}
