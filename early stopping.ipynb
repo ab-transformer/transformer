{
 "cells": [
  {
   "cell_type": "code",
   "execution_count": 1,
   "metadata": {
    "ExecuteTime": {
     "end_time": "2021-03-15T15:23:32.698236Z",
     "start_time": "2021-03-15T15:23:31.914183Z"
    }
   },
   "outputs": [],
   "source": [
    "import comet_ml\n",
    "from comet_ml.query import Parameter\n",
    "\n",
    "from pathlib import Path\n",
    "\n",
    "import pandas as pd\n",
    "import numpy as np\n",
    "import matplotlib.pyplot as plt\n",
    "import yaml\n",
    "from IPython.core.display import display, HTML"
   ]
  },
  {
   "cell_type": "code",
   "execution_count": 2,
   "metadata": {
    "ExecuteTime": {
     "end_time": "2021-03-15T15:23:32.704916Z",
     "start_time": "2021-03-15T15:23:32.700390Z"
    }
   },
   "outputs": [],
   "source": [
    "def get_epoch_info(df):\n",
    "    df_train = df[~ df['train_1mae_epoch'].isnull()][['epoch', 'train_1mae_epoch']]\n",
    "    df_valid = df[~ df['valid_1mae'].isnull()][['epoch', 'valid_1mae']]\n",
    "    return df_train.merge(df_valid, on='epoch')"
   ]
  },
  {
   "cell_type": "code",
   "execution_count": 3,
   "metadata": {
    "ExecuteTime": {
     "end_time": "2021-03-15T15:23:33.189237Z",
     "start_time": "2021-03-15T15:23:32.707926Z"
    }
   },
   "outputs": [],
   "source": [
    "comet_api = comet_ml.api.API()"
   ]
  },
  {
   "cell_type": "code",
   "execution_count": 4,
   "metadata": {
    "ExecuteTime": {
     "end_time": "2021-03-15T15:23:35.811073Z",
     "start_time": "2021-03-15T15:23:33.193770Z"
    }
   },
   "outputs": [],
   "source": [
    "exps = comet_api.query(\"transformer\", \"compare-loss\", Parameter('limit') == 1.0)"
   ]
  },
  {
   "cell_type": "code",
   "execution_count": 5,
   "metadata": {
    "ExecuteTime": {
     "end_time": "2021-03-15T15:23:35.819991Z",
     "start_time": "2021-03-15T15:23:35.814888Z"
    }
   },
   "outputs": [],
   "source": [
    "csv_dir = Path('logs/csv')"
   ]
  },
  {
   "cell_type": "code",
   "execution_count": 6,
   "metadata": {
    "ExecuteTime": {
     "end_time": "2021-03-15T15:23:37.128687Z",
     "start_time": "2021-03-15T15:23:35.823953Z"
    }
   },
   "outputs": [],
   "source": [
    "dfs = {}\n",
    "for exp in exps:\n",
    "    i = exp.id\n",
    "    dfs[i] = pd.read_csv(csv_dir / i / \"version_0\" / \"metrics.csv\")"
   ]
  },
  {
   "cell_type": "code",
   "execution_count": 7,
   "metadata": {
    "ExecuteTime": {
     "end_time": "2021-03-15T15:23:37.223528Z",
     "start_time": "2021-03-15T15:23:37.131093Z"
    }
   },
   "outputs": [],
   "source": [
    "dfs = {k: get_epoch_info(df) for k, df in dfs.items()}"
   ]
  },
  {
   "cell_type": "code",
   "execution_count": 8,
   "metadata": {
    "ExecuteTime": {
     "end_time": "2021-03-15T15:23:37.229289Z",
     "start_time": "2021-03-15T15:23:37.226381Z"
    }
   },
   "outputs": [],
   "source": [
    "dfs_list = list(dfs.values())"
   ]
  },
  {
   "cell_type": "code",
   "execution_count": 9,
   "metadata": {
    "ExecuteTime": {
     "end_time": "2021-03-15T15:23:37.242319Z",
     "start_time": "2021-03-15T15:23:37.231197Z"
    }
   },
   "outputs": [],
   "source": [
    "wrong_ids = []\n",
    "for k, df in dfs.items():\n",
    "    if k == '3b9590b112734f4199faee4e671656d4': # still running\n",
    "        continue\n",
    "    ac_max = list(np.maximum.accumulate(df['valid_1mae']))\n",
    "    if (ac_max[-11] != ac_max[-1]) or ((len(ac_max) > 11) and (ac_max[-12] > ac_max[-11])):\n",
    "        wrong_ids.append(k)"
   ]
  },
  {
   "cell_type": "code",
   "execution_count": 10,
   "metadata": {
    "ExecuteTime": {
     "end_time": "2021-03-15T15:23:37.250783Z",
     "start_time": "2021-03-15T15:23:37.244838Z"
    }
   },
   "outputs": [
    {
     "name": "stdout",
     "output_type": "stream",
     "text": [
      "2 out of 16 are not fulfilling the early stopping criteria!\n"
     ]
    }
   ],
   "source": [
    "n_wrong = len(wrong_ids)\n",
    "n_total = len(dfs_list)\n",
    "print(f\"{n_wrong} out of {n_total} are not fulfilling the early stopping criteria!\")"
   ]
  },
  {
   "cell_type": "code",
   "execution_count": 11,
   "metadata": {
    "ExecuteTime": {
     "end_time": "2021-03-15T15:23:37.264018Z",
     "start_time": "2021-03-15T15:23:37.253490Z"
    }
   },
   "outputs": [
    {
     "data": {
      "text/html": [
       "<a href=\"https://www.comet.ml/transformer/compare-loss/9a1020c95e254834a1b8bf7db30b6fe9?experiment-tab=params\">https://www.comet.ml/transformer/compare-loss/9a1020c95e254834a1b8bf7db30b6fe9?experiment-tab=params</a>"
      ],
      "text/plain": [
       "<IPython.core.display.HTML object>"
      ]
     },
     "metadata": {},
     "output_type": "display_data"
    },
    {
     "data": {
      "text/html": [
       "<a href=\"https://www.comet.ml/transformer/compare-loss/e377a3d8bc82440b89b1bc1bd4cd1eb2?experiment-tab=params\">https://www.comet.ml/transformer/compare-loss/e377a3d8bc82440b89b1bc1bd4cd1eb2?experiment-tab=params</a>"
      ],
      "text/plain": [
       "<IPython.core.display.HTML object>"
      ]
     },
     "metadata": {},
     "output_type": "display_data"
    }
   ],
   "source": [
    "urls = [f\"https://www.comet.ml/transformer/compare-loss/{i}?experiment-tab=params\" for i in wrong_ids]\n",
    "for url in urls:\n",
    "    display(HTML(f'<a href=\"{url}\">{url}</a>'))"
   ]
  },
  {
   "cell_type": "code",
   "execution_count": 12,
   "metadata": {
    "ExecuteTime": {
     "end_time": "2021-03-15T15:23:37.570719Z",
     "start_time": "2021-03-15T15:23:37.265954Z"
    }
   },
   "outputs": [
    {
     "data": {
      "image/png": "[encoded data removed]",
      "text/plain": [
       "<Figure size 432x288 with 1 Axes>"
      ]
     },
     "metadata": {
      "needs_background": "light"
     },
     "output_type": "display_data"
    },
    {
     "data": {
      "image/png": "[encoded data removed]",
      "text/plain": [
       "<Figure size 432x288 with 1 Axes>"
      ]
     },
     "metadata": {
      "needs_background": "light"
     },
     "output_type": "display_data"
    }
   ],
   "source": [
    "for k in wrong_ids:\n",
    "    df = dfs[k]\n",
    "    plt.plot(np.maximum.accumulate(df['valid_1mae']))\n",
    "    plt.show()"
   ]
  }
 ],
 "metadata": {
  "kernelspec": {
   "display_name": "Python 3",
   "language": "python",
   "name": "python3"
  },
  "language_info": {
   "codemirror_mode": {
    "name": "ipython",
    "version": 3
   },
   "file_extension": ".py",
   "mimetype": "text/x-python",
   "name": "python",
   "nbconvert_exporter": "python",
   "pygments_lexer": "ipython3",
   "version": "3.7.6"
  },
  "toc": {
   "base_numbering": 1,
   "nav_menu": {},
   "number_sections": false,
   "sideBar": true,
   "skip_h1_title": false,
   "title_cell": "Table of Contents",
   "title_sidebar": "Contents",
   "toc_cell": false,
   "toc_position": {},
   "toc_section_display": true,
   "toc_window_display": false
  }
 },
 "nbformat": 4,
 "nbformat_minor": 2
}
