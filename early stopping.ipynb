{
 "cells": [
  {
   "cell_type": "code",
   "execution_count": 1,
   "metadata": {
    "ExecuteTime": {
     "end_time": "2021-03-16T09:22:17.000216Z",
     "start_time": "2021-03-16T09:22:16.223422Z"
    }
   },
   "outputs": [],
   "source": [
    "import comet_ml\n",
    "from comet_ml.query import Parameter\n",
    "\n",
    "from pathlib import Path\n",
    "\n",
    "import pandas as pd\n",
    "import numpy as np\n",
    "import matplotlib.pyplot as plt\n",
    "import yaml\n",
    "from IPython.core.display import display, HTML"
   ]
  },
  {
   "cell_type": "code",
   "execution_count": 2,
   "metadata": {
    "ExecuteTime": {
     "end_time": "2021-03-16T09:22:17.006722Z",
     "start_time": "2021-03-16T09:22:17.002239Z"
    }
   },
   "outputs": [],
   "source": [
    "def get_epoch_info(df):\n",
    "    df_train = df[~ df['train_1mae_epoch'].isnull()][['epoch', 'train_1mae_epoch']]\n",
    "    df_valid = df[~ df['valid_1mae'].isnull()][['epoch', 'valid_1mae']]\n",
    "    return df_train.merge(df_valid, on='epoch')"
   ]
  },
  {
   "cell_type": "code",
   "execution_count": 3,
   "metadata": {
    "ExecuteTime": {
     "end_time": "2021-03-16T09:22:18.114079Z",
     "start_time": "2021-03-16T09:22:17.573679Z"
    }
   },
   "outputs": [],
   "source": [
    "comet_api = comet_ml.api.API()"
   ]
  },
  {
   "cell_type": "code",
   "execution_count": 4,
   "metadata": {
    "ExecuteTime": {
     "end_time": "2021-03-16T09:22:21.994112Z",
     "start_time": "2021-03-16T09:22:18.915320Z"
    }
   },
   "outputs": [],
   "source": [
    "exps = comet_api.query(\"transformer\", \"compare-loss\", Parameter('limit') == 1.0)\n",
    "still_running = []#['3b9590b112734f4199faee4e671656d4', 'b1463f45e22c47eb97f2b9e47c73c640', '69b1e264cb9e4fa0a0e91cb7e541ab00']"
   ]
  },
  {
   "cell_type": "code",
   "execution_count": 5,
   "metadata": {
    "ExecuteTime": {
     "end_time": "2021-03-16T09:22:22.496384Z",
     "start_time": "2021-03-16T09:22:22.491255Z"
    }
   },
   "outputs": [],
   "source": [
    "csv_dir = Path('logs/csv')"
   ]
  },
  {
   "cell_type": "code",
   "execution_count": 6,
   "metadata": {
    "ExecuteTime": {
     "end_time": "2021-03-16T09:22:24.287211Z",
     "start_time": "2021-03-16T09:22:22.927977Z"
    }
   },
   "outputs": [],
   "source": [
    "dfs = {}\n",
    "for exp in exps:\n",
    "    i = exp.id\n",
    "    dfs[i] = pd.read_csv(csv_dir / i / \"version_0\" / \"metrics.csv\")"
   ]
  },
  {
   "cell_type": "code",
   "execution_count": 7,
   "metadata": {
    "ExecuteTime": {
     "end_time": "2021-03-16T09:22:24.394323Z",
     "start_time": "2021-03-16T09:22:24.289277Z"
    }
   },
   "outputs": [],
   "source": [
    "dfs = {k: get_epoch_info(df) for k, df in dfs.items()}"
   ]
  },
  {
   "cell_type": "code",
   "execution_count": 8,
   "metadata": {
    "ExecuteTime": {
     "end_time": "2021-03-16T09:22:24.400932Z",
     "start_time": "2021-03-16T09:22:24.397348Z"
    }
   },
   "outputs": [],
   "source": [
    "dfs_list = list(dfs.values())"
   ]
  },
  {
   "cell_type": "code",
   "execution_count": 12,
   "metadata": {
    "ExecuteTime": {
     "end_time": "2021-03-16T09:22:40.889565Z",
     "start_time": "2021-03-16T09:22:40.875734Z"
    }
   },
   "outputs": [],
   "source": [
    "wrong_ids = []\n",
    "for k, df in dfs.items():\n",
    "    if k in still_running:\n",
    "        continue\n",
    "    ac_max = list(np.maximum.accumulate(df['valid_1mae']))\n",
    "    if (ac_max[-11] != ac_max[-1]): # or ((len(ac_max) > 11) and (ac_max[-12] == ac_max[-11])):\n",
    "        wrong_ids.append(k)"
   ]
  },
  {
   "cell_type": "code",
   "execution_count": 13,
   "metadata": {
    "ExecuteTime": {
     "end_time": "2021-03-16T09:22:41.345772Z",
     "start_time": "2021-03-16T09:22:41.339546Z"
    }
   },
   "outputs": [
    {
     "name": "stdout",
     "output_type": "stream",
     "text": [
      "3 out of 18 are not fulfilling the early stopping criteria!\n"
     ]
    }
   ],
   "source": [
    "n_wrong = len(wrong_ids)\n",
    "n_total = len(dfs_list) - len(still_running)\n",
    "print(f\"{n_wrong} out of {n_total} are not fulfilling the early stopping criteria!\")"
   ]
  },
  {
   "cell_type": "code",
   "execution_count": 14,
   "metadata": {
    "ExecuteTime": {
     "end_time": "2021-03-16T09:22:42.545596Z",
     "start_time": "2021-03-16T09:22:42.533906Z"
    }
   },
   "outputs": [
    {
     "data": {
      "text/html": [
       "<a href=\"https://www.comet.ml/transformer/compare-loss/9a1020c95e254834a1b8bf7db30b6fe9?experiment-tab=params\">https://www.comet.ml/transformer/compare-loss/9a1020c95e254834a1b8bf7db30b6fe9?experiment-tab=params</a>"
      ],
      "text/plain": [
       "<IPython.core.display.HTML object>"
      ]
     },
     "metadata": {},
     "output_type": "display_data"
    },
    {
     "data": {
      "text/html": [
       "<a href=\"https://www.comet.ml/transformer/compare-loss/e377a3d8bc82440b89b1bc1bd4cd1eb2?experiment-tab=params\">https://www.comet.ml/transformer/compare-loss/e377a3d8bc82440b89b1bc1bd4cd1eb2?experiment-tab=params</a>"
      ],
      "text/plain": [
       "<IPython.core.display.HTML object>"
      ]
     },
     "metadata": {},
     "output_type": "display_data"
    },
    {
     "data": {
      "text/html": [
       "<a href=\"https://www.comet.ml/transformer/compare-loss/69b1e264cb9e4fa0a0e91cb7e541ab00?experiment-tab=params\">https://www.comet.ml/transformer/compare-loss/69b1e264cb9e4fa0a0e91cb7e541ab00?experiment-tab=params</a>"
      ],
      "text/plain": [
       "<IPython.core.display.HTML object>"
      ]
     },
     "metadata": {},
     "output_type": "display_data"
    }
   ],
   "source": [
    "urls = [f\"https://www.comet.ml/transformer/compare-loss/{i}?experiment-tab=params\" for i in wrong_ids]\n",
    "for url in urls:\n",
    "    display(HTML(f'<a href=\"{url}\">{url}</a>'))"
   ]
  },
  {
   "cell_type": "code",
   "execution_count": 15,
   "metadata": {
    "ExecuteTime": {
     "end_time": "2021-03-16T09:23:42.575569Z",
     "start_time": "2021-03-16T09:23:42.137360Z"
    }
   },
   "outputs": [
    {
     "data": {
      "image/png": "[encoded data removed]",
      "text/plain": [
       "<Figure size 432x288 with 1 Axes>"
      ]
     },
     "metadata": {
      "needs_background": "light"
     },
     "output_type": "display_data"
    },
    {
     "data": {
      "image/png": "[encoded data removed]",
      "text/plain": [
       "<Figure size 432x288 with 1 Axes>"
      ]
     },
     "metadata": {
      "needs_background": "light"
     },
     "output_type": "display_data"
    },
    {
     "data": {
      "image/png": "[encoded data removed]",
      "text/plain": [
       "<Figure size 432x288 with 1 Axes>"
      ]
     },
     "metadata": {
      "needs_background": "light"
     },
     "output_type": "display_data"
    }
   ],
   "source": [
    "for k in wrong_ids:\n",
    "    df = dfs[k]\n",
    "    plt.plot(np.maximum.accumulate(df['valid_1mae']))\n",
    "    plt.show()"
   ]
  },
  {
   "cell_type": "code",
   "execution_count": 16,
   "metadata": {
    "ExecuteTime": {
     "end_time": "2021-03-16T09:23:52.029109Z",
     "start_time": "2021-03-16T09:23:52.011680Z"
    }
   },
   "outputs": [
    {
     "data": {
      "text/html": [
       "<div>\n",
       "<style scoped>\n",
       "    .dataframe tbody tr th:only-of-type {\n",
       "        vertical-align: middle;\n",
       "    }\n",
       "\n",
       "    .dataframe tbody tr th {\n",
       "        vertical-align: top;\n",
       "    }\n",
       "\n",
       "    .dataframe thead th {\n",
       "        text-align: right;\n",
       "    }\n",
       "</style>\n",
       "<table border=\"1\" class=\"dataframe\">\n",
       "  <thead>\n",
       "    <tr style=\"text-align: right;\">\n",
       "      <th></th>\n",
       "      <th>epoch</th>\n",
       "      <th>train_1mae_epoch</th>\n",
       "      <th>valid_1mae</th>\n",
       "    </tr>\n",
       "  </thead>\n",
       "  <tbody>\n",
       "    <tr>\n",
       "      <th>0</th>\n",
       "      <td>0</td>\n",
       "      <td>0.632925</td>\n",
       "      <td>0.762362</td>\n",
       "    </tr>\n",
       "    <tr>\n",
       "      <th>1</th>\n",
       "      <td>1</td>\n",
       "      <td>0.713806</td>\n",
       "      <td>0.816591</td>\n",
       "    </tr>\n",
       "    <tr>\n",
       "      <th>2</th>\n",
       "      <td>2</td>\n",
       "      <td>0.756329</td>\n",
       "      <td>0.852981</td>\n",
       "    </tr>\n",
       "    <tr>\n",
       "      <th>3</th>\n",
       "      <td>3</td>\n",
       "      <td>0.784413</td>\n",
       "      <td>0.862825</td>\n",
       "    </tr>\n",
       "    <tr>\n",
       "      <th>4</th>\n",
       "      <td>4</td>\n",
       "      <td>0.807671</td>\n",
       "      <td>0.873937</td>\n",
       "    </tr>\n",
       "    <tr>\n",
       "      <th>...</th>\n",
       "      <td>...</td>\n",
       "      <td>...</td>\n",
       "      <td>...</td>\n",
       "    </tr>\n",
       "    <tr>\n",
       "      <th>142</th>\n",
       "      <td>142</td>\n",
       "      <td>0.916652</td>\n",
       "      <td>0.898382</td>\n",
       "    </tr>\n",
       "    <tr>\n",
       "      <th>143</th>\n",
       "      <td>143</td>\n",
       "      <td>0.916544</td>\n",
       "      <td>0.896839</td>\n",
       "    </tr>\n",
       "    <tr>\n",
       "      <th>144</th>\n",
       "      <td>144</td>\n",
       "      <td>0.916609</td>\n",
       "      <td>0.898036</td>\n",
       "    </tr>\n",
       "    <tr>\n",
       "      <th>145</th>\n",
       "      <td>145</td>\n",
       "      <td>0.917152</td>\n",
       "      <td>0.896635</td>\n",
       "    </tr>\n",
       "    <tr>\n",
       "      <th>146</th>\n",
       "      <td>146</td>\n",
       "      <td>0.916955</td>\n",
       "      <td>0.898196</td>\n",
       "    </tr>\n",
       "  </tbody>\n",
       "</table>\n",
       "<p>147 rows × 3 columns</p>\n",
       "</div>"
      ],
      "text/plain": [
       "     epoch  train_1mae_epoch  valid_1mae\n",
       "0        0          0.632925    0.762362\n",
       "1        1          0.713806    0.816591\n",
       "2        2          0.756329    0.852981\n",
       "3        3          0.784413    0.862825\n",
       "4        4          0.807671    0.873937\n",
       "..     ...               ...         ...\n",
       "142    142          0.916652    0.898382\n",
       "143    143          0.916544    0.896839\n",
       "144    144          0.916609    0.898036\n",
       "145    145          0.917152    0.896635\n",
       "146    146          0.916955    0.898196\n",
       "\n",
       "[147 rows x 3 columns]"
      ]
     },
     "execution_count": 16,
     "metadata": {},
     "output_type": "execute_result"
    }
   ],
   "source": [
    "longest_i = np.argmax([len(df) for df in dfs_list])\n",
    "dfs_list[longest_i]"
   ]
  },
  {
   "cell_type": "code",
   "execution_count": 17,
   "metadata": {
    "ExecuteTime": {
     "end_time": "2021-03-16T09:23:55.342317Z",
     "start_time": "2021-03-16T09:23:55.196812Z"
    }
   },
   "outputs": [
    {
     "data": {
      "image/png": "[encoded data removed]",
      "text/plain": [
       "<Figure size 432x288 with 1 Axes>"
      ]
     },
     "metadata": {
      "needs_background": "light"
     },
     "output_type": "display_data"
    }
   ],
   "source": [
    "df = dfs_list[longest_i]\n",
    "plt.plot(np.maximum.accumulate(df['valid_1mae'])[80:])\n",
    "plt.show()"
   ]
  },
  {
   "cell_type": "code",
   "execution_count": 18,
   "metadata": {
    "ExecuteTime": {
     "end_time": "2021-03-16T09:23:57.496952Z",
     "start_time": "2021-03-16T09:23:57.484064Z"
    }
   },
   "outputs": [
    {
     "data": {
      "text/plain": [
       "[0.7623615860939026,\n",
       " 0.8165909051895142,\n",
       " 0.8529809713363647,\n",
       " 0.8628250360488892,\n",
       " 0.8739368915557861,\n",
       " 0.8776467442512512,\n",
       " 0.8838008642196655,\n",
       " 0.8844567537307739,\n",
       " 0.8863764405250549,\n",
       " 0.8869461417198181,\n",
       " 0.8882648944854736,\n",
       " 0.8901271820068359,\n",
       " 0.8919320702552795,\n",
       " 0.8925473690032959,\n",
       " 0.8925473690032959,\n",
       " 0.8935675024986267,\n",
       " 0.894243597984314,\n",
       " 0.8950281143188477,\n",
       " 0.8952749967575073,\n",
       " 0.8952749967575073,\n",
       " 0.8961787223815918,\n",
       " 0.8977454304695129,\n",
       " 0.8977454304695129,\n",
       " 0.8977454304695129,\n",
       " 0.8978537321090698,\n",
       " 0.8982553482055664,\n",
       " 0.8982874751091003,\n",
       " 0.8982874751091003,\n",
       " 0.8990259766578674,\n",
       " 0.8993280529975891,\n",
       " 0.8993468284606934,\n",
       " 0.8993468284606934,\n",
       " 0.899398684501648,\n",
       " 0.8998994827270508,\n",
       " 0.9000629186630249,\n",
       " 0.9000629186630249,\n",
       " 0.9001181721687317,\n",
       " 0.9001754522323608,\n",
       " 0.9001754522323608,\n",
       " 0.9002217054367065,\n",
       " 0.9007129669189453,\n",
       " 0.9007129669189453,\n",
       " 0.9012436270713806,\n",
       " 0.9012436270713806,\n",
       " 0.901250958442688,\n",
       " 0.901250958442688,\n",
       " 0.901250958442688,\n",
       " 0.9016436338424684,\n",
       " 0.9016436338424684,\n",
       " 0.9017350673675536,\n",
       " 0.9017350673675536,\n",
       " 0.9017350673675536,\n",
       " 0.9017350673675536,\n",
       " 0.9017350673675536,\n",
       " 0.9017350673675536,\n",
       " 0.9017350673675536,\n",
       " 0.9018197059631348,\n",
       " 0.9018197059631348,\n",
       " 0.9018197059631348,\n",
       " 0.9018197059631348,\n",
       " 0.9020885229110718,\n",
       " 0.9027053713798524,\n",
       " 0.9027053713798524,\n",
       " 0.9027053713798524,\n",
       " 0.9027053713798524,\n",
       " 0.9027053713798524,\n",
       " 0.9027053713798524,\n",
       " 0.9027053713798524,\n",
       " 0.9027053713798524,\n",
       " 0.9027053713798524,\n",
       " 0.9027053713798524,\n",
       " 0.9027053713798524,\n",
       " 0.9027053713798524,\n",
       " 0.9027053713798524,\n",
       " 0.9027053713798524,\n",
       " 0.9027053713798524,\n",
       " 0.9027053713798524,\n",
       " 0.9027053713798524,\n",
       " 0.9027053713798524,\n",
       " 0.9027053713798524,\n",
       " 0.9027053713798524,\n",
       " 0.9027053713798524,\n",
       " 0.9027053713798524,\n",
       " 0.9027053713798524,\n",
       " 0.9027053713798524,\n",
       " 0.9027053713798524,\n",
       " 0.9027053713798524,\n",
       " 0.9027053713798524,\n",
       " 0.9027053713798524,\n",
       " 0.9027053713798524,\n",
       " 0.9027053713798524,\n",
       " 0.9027053713798524,\n",
       " 0.9027053713798524,\n",
       " 0.9027053713798524,\n",
       " 0.9027053713798524,\n",
       " 0.9027053713798524,\n",
       " 0.9027053713798524,\n",
       " 0.9027053713798524,\n",
       " 0.9027053713798524,\n",
       " 0.9027053713798524,\n",
       " 0.9027053713798524,\n",
       " 0.9027053713798524,\n",
       " 0.9027053713798524,\n",
       " 0.9027053713798524,\n",
       " 0.9027053713798524,\n",
       " 0.9027053713798524,\n",
       " 0.9027053713798524,\n",
       " 0.9027053713798524,\n",
       " 0.9027053713798524,\n",
       " 0.9027053713798524,\n",
       " 0.9027053713798524,\n",
       " 0.9027053713798524,\n",
       " 0.9027053713798524,\n",
       " 0.9027053713798524,\n",
       " 0.9027053713798524,\n",
       " 0.9027053713798524,\n",
       " 0.9027053713798524,\n",
       " 0.9027053713798524,\n",
       " 0.9027053713798524,\n",
       " 0.9027053713798524,\n",
       " 0.9027053713798524,\n",
       " 0.9027053713798524,\n",
       " 0.9027053713798524,\n",
       " 0.9027053713798524,\n",
       " 0.9027053713798524,\n",
       " 0.9027053713798524,\n",
       " 0.9027053713798524,\n",
       " 0.9027053713798524,\n",
       " 0.9027053713798524,\n",
       " 0.9027053713798524,\n",
       " 0.9027053713798524,\n",
       " 0.9027053713798524,\n",
       " 0.9027053713798524,\n",
       " 0.9027053713798524,\n",
       " 0.9027053713798524,\n",
       " 0.9027053713798524,\n",
       " 0.9027053713798524,\n",
       " 0.9027053713798524,\n",
       " 0.9027053713798524,\n",
       " 0.9027053713798524,\n",
       " 0.9027053713798524,\n",
       " 0.9027053713798524,\n",
       " 0.9027053713798524,\n",
       " 0.9027053713798524,\n",
       " 0.9027053713798524,\n",
       " 0.9027053713798524,\n",
       " 0.9027053713798524]"
      ]
     },
     "execution_count": 18,
     "metadata": {},
     "output_type": "execute_result"
    }
   ],
   "source": [
    "list(np.maximum.accumulate(df['valid_1mae']))"
   ]
  },
  {
   "cell_type": "code",
   "execution_count": null,
   "metadata": {},
   "outputs": [],
   "source": []
  }
 ],
 "metadata": {
  "kernelspec": {
   "display_name": "Python 3",
   "language": "python",
   "name": "python3"
  },
  "language_info": {
   "codemirror_mode": {
    "name": "ipython",
    "version": 3
   },
   "file_extension": ".py",
   "mimetype": "text/x-python",
   "name": "python",
   "nbconvert_exporter": "python",
   "pygments_lexer": "ipython3",
   "version": "3.7.6"
  },
  "toc": {
   "base_numbering": 1,
   "nav_menu": {},
   "number_sections": false,
   "sideBar": true,
   "skip_h1_title": false,
   "title_cell": "Table of Contents",
   "title_sidebar": "Contents",
   "toc_cell": false,
   "toc_position": {},
   "toc_section_display": true,
   "toc_window_display": false
  }
 },
 "nbformat": 4,
 "nbformat_minor": 2
}
