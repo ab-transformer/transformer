{
 "cells": [
  {
   "cell_type": "code",
   "execution_count": 19,
   "metadata": {},
   "outputs": [],
   "source": [
    "import torch as th\n",
    "import numpy as np\n",
    "import zarr"
   ]
  },
  {
   "cell_type": "code",
   "execution_count": 27,
   "metadata": {},
   "outputs": [],
   "source": [
    "class NumpyDataset(th.utils.data.Dataset):\n",
    "    def __init__(self, *arrays):\n",
    "        self.arrays = arrays\n",
    "        assert len(np.unique([a.shape[0] for a in self.arrays])) == 1\n",
    "    \n",
    "    def __getitem__(self, index):\n",
    "        return tuple(th.tensor(a[index]) for a in self.arrays)\n",
    "\n",
    "    def __len__(self):\n",
    "        return self.tensors[0].size(0)\n",
    "    \n",
    "def get_split(split):\n",
    "    f =  zarr.open(IMPRESSIONV2_DIR / f'{split}.zarr')\n",
    "    return NumpyDataset(f.wav2vec2, f.r2plus1d, f.bert, f.y)\n",
    "\n",
    "def get_all():\n",
    "    # _, target_names = _get_gt(split)\n",
    "    return [get_split(split) for split in [\"train\", \"valid\", \"test\"]], target_names"
   ]
  },
  {
   "cell_type": "code",
   "execution_count": 37,
   "metadata": {},
   "outputs": [],
   "source": []
  },
  {
   "cell_type": "code",
   "execution_count": null,
   "metadata": {},
   "outputs": [],
   "source": []
  },
  {
   "cell_type": "code",
   "execution_count": 26,
   "metadata": {},
   "outputs": [],
   "source": []
  },
  {
   "cell_type": "code",
   "execution_count": 28,
   "metadata": {},
   "outputs": [],
   "source": []
  },
  {
   "cell_type": "code",
   "execution_count": 18,
   "metadata": {},
   "outputs": [
    {
     "data": {
      "text/plain": [
       "[torch.utils.data.dataset.ChainDataset]"
      ]
     },
     "execution_count": 18,
     "metadata": {},
     "output_type": "execute_result"
    }
   ],
   "source": [
    "th.utils.data.IterableDataset.__subclasses__()"
   ]
  },
  {
   "cell_type": "code",
   "execution_count": null,
   "metadata": {},
   "outputs": [],
   "source": [
    "th.utils.data.TensorDataset(audio_th, face_th, text_th, label_th)"
   ]
  }
 ],
 "metadata": {
  "kernelspec": {
   "display_name": "Python 3",
   "language": "python",
   "name": "python3"
  },
  "language_info": {
   "codemirror_mode": {
    "name": "ipython",
    "version": 3
   },
   "file_extension": ".py",
   "mimetype": "text/x-python",
   "name": "python",
   "nbconvert_exporter": "python",
   "pygments_lexer": "ipython3",
   "version": "3.7.6"
  }
 },
 "nbformat": 4,
 "nbformat_minor": 4
}
