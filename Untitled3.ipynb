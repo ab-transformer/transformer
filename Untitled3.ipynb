{
 "cells": [
  {
   "cell_type": "code",
   "execution_count": 68,
   "metadata": {},
   "outputs": [],
   "source": [
    "import torch as th\n",
    "import numpy as np\n",
    "import zarr\n",
    "\n",
    "from datasets import IMPRESSIONV2_DIR"
   ]
  },
  {
   "cell_type": "code",
   "execution_count": 73,
   "metadata": {},
   "outputs": [],
   "source": [
    "class FlattenZarrArray:\n",
    "    def __init__(self, arr):\n",
    "        self.arr = arr\n",
    "        self.shape = arr.shape\n",
    "        \n",
    "    def __getitem__(self, idx):\n",
    "        a = self.arr[idx]\n",
    "        return np.reshape(a, (a.shape[0], -1))\n",
    "\n",
    "\n",
    "class NumpyDataset(th.utils.data.Dataset):\n",
    "    def __init__(self, *arrays):\n",
    "        self.arrays = arrays\n",
    "        assert len(np.unique([a.shape[0] for a in self.arrays])) == 1\n",
    "    \n",
    "    def __getitem__(self, index):\n",
    "        return tuple(th.tensor(a[index]) for a in self.arrays)\n",
    "\n",
    "    def __len__(self):\n",
    "        return self.tensors[0].size(0)\n",
    "    \n",
    "def get_split(split):\n",
    "    f =  zarr.open(str(IMPRESSIONV2_DIR / f'{split}.zarr'))\n",
    "    return NumpyDataset(f.wav2vec2, FlattenZarrArray(f.r2plus1d), f.bert, f.y)\n",
    "\n",
    "# def get_all():\n",
    "#     # _, target_names = _get_gt(split)\n",
    "#     return [get_split(split) for split in [\"train\", \"valid\", \"test\"]], target_names"
   ]
  },
  {
   "cell_type": "code",
   "execution_count": 74,
   "metadata": {},
   "outputs": [],
   "source": [
    "ds = get_split(\"test\")"
   ]
  },
  {
   "cell_type": "code",
   "execution_count": 75,
   "metadata": {},
   "outputs": [
    {
     "data": {
      "text/plain": [
       "(tensor([[ 0.1183,  0.1529,  0.1429,  ...,  0.0059,  0.0059, -0.0026],\n",
       "         [ 0.0651,  0.0790,  0.2055,  ..., -0.0236, -0.0236, -0.0191],\n",
       "         [ 0.2208,  0.1909, -0.0344,  ..., -0.0948, -0.0949, -0.1187],\n",
       "         ...,\n",
       "         [ 0.0926,  0.0169, -0.2183,  ..., -0.0763, -0.0763, -0.0738],\n",
       "         [-0.1025, -0.1130, -0.0840,  ...,  0.0179,  0.0179,  0.0438],\n",
       "         [-0.1023, -0.1481, -0.0279,  ...,  0.0342,  0.0342,  0.0790]]),\n",
       " tensor([[0.0000, 0.0311, 0.0000,  ..., 0.0076, 0.0000, 0.4212],\n",
       "         [0.0690, 0.0355, 0.0000,  ..., 0.0000, 0.1914, 0.2021],\n",
       "         [0.0000, 0.0000, 0.0000,  ..., 0.0000, 0.0000, 0.0000],\n",
       "         ...,\n",
       "         [0.0877, 0.0818, 0.0000,  ..., 0.0000, 0.0000, 0.0000],\n",
       "         [0.0588, 0.0345, 0.0000,  ..., 0.0128, 0.0000, 0.0000],\n",
       "         [0.0994, 0.0401, 0.0000,  ..., 0.0000, 0.0000, 0.0000]]),\n",
       " tensor([[-0.2139,  0.7712,  0.0062,  ..., -0.4154, -0.1046, -0.3519],\n",
       "         [-0.1357,  0.3063,  0.1421,  ..., -0.5287, -0.4078, -0.7316],\n",
       "         [-0.3126,  0.2778, -0.0484,  ...,  0.1411,  0.3549, -0.0427],\n",
       "         ...,\n",
       "         [-0.1424,  0.2075,  0.2369,  ...,  0.4719,  0.4899,  0.5602],\n",
       "         [ 0.2643,  0.7199,  0.0165,  ...,  0.2705,  0.1970,  0.4662],\n",
       "         [ 0.5081,  0.5106, -0.2094,  ..., -0.3266, -0.3320, -0.3964]]),\n",
       " tensor([0.5514, 0.5938, 0.6154, 0.7282, 0.7000]))"
      ]
     },
     "execution_count": 75,
     "metadata": {},
     "output_type": "execute_result"
    }
   ],
   "source": [
    "ds[0]"
   ]
  },
  {
   "cell_type": "code",
   "execution_count": 67,
   "metadata": {},
   "outputs": [
    {
     "data": {
      "text/plain": [
       "15618.533"
      ]
     },
     "execution_count": 67,
     "metadata": {},
     "output_type": "execute_result"
    }
   ],
   "source": [
    "np.sum(f.r2plus1d[0])# .view(np.prod(f.r2plus1d[0].shape)))"
   ]
  },
  {
   "cell_type": "code",
   "execution_count": 60,
   "metadata": {},
   "outputs": [
    {
     "data": {
      "text/plain": [
       "0.0"
      ]
     },
     "execution_count": 60,
     "metadata": {},
     "output_type": "execute_result"
    }
   ],
   "source": [
    "np.sum(f.r2plus1d.view([f.r2plus1d.shape[0], f.r2plus1d.shape[1], int(np.prod(f.r2plus1d.shape) / (f.r2plus1d.shape[0] * f.r2plus1d.shape[1]))])[0])"
   ]
  },
  {
   "cell_type": "code",
   "execution_count": 50,
   "metadata": {},
   "outputs": [
    {
     "data": {
      "text/plain": [
       "1568"
      ]
     },
     "execution_count": 50,
     "metadata": {},
     "output_type": "execute_result"
    }
   ],
   "source": []
  },
  {
   "cell_type": "code",
   "execution_count": 40,
   "metadata": {},
   "outputs": [
    {
     "data": {
      "text/plain": [
       "['__array__',\n",
       " '__class__',\n",
       " '__delattr__',\n",
       " '__dict__',\n",
       " '__dir__',\n",
       " '__doc__',\n",
       " '__eq__',\n",
       " '__format__',\n",
       " '__ge__',\n",
       " '__getattribute__',\n",
       " '__getitem__',\n",
       " '__getstate__',\n",
       " '__gt__',\n",
       " '__hash__',\n",
       " '__init__',\n",
       " '__init_subclass__',\n",
       " '__iter__',\n",
       " '__le__',\n",
       " '__len__',\n",
       " '__lt__',\n",
       " '__module__',\n",
       " '__ne__',\n",
       " '__new__',\n",
       " '__reduce__',\n",
       " '__reduce_ex__',\n",
       " '__repr__',\n",
       " '__setattr__',\n",
       " '__setitem__',\n",
       " '__setstate__',\n",
       " '__sizeof__',\n",
       " '__str__',\n",
       " '__subclasshook__',\n",
       " '__weakref__',\n",
       " '_append_nosync',\n",
       " '_attrs',\n",
       " '_cache_metadata',\n",
       " '_cdata_shape',\n",
       " '_chunk_getitem',\n",
       " '_chunk_getitems',\n",
       " '_chunk_key',\n",
       " '_chunk_setitem',\n",
       " '_chunk_setitem_nosync',\n",
       " '_chunk_setitems',\n",
       " '_chunk_store',\n",
       " '_chunks',\n",
       " '_compressor',\n",
       " '_decode_chunk',\n",
       " '_dtype',\n",
       " '_encode_chunk',\n",
       " '_fill_value',\n",
       " '_filters',\n",
       " '_flush_metadata_nosync',\n",
       " '_get_basic_selection_nd',\n",
       " '_get_basic_selection_zd',\n",
       " '_get_selection',\n",
       " '_info_items_nosync',\n",
       " '_info_reporter',\n",
       " '_is_view',\n",
       " '_key_prefix',\n",
       " '_load_metadata',\n",
       " '_load_metadata_nosync',\n",
       " '_meta',\n",
       " '_nbytes',\n",
       " '_nchunks',\n",
       " '_oindex',\n",
       " '_order',\n",
       " '_partial_decompress',\n",
       " '_path',\n",
       " '_process_chunk',\n",
       " '_process_for_setitem',\n",
       " '_read_only',\n",
       " '_refresh_metadata',\n",
       " '_refresh_metadata_nosync',\n",
       " '_resize_nosync',\n",
       " '_set_basic_selection_nd',\n",
       " '_set_basic_selection_zd',\n",
       " '_set_selection',\n",
       " '_shape',\n",
       " '_size',\n",
       " '_store',\n",
       " '_synchronized_op',\n",
       " '_synchronizer',\n",
       " '_vindex',\n",
       " '_write_op',\n",
       " 'append',\n",
       " 'astype',\n",
       " 'attrs',\n",
       " 'basename',\n",
       " 'cdata_shape',\n",
       " 'chunk_store',\n",
       " 'chunks',\n",
       " 'compressor',\n",
       " 'digest',\n",
       " 'dtype',\n",
       " 'fill_value',\n",
       " 'filters',\n",
       " 'get_basic_selection',\n",
       " 'get_coordinate_selection',\n",
       " 'get_mask_selection',\n",
       " 'get_orthogonal_selection',\n",
       " 'hexdigest',\n",
       " 'info',\n",
       " 'info_items',\n",
       " 'initialized',\n",
       " 'is_view',\n",
       " 'islice',\n",
       " 'itemsize',\n",
       " 'name',\n",
       " 'nbytes',\n",
       " 'nbytes_stored',\n",
       " 'nchunks',\n",
       " 'nchunks_initialized',\n",
       " 'ndim',\n",
       " 'oindex',\n",
       " 'order',\n",
       " 'path',\n",
       " 'read_only',\n",
       " 'resize',\n",
       " 'set_basic_selection',\n",
       " 'set_coordinate_selection',\n",
       " 'set_mask_selection',\n",
       " 'set_orthogonal_selection',\n",
       " 'shape',\n",
       " 'size',\n",
       " 'store',\n",
       " 'synchronizer',\n",
       " 'view',\n",
       " 'vindex']"
      ]
     },
     "execution_count": 40,
     "metadata": {},
     "output_type": "execute_result"
    }
   ],
   "source": [
    "dir(f.r2plus1d)"
   ]
  },
  {
   "cell_type": "code",
   "execution_count": 26,
   "metadata": {},
   "outputs": [],
   "source": []
  },
  {
   "cell_type": "code",
   "execution_count": 28,
   "metadata": {},
   "outputs": [],
   "source": []
  },
  {
   "cell_type": "code",
   "execution_count": 18,
   "metadata": {},
   "outputs": [
    {
     "data": {
      "text/plain": [
       "[torch.utils.data.dataset.ChainDataset]"
      ]
     },
     "execution_count": 18,
     "metadata": {},
     "output_type": "execute_result"
    }
   ],
   "source": [
    "th.utils.data.IterableDataset.__subclasses__()"
   ]
  },
  {
   "cell_type": "code",
   "execution_count": null,
   "metadata": {},
   "outputs": [],
   "source": [
    "th.utils.data.TensorDataset(audio_th, face_th, text_th, label_th)"
   ]
  }
 ],
 "metadata": {
  "kernelspec": {
   "display_name": "Python 3",
   "language": "python",
   "name": "python3"
  },
  "language_info": {
   "codemirror_mode": {
    "name": "ipython",
    "version": 3
   },
   "file_extension": ".py",
   "mimetype": "text/x-python",
   "name": "python",
   "nbconvert_exporter": "python",
   "pygments_lexer": "ipython3",
   "version": "3.7.6"
  }
 },
 "nbformat": 4,
 "nbformat_minor": 4
}
