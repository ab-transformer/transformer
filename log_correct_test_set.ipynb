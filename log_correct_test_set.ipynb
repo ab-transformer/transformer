{
 "cells": [
  {
   "cell_type": "code",
   "execution_count": 1,
   "metadata": {
    "ExecuteTime": {
     "end_time": "2021-03-22T11:33:24.021637Z",
     "start_time": "2021-03-22T11:33:21.937602Z"
    }
   },
   "outputs": [],
   "source": [
    "import comet_ml\n",
    "\n",
    "from pathlib import Path\n",
    "from argparse import Namespace\n",
    "\n",
    "import torch as th\n",
    "import pytorch_lightning as pl\n",
    "\n",
    "from lightningmodule import MULTModelWarped\n",
    "from datasets import load_impressionv2_dataset_all\n",
    "\n",
    "import mutils"
   ]
  },
  {
   "cell_type": "code",
   "execution_count": 9,
   "metadata": {
    "ExecuteTime": {
     "end_time": "2021-03-22T12:32:41.819962Z",
     "start_time": "2021-03-22T12:32:41.811903Z"
    }
   },
   "outputs": [],
   "source": [
    "project_name = 'find-lr-1'"
   ]
  },
  {
   "cell_type": "code",
   "execution_count": 3,
   "metadata": {
    "ExecuteTime": {
     "end_time": "2021-03-22T11:33:24.538696Z",
     "start_time": "2021-03-22T11:33:24.031246Z"
    }
   },
   "outputs": [],
   "source": [
    "comet_api = comet_ml.api.API()"
   ]
  },
  {
   "cell_type": "code",
   "execution_count": 4,
   "metadata": {
    "ExecuteTime": {
     "end_time": "2021-03-22T11:33:32.079174Z",
     "start_time": "2021-03-22T11:33:24.542113Z"
    }
   },
   "outputs": [],
   "source": [
    "[train_ds, valid_ds, test_ds], target_names = load_impressionv2_dataset_all()\n",
    "train_dl = th.utils.data.DataLoader(\n",
    "    train_ds, batch_size=8, pin_memory=True,\n",
    ")\n",
    "valid_dl = th.utils.data.DataLoader(\n",
    "    valid_ds, batch_size=64, pin_memory=True,\n",
    ")\n",
    "test_dl = th.utils.data.DataLoader(\n",
    "    test_ds, batch_size=64, pin_memory=True,\n",
    ")"
   ]
  },
  {
   "cell_type": "code",
   "execution_count": 10,
   "metadata": {
    "ExecuteTime": {
     "end_time": "2021-03-22T12:32:44.920368Z",
     "start_time": "2021-03-22T12:32:44.369981Z"
    }
   },
   "outputs": [],
   "source": [
    "exps = comet_api.get(\"transformer\", project_name)"
   ]
  },
  {
   "cell_type": "code",
   "execution_count": 16,
   "metadata": {
    "ExecuteTime": {
     "end_time": "2021-03-22T12:33:41.467867Z",
     "start_time": "2021-03-22T12:33:41.448645Z"
    }
   },
   "outputs": [],
   "source": [
    "def test_experiment(exp):\n",
    "    experiement_key = exp.id\n",
    "    project_name_dir = project_name.replace('-', '_')\n",
    "    checkpoint_dir = Path('logs')/'weights'/f'{experiement_key}_{project_name_dir}'/f'0_{experiement_key}'/'checkpoints'\n",
    "    ckpts = list(checkpoint_dir.glob('*.ckpt'))\n",
    "    assert len(ckpts) == 1, len(ckpts)\n",
    "    ckpt = ckpts[0]\n",
    "    ck = th.load(ckpt)\n",
    "    \n",
    "    hyp_params = Namespace(**ck['hyper_parameters'])\n",
    "    defaults = {'loss_fnc': 'L2', 'project_dim': 30, 'weight_decay': 0.0, 'optim': 'Adam'}\n",
    "    for k, v in defaults.items():\n",
    "        if k not in hyp_params:\n",
    "            setattr(hyp_params, k, v)\n",
    "    \n",
    "    trainer = pl.Trainer(gpus=1)\n",
    "    model = MULTModelWarped(hyp_params, target_names=target_names, early_stopping=None)\n",
    "    model.load_state_dict(ck['state_dict'])\n",
    "    test_res = trainer.test(model, test_dataloaders=test_dl)\n",
    "    exp.log_metrics(test_res[0])\n",
    "    \n",
    "    df = mutils.get_exp_csv(experiement_key)\n",
    "    df = mutils.get_epoch_info(df)\n",
    "    exp.log_metric('best_valid_1mae', df['valid_1mae'].max())\n",
    "    \n",
    "    meta = exp.get_metadata()\n",
    "    exp.set_end_time(meta['endTimeMillis'])"
   ]
  },
  {
   "cell_type": "code",
   "execution_count": 18,
   "metadata": {
    "ExecuteTime": {
     "end_time": "2021-03-22T12:33:48.381634Z",
     "start_time": "2021-03-22T12:33:48.373691Z"
    }
   },
   "outputs": [],
   "source": [
    "errors = []\n",
    "for i, exp in enumerate(exps):\n",
    "    try:\n",
    "        test_experiment(exp)\n",
    "    except:\n",
    "        errors.append(exp.id)"
   ]
  },
  {
   "cell_type": "code",
   "execution_count": 14,
   "metadata": {
    "ExecuteTime": {
     "end_time": "2021-03-22T12:33:11.465694Z",
     "start_time": "2021-03-22T12:33:11.457355Z"
    }
   },
   "outputs": [
    {
     "data": {
      "text/plain": [
       "['3deff4f7ab184f788174c2a6185b443e',\n",
       " 'fd29b0dd4b76449d8813316a04abfa26',\n",
       " '9ee58058267848b7b0a44e2f556f0633',\n",
       " '994ff687063641d489f731605812f7ba',\n",
       " '79e89414d18447818acf1124826afd57',\n",
       " '820bf18ee5d04c05af0551fa26b4f191']"
      ]
     },
     "execution_count": 14,
     "metadata": {},
     "output_type": "execute_result"
    }
   ],
   "source": [
    "errors"
   ]
  },
  {
   "cell_type": "code",
   "execution_count": null,
   "metadata": {},
   "outputs": [],
   "source": []
  }
 ],
 "metadata": {
  "kernelspec": {
   "display_name": "Python 3",
   "language": "python",
   "name": "python3"
  },
  "language_info": {
   "codemirror_mode": {
    "name": "ipython",
    "version": 3
   },
   "file_extension": ".py",
   "mimetype": "text/x-python",
   "name": "python",
   "nbconvert_exporter": "python",
   "pygments_lexer": "ipython3",
   "version": "3.7.6"
  },
  "toc": {
   "base_numbering": 1,
   "nav_menu": {},
   "number_sections": false,
   "sideBar": true,
   "skip_h1_title": false,
   "title_cell": "Table of Contents",
   "title_sidebar": "Contents",
   "toc_cell": false,
   "toc_position": {},
   "toc_section_display": true,
   "toc_window_display": false
  }
 },
 "nbformat": 4,
 "nbformat_minor": 2
}
