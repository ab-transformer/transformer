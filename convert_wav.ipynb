{
 "cells": [
  {
   "cell_type": "code",
   "execution_count": 2,
   "id": "ideal-people",
   "metadata": {},
   "outputs": [],
   "source": [
    "import os\n",
    "from pathlib import Path\n",
    "import ffmpeg"
   ]
  },
  {
   "cell_type": "code",
   "execution_count": 3,
   "id": "british-usage",
   "metadata": {},
   "outputs": [],
   "source": [
    "IMPRESSIONV2_DIR = Path(\"data/impressionv2\")"
   ]
  },
  {
   "cell_type": "code",
   "execution_count": null,
   "id": "manual-potter",
   "metadata": {},
   "outputs": [],
   "source": [
    "split = \"train\" # \"train\", \"val,\", \"test\""
   ]
  }
 ],
 "metadata": {
  "kernelspec": {
   "display_name": "Python 3",
   "language": "python",
   "name": "python3"
  },
  "language_info": {
   "codemirror_mode": {
    "name": "ipython",
    "version": 3
   },
   "file_extension": ".py",
   "mimetype": "text/x-python",
   "name": "python",
   "nbconvert_exporter": "python",
   "pygments_lexer": "ipython3",
   "version": "3.8.6"
  }
 },
 "nbformat": 4,
 "nbformat_minor": 5
}
