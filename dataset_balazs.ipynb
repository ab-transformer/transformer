{
 "cells": [
  {
   "cell_type": "code",
   "execution_count": 1,
   "metadata": {},
   "outputs": [],
   "source": [
    "import pickle\n",
    "from pathlib import Path\n",
    "import os\n",
    "import numpy as np\n",
    "import pandas as pd\n",
    "import torch as th\n",
    "\n",
    "from mutils import ElapsedTime\n",
    "\n",
    "GT_NAMES = {\n",
    "    \"train\": \"annotation_training.pkl\",\n",
    "    \"valid\": \"annotation_validation.pkl\",\n",
    "    \"test\": \"annotation_test.pkl\",\n",
    "}\n",
    "\n",
    "SET_SIZE = {\"train\": 6000, \"valid\": 2000, \"test\": 2000}\n",
    "\n",
    "IMPRESSIONV2_DIR = Path(\"/impressionv2\")\n",
    "EMBEDDING_DIR = Path(\"/mbalazsdb\")"
   ]
  },
  {
   "cell_type": "code",
   "execution_count": 2,
   "metadata": {},
   "outputs": [],
   "source": [
    "def load_gt(split):\n",
    "    gt_file = IMPRESSIONV2_DIR / GT_NAMES[split]\n",
    "\n",
    "    with open(gt_file, \"rb\") as f:\n",
    "        gt_dict = pickle.load(f, encoding=\"latin1\")\n",
    "    target_names = list(gt_dict.keys())\n",
    "    target_names.pop(-2)  # remove interview\n",
    "    sample_names = sorted(list(gt_dict[target_names[0]].keys()))\n",
    "    gt = {\n",
    "        Path(sample_name).stem: [\n",
    "            gt_dict[target_name][sample_name] for target_name in target_names\n",
    "        ]\n",
    "        for sample_name in sample_names\n",
    "    }\n",
    "    return gt, target_names"
   ]
  },
  {
   "cell_type": "code",
   "execution_count": 3,
   "metadata": {},
   "outputs": [],
   "source": [
    "split = \"train\"\n",
    "def load_split(split):\n",
    "    split_dir = IMPRESSIONV2_DIR / split\n",
    "    gt, target_names = load_gt(split)\n",
    "    videos = sorted(gt.keys())\n",
    "    video_dirs = [split_dir / video for video in videos]\n",
    "    assert len(videos) == SET_SIZE[split]\n",
    "    \n",
    "    file = IMPRESSIONV2_DIR / f\"{split}_audio.pkl\"\n",
    "    if not file.exists():\n",
    "        audio_list = [pd.read_csv(video / 'egemaps' / 'lld.csv', sep=';') for video in video_dirs]\n",
    "        audio_list_pad = [np.pad(a.to_numpy(), [(0, 1526-a.shape[0]), (0, 0)]) for a in audio_list]\n",
    "        audio_np = np.stack(audio_list_pad)\n",
    "        mean = np.mean(audio_np, (0,1))\n",
    "        std = np.std(audio_np, (0,1))\n",
    "        audio_norm = (audio_np - mean) / std\n",
    "        with open(file, \"wb\") as f:\n",
    "            pickle.dump({\"audio_norm\": audio_norm, \"mean\": mean, \"std\": std}, f)\n",
    "    else:\n",
    "        with open(file, \"rb\") as f:\n",
    "            gt_dict = pickle.load(f, encoding=\"latin1\")\n",
    "            audio_norm = gt_dict['audio_norm']\n",
    "            \n",
    "    file = IMPRESSIONV2_DIR / f\"{split}_face.npy\"\n",
    "    if not file.exists():\n",
    "        face_list = [np.load(video / 'fi_face_resnet18' / 'features.npy') for video in video_dirs]\n",
    "        face_list_pad = [np.pad(a, [(0, 459-a.shape[0]), (0, 0)]) for a in face_list]\n",
    "        face_np = np.stack(face_list_pad)\n",
    "        np.save(file, face_np)\n",
    "    else:\n",
    "        face_np = np.load(file)\n",
    "        \n",
    "    file = IMPRESSIONV2_DIR / f\"{split}_text.npy\"\n",
    "    if not file.exists():\n",
    "        split_dir = EMBEDDING_DIR / 'text' / split\n",
    "        text_list = [np.load(split_dir / f'{video}_bertemd.npy') for video in videos]\n",
    "        text_np = np.concatenate(text_list)\n",
    "    else:\n",
    "        text_np = np.load(file)\n",
    "        \n",
    "    audio_th = th.tensor(audio_norm)\n",
    "    face_th = th.tensor(face_np)\n",
    "    text_th = th.tensor(text_np)\n",
    "    label_th = th.tensor([gt[video] for video in videos])\n",
    "    return th.utils.data.TensorDataset(audio_th, face_th, text_th, label_th)"
   ]
  },
  {
   "cell_type": "code",
   "execution_count": 5,
   "metadata": {},
   "outputs": [],
   "source": []
  }
 ],
 "metadata": {
  "kernelspec": {
   "display_name": "Python 3",
   "language": "python",
   "name": "python3"
  },
  "language_info": {
   "codemirror_mode": {
    "name": "ipython",
    "version": 3
   },
   "file_extension": ".py",
   "mimetype": "text/x-python",
   "name": "python",
   "nbconvert_exporter": "python",
   "pygments_lexer": "ipython3",
   "version": "3.7.6"
  }
 },
 "nbformat": 4,
 "nbformat_minor": 2
}
