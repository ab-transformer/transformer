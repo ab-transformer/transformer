{
 "cells": [
  {
   "cell_type": "code",
   "execution_count": 20,
   "metadata": {
    "ExecuteTime": {
     "end_time": "2021-03-24T14:49:20.105491Z",
     "start_time": "2021-03-24T14:49:20.099961Z"
    }
   },
   "outputs": [],
   "source": [
    "import torch as th\n",
    "import numpy as np\n",
    "\n",
    "from datasets import load_impressionv2_dataset_split"
   ]
  },
  {
   "cell_type": "code",
   "execution_count": 14,
   "metadata": {
    "ExecuteTime": {
     "end_time": "2021-03-24T14:40:58.159726Z",
     "start_time": "2021-03-24T14:40:53.155938Z"
    }
   },
   "outputs": [],
   "source": [
    "train_ds, _ = load_impressionv2_dataset_split('train')"
   ]
  },
  {
   "cell_type": "code",
   "execution_count": 15,
   "metadata": {
    "ExecuteTime": {
     "end_time": "2021-03-24T14:40:58.164877Z",
     "start_time": "2021-03-24T14:40:58.161520Z"
    }
   },
   "outputs": [
    {
     "data": {
      "text/plain": [
       "<torch.utils.data.dataset.TensorDataset at 0x7fbae1d9cf10>"
      ]
     },
     "execution_count": 15,
     "metadata": {},
     "output_type": "execute_result"
    }
   ],
   "source": [
    "train_ds"
   ]
  },
  {
   "cell_type": "code",
   "execution_count": 16,
   "metadata": {
    "ExecuteTime": {
     "end_time": "2021-03-24T14:41:01.915221Z",
     "start_time": "2021-03-24T14:41:01.906004Z"
    }
   },
   "outputs": [],
   "source": [
    "class TensorDatasetWithTransformer(th.utils.data.Dataset):\n",
    "    def __init__(self, tensor_dataset, transform=None):\n",
    "        self.tensor_dataset = tensor_dataset\n",
    "        self.transform = transform\n",
    "        \n",
    "    def __getitem__(self, index):\n",
    "        sample = self.tensor_dataset[index]\n",
    "        if self.transform:\n",
    "            sample = self.transform(sample)\n",
    "            \n",
    "        return sample\n",
    "    \n",
    "    def __len__(self):\n",
    "        return len(self.tensor_dataset)"
   ]
  },
  {
   "cell_type": "code",
   "execution_count": 64,
   "metadata": {
    "ExecuteTime": {
     "end_time": "2021-03-24T15:36:59.598988Z",
     "start_time": "2021-03-24T15:36:59.577747Z"
    }
   },
   "outputs": [],
   "source": [
    "class SamplerTransform:\n",
    "    def __init__(self, srA, srF, srT, is_random=False):\n",
    "        self.srA = srA \n",
    "        self.srF = srF\n",
    "        self.srT = srT\n",
    "        self.is_random = is_random\n",
    "    \n",
    "    def __call__(self, x):\n",
    "        audio, face, text, label = x\n",
    "        al = audio.shape[0]\n",
    "        fl = face.shape[0]\n",
    "        tl = text.shape[0]\n",
    "        assert al == 1526\n",
    "        assert fl == 459\n",
    "        assert tl == 60\n",
    "        assert self.srA <= al\n",
    "        assert self.srF <= fl\n",
    "        assert self.srT <= tl\n",
    "        \n",
    "        if not self.is_random:\n",
    "            a_idx = np.linspace(0, al-1, self.srA, dtype=int)\n",
    "            f_idx = np.linspace(0, fl-1, self.srF, dtype=int)\n",
    "            t_idx = np.linspace(0, tl-1, self.srT, dtype=int)\n",
    "        else:\n",
    "            a_idx = np.random.choice(al-1, self.srA, replace=False)\n",
    "            f_idx = np.random.choice(fl-1, self.srF, replace=False)\n",
    "            t_idx = np.random.choice(tl-1, self.srT, replace=False)\n",
    "            a_idx.sort()\n",
    "            f_idx.sort()\n",
    "            t_idx.sort()\n",
    "        audio_s = [a_idx, ]\n",
    "        face_s = [f_idx, ]\n",
    "        text_s = [t_idx, ]\n",
    "        \n",
    "        return audio_s, face_s, text_s, label"
   ]
  },
  {
   "cell_type": "code",
   "execution_count": 65,
   "metadata": {
    "ExecuteTime": {
     "end_time": "2021-03-24T15:37:00.291743Z",
     "start_time": "2021-03-24T15:37:00.286195Z"
    }
   },
   "outputs": [],
   "source": [
    "ds = TensorDatasetWithTransformer(train_ds, SamplerTransform(30, 30, 30, True))"
   ]
  },
  {
   "cell_type": "code",
   "execution_count": 66,
   "metadata": {
    "ExecuteTime": {
     "end_time": "2021-03-24T15:37:01.073528Z",
     "start_time": "2021-03-24T15:37:01.062580Z"
    }
   },
   "outputs": [
    {
     "data": {
      "text/plain": [
       "([array([  68,   97,  120,  128,  135,  206,  226,  289,  402,  476,  584,\n",
       "          721,  742,  756,  776,  781,  863,  925, 1008, 1026, 1105, 1122,\n",
       "         1178, 1236, 1237, 1323, 1347, 1406, 1477, 1498])],\n",
       " [array([  8,  29,  30,  35,  44,  46,  66,  68, 103, 109, 113, 145, 177,\n",
       "         182, 236, 239, 251, 253, 260, 276, 280, 328, 334, 348, 349, 354,\n",
       "         360, 375, 399, 408])],\n",
       " [array([ 0,  1,  4,  7, 13, 14, 17, 18, 19, 21, 23, 24, 25, 30, 32, 35, 36,\n",
       "         37, 39, 40, 42, 44, 45, 48, 51, 52, 53, 55, 56, 58])],\n",
       " tensor([0.5514, 0.5000, 0.5275, 0.6505, 0.7444]))"
      ]
     },
     "execution_count": 66,
     "metadata": {},
     "output_type": "execute_result"
    }
   ],
   "source": [
    "ds[0]"
   ]
  },
  {
   "cell_type": "code",
   "execution_count": 30,
   "metadata": {
    "ExecuteTime": {
     "end_time": "2021-03-24T14:51:31.826643Z",
     "start_time": "2021-03-24T14:51:31.818231Z"
    }
   },
   "outputs": [
    {
     "data": {
      "text/plain": [
       "(torch.Size([1526, 24]),\n",
       " torch.Size([459, 512]),\n",
       " torch.Size([60, 768]),\n",
       " torch.Size([5]))"
      ]
     },
     "execution_count": 30,
     "metadata": {},
     "output_type": "execute_result"
    }
   ],
   "source": [
    "audio.shape, face.shape, text.shape, label.shape"
   ]
  },
  {
   "cell_type": "code",
   "execution_count": null,
   "metadata": {},
   "outputs": [],
   "source": [
    "al = audio.shape[0]\n",
    "fl = face.shape[0]\n",
    "tl = text.shape[0]\n",
    "\n",
    "assert al == 1526\n",
    "assert fl == 459\n",
    "assert tl == 60"
   ]
  },
  {
   "cell_type": "code",
   "execution_count": 25,
   "metadata": {
    "ExecuteTime": {
     "end_time": "2021-03-24T14:50:19.524871Z",
     "start_time": "2021-03-24T14:50:19.515138Z"
    }
   },
   "outputs": [
    {
     "data": {
      "text/plain": [
       "array([0, 1, 2, 3])"
      ]
     },
     "execution_count": 25,
     "metadata": {},
     "output_type": "execute_result"
    }
   ],
   "source": [
    "np.linspace(0, 3, 4, dtype=int)"
   ]
  },
  {
   "cell_type": "code",
   "execution_count": 17,
   "metadata": {
    "ExecuteTime": {
     "end_time": "2021-03-24T14:41:02.449297Z",
     "start_time": "2021-03-24T14:41:02.444321Z"
    }
   },
   "outputs": [],
   "source": [
    "ds = TensorDatasetWithTransformer(train_ds)"
   ]
  },
  {
   "cell_type": "code",
   "execution_count": 27,
   "metadata": {
    "ExecuteTime": {
     "end_time": "2021-03-24T14:50:52.175205Z",
     "start_time": "2021-03-24T14:50:52.157796Z"
    }
   },
   "outputs": [
    {
     "data": {
      "text/plain": [
       "(tensor([[-1.7219e+00,  2.7733e+00, -8.3079e-04,  ...,  9.1841e-01,\n",
       "           2.5316e-01,  7.1584e-01],\n",
       "         [-1.7197e+00,  2.9463e+00,  3.3612e-01,  ...,  9.2970e-01,\n",
       "           3.9145e-01,  7.2137e-01],\n",
       "         [-1.7174e+00,  3.3067e+00,  6.6952e-01,  ...,  9.4596e-01,\n",
       "           4.8278e-01,  7.1030e-01],\n",
       "         ...,\n",
       "         [ 1.7259e+00,  1.6559e+00, -2.1393e-01,  ...,  6.6622e-01,\n",
       "          -2.3618e-01,  3.8720e-01],\n",
       "         [ 1.7282e+00,  2.0043e+00,  1.9660e-01,  ...,  7.1194e-01,\n",
       "          -2.1082e-01,  5.2063e-01],\n",
       "         [ 1.7304e+00,  2.3335e+00,  4.9705e-01,  ...,  7.1788e-01,\n",
       "          -3.0368e-01,  5.4108e-01]]),\n",
       " tensor([[1.0537, 0.4731, 0.2720,  ..., 0.8538, 0.8822, 1.0834],\n",
       "         [1.1153, 0.2641, 1.1917,  ..., 0.6055, 1.5155, 0.5456],\n",
       "         [1.1148, 0.0180, 1.0736,  ..., 1.0421, 1.7672, 0.2304],\n",
       "         ...,\n",
       "         [0.0000, 0.0000, 0.0000,  ..., 0.0000, 0.0000, 0.0000],\n",
       "         [0.0000, 0.0000, 0.0000,  ..., 0.0000, 0.0000, 0.0000],\n",
       "         [0.0000, 0.0000, 0.0000,  ..., 0.0000, 0.0000, 0.0000]]),\n",
       " tensor([[-0.1528, -0.3227, -0.2083,  ..., -0.1850,  0.8483,  0.4139],\n",
       "         [ 0.6335, -0.1525,  0.5027,  ...,  0.2711,  0.8521,  0.5942],\n",
       "         [ 0.1439,  0.1660,  0.2751,  ...,  0.0264,  0.6697,  0.0868],\n",
       "         ...,\n",
       "         [-0.1634,  0.0276,  0.0400,  ..., -0.2316,  0.1508,  0.0370],\n",
       "         [-0.1559,  0.0973, -0.0256,  ..., -0.1699,  0.1738,  0.0285],\n",
       "         [ 0.2572,  0.2130,  0.2203,  ...,  0.5191,  0.0413, -0.0981]]),\n",
       " tensor([0.3925, 0.4271, 0.5165, 0.4757, 0.4667]))"
      ]
     },
     "execution_count": 27,
     "metadata": {},
     "output_type": "execute_result"
    }
   ],
   "source": [
    "ds[1]"
   ]
  },
  {
   "cell_type": "code",
   "execution_count": 31,
   "metadata": {
    "ExecuteTime": {
     "end_time": "2021-03-24T14:53:39.130630Z",
     "start_time": "2021-03-24T14:53:39.124946Z"
    }
   },
   "outputs": [],
   "source": [
    "audio, face, text, label = ds[1]"
   ]
  },
  {
   "cell_type": "code",
   "execution_count": null,
   "metadata": {},
   "outputs": [],
   "source": []
  }
 ],
 "metadata": {
  "kernelspec": {
   "display_name": "Python 3",
   "language": "python",
   "name": "python3"
  },
  "language_info": {
   "codemirror_mode": {
    "name": "ipython",
    "version": 3
   },
   "file_extension": ".py",
   "mimetype": "text/x-python",
   "name": "python",
   "nbconvert_exporter": "python",
   "pygments_lexer": "ipython3",
   "version": "3.7.6"
  },
  "toc": {
   "base_numbering": 1,
   "nav_menu": {},
   "number_sections": false,
   "sideBar": true,
   "skip_h1_title": false,
   "title_cell": "Table of Contents",
   "title_sidebar": "Contents",
   "toc_cell": false,
   "toc_position": {},
   "toc_section_display": true,
   "toc_window_display": false
  }
 },
 "nbformat": 4,
 "nbformat_minor": 2
}
